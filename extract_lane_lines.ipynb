{
 "cells": [
  {
   "cell_type": "markdown",
   "metadata": {},
   "source": [
    "# Project 4: advanced lane lines.\n",
    "\n",
    "The goals / steps of this project are the following:\n",
    "\n",
    "* Compute the camera calibration matrix and distortion coefficients given a set of chessboard images.\n",
    "* Apply a distortion correction to raw images.\n",
    "* Use color transforms, gradients, etc., to create a thresholded binary image.\n",
    "* Apply a perspective transform to rectify binary image (\"birds-eye view\").\n",
    "* Detect lane pixels and fit to find the lane boundary.\n",
    "* Determine the curvature of the lane and vehicle position with respect to center.\n",
    "* Warp the detected lane boundaries back onto the original image.\n",
    "* Output visual display of the lane boundaries and numerical estimation of lane curvature and vehicle position."
   ]
  },
  {
   "cell_type": "markdown",
   "metadata": {},
   "source": [
    "## Read in images, Compute object points and image points"
   ]
  },
  {
   "cell_type": "code",
   "execution_count": 1,
   "metadata": {},
   "outputs": [
    {
     "name": "stdout",
     "output_type": "stream",
     "text": [
      "Object points and image points are computed.\n"
     ]
    }
   ],
   "source": [
    "import cv2\n",
    "import os\n",
    "import glob\n",
    "import numpy as np\n",
    "import matplotlib.pyplot as plt\n",
    "import matplotlib.image as mpimg\n",
    "%matplotlib inline\n",
    "\n",
    "# Read in and make a list of calibration images\n",
    "images = glob.glob(\"./camera_cal/calibration*.jpg\")\n",
    "\n",
    "# object points and image points\n",
    "objpoints =[]\n",
    "imgpoints =[]\n",
    "nx = 9\n",
    "ny = 6\n",
    "objp = np.zeros((nx * ny, 3), np.float32)\n",
    "objp[:,:2] = np.mgrid[0:nx, 0:ny].T.reshape(-1,2)\n",
    "\n",
    "# calculate object points and image points\n",
    "count = 1\n",
    "for fname in images:\n",
    "    # read in each image\n",
    "    img = cv2.imread(fname)\n",
    "    \n",
    "    # convert image to gray scale\n",
    "    gray = cv2.cvtColor(img,cv2.COLOR_BGR2GRAY)\n",
    "    # find the chessboard corners\n",
    "    ret, corners = cv2.findChessboardCorners(gray, (nx, ny), None)\n",
    "    \n",
    "    if ret == True:\n",
    "        imgpoints.append(corners)\n",
    "        objpoints.append(objp)\n",
    "        img = cv2.drawChessboardCorners(img, (nx,ny), corners, ret)\n",
    "        cv2.imwrite(os.path.join('./output_images/corners/', 'corner'+ str(count) + '.jpg'), img)\n",
    "        count+=1\n",
    "   \n",
    "print(\"Object points and image points are computed.\")"
   ]
  },
  {
   "cell_type": "markdown",
   "metadata": {},
   "source": [
    "## cal_undistort function\n",
    "calculating the distortion coeffs, mapping matrix and undistort the image."
   ]
  },
  {
   "cell_type": "code",
   "execution_count": 2,
   "metadata": {},
   "outputs": [],
   "source": [
    "def cal_undistort(img, objpoints, imgpoints):\n",
    "    # use cv2.calibrateCamera() and cv2.undistort()\n",
    "    gray = cv2.cvtColor(img,cv2.COLOR_RGB2GRAY)\n",
    "    # only image shape needed\n",
    "    ret, mtx, dist, rvecs, tvecs = cv2.calibrateCamera(objpoints, imgpoints, gray.shape[::-1], None, None)\n",
    "    undist = cv2.undistort(img, mtx, dist, None, mtx)    \n",
    "    return undist "
   ]
  },
  {
   "cell_type": "markdown",
   "metadata": {},
   "source": [
    "## An example of a distortion corrected calibration image"
   ]
  },
  {
   "cell_type": "code",
   "execution_count": null,
   "metadata": {},
   "outputs": [],
   "source": [
    "chess_img = mpimg.imread(\"./camera_cal/calibration2.jpg\")\n",
    "chess_undistorted = cal_undistort(chess_img, objpoints, imgpoints)\n",
    "\n",
    "f, (ax1, ax2) = plt.subplots(1, 2, figsize=(24, 9))\n",
    "f.tight_layout()\n",
    "ax1.imshow(chess_img)\n",
    "ax1.set_title('Original Image', fontsize=50)\n",
    "ax2.imshow(chess_undistorted)\n",
    "ax2.set_title('Undistorted Image', fontsize=50)\n",
    "plt.subplots_adjust(left=0., right=1, top=0.9, bottom=0.)"
   ]
  },
  {
   "cell_type": "markdown",
   "metadata": {},
   "source": [
    "## binarizer and warper functions"
   ]
  },
  {
   "cell_type": "code",
   "execution_count": 3,
   "metadata": {},
   "outputs": [],
   "source": [
    "# the binarizer function to generate a binary image \n",
    "# by using color transform and gradients threshold\n",
    "def binarizer(img, s_thresh, sx_thresh):\n",
    "    img = np.copy(img)\n",
    "    # Convert to HLS color space and separate the V channel\n",
    "    hls = cv2.cvtColor(img, cv2.COLOR_RGB2HLS)\n",
    "    # l_channel = hls[:,:,1]\n",
    "    s_channel = hls[:,:,2]\n",
    "    # Sobel x\n",
    "    gray = cv2.cvtColor(img, cv2.COLOR_RGB2GRAY)\n",
    "    sobelx = cv2.Sobel(gray, cv2.CV_64F, 1, 0) # Take the derivative in x\n",
    "    abs_sobelx = np.absolute(sobelx) # Absolute x derivative to accentuate lines away from horizontal\n",
    "    scaled_sobel = np.uint8(255*abs_sobelx/np.max(abs_sobelx))\n",
    "    \n",
    "    # Threshold x gradient\n",
    "    sxbinary = np.zeros_like(scaled_sobel)\n",
    "    sxbinary[(scaled_sobel >= sx_thresh[0]) & (scaled_sobel <= sx_thresh[1])] = 1\n",
    "    \n",
    "    # Threshold color channel\n",
    "    s_binary = np.zeros_like(s_channel)\n",
    "    s_binary[(s_channel >= s_thresh[0]) & (s_channel <= s_thresh[1])] = 1\n",
    "    # Combine the two binary thresholds\n",
    "    combined_binary = np.zeros_like(sxbinary)\n",
    "    combined_binary[(s_binary == 1) | (sxbinary == 1)] = 1\n",
    "    return combined_binary\n",
    "\n",
    "#the warper function to do the perspective tranform\n",
    "def warper(img, src, dst):\n",
    "\n",
    "    # Compute and apply perpective transform\n",
    "    img_size = (img.shape[1], img.shape[0])\n",
    "    M = cv2.getPerspectiveTransform(src, dst)\n",
    "    warped = cv2.warpPerspective(img, M, img_size, flags=cv2.INTER_NEAREST)  # keep same size as input image\n",
    "\n",
    "    return warped"
   ]
  },
  {
   "cell_type": "markdown",
   "metadata": {},
   "source": [
    "## An example of a undistorted image and binary image"
   ]
  },
  {
   "cell_type": "code",
   "execution_count": null,
   "metadata": {
    "scrolled": true
   },
   "outputs": [],
   "source": [
    "img = mpimg.imread(\"./test_images/test2.jpg\")\n",
    "undistorted = cal_undistort(img, objpoints, imgpoints)\n",
    "sx_thresh = (40, 100) #  (40, 100)\n",
    "s_thresh = (170, 255) # (170, 255)\n",
    "binary = binarizer(undistorted, s_thresh, sx_thresh)\n",
    "\n",
    "f, (ax1, ax2) = plt.subplots(1, 2, figsize=(24, 9))\n",
    "f.tight_layout()\n",
    "ax1.imshow(undistorted)\n",
    "ax1.set_title('Undistorted Image', fontsize=50)\n",
    "ax2.imshow(binary, cmap='gray')\n",
    "ax2.set_title('Binary Image', fontsize=50)\n",
    "plt.subplots_adjust(left=0., right=1, top=0.9, bottom=0.)\n",
    "\n",
    "# cv2.imwrite(os.path.join('./output_images/', 'example_undistort.jpg'), cv2.cvtColor(undistorted, cv2.COLOR_RGB2BGR) )"
   ]
  },
  {
   "cell_type": "markdown",
   "metadata": {},
   "source": [
    "## An example of bird view"
   ]
  },
  {
   "cell_type": "code",
   "execution_count": null,
   "metadata": {},
   "outputs": [],
   "source": [
    "def weighted_img(img, initial_img, α=0.8, β=1, λ=0.):\n",
    "\n",
    "    return cv2.addWeighted(initial_img, α, img, β, λ) # initial_img * α + img * β + λ\n",
    "\n",
    "img_size = undistorted.shape;\n",
    "\n",
    "# src = np.float32([[525, 500], [760, 500], [269, 674], [1029, 674]]) # Trapzoid \n",
    "src = np.float32([[595, 450], [685, 450], [269, 674], [1029, 674]]) # Trapzoid \n",
    "dst = np.float32([[369, 0], [929, 0], [369, 720], [929, 720]])  # Rectangal\n",
    "\n",
    "# warped = warper(undistorted, src, dst)\n",
    "binary_warped = warper(binary, src, dst)\n",
    "warped_undistorted = warper(undistorted, src, dst)\n",
    "f, (ax1, ax2) = plt.subplots(1, 2, figsize=(24, 9))\n",
    "f.tight_layout()\n",
    "\n",
    "thickness = 12\n",
    "line_image1 = np.zeros(undistorted.shape, np.uint8)\n",
    "pts1 = np.array([[595, 450], [685, 450], [1029, 674], [269, 674]], np.int32)\n",
    "pts1 = pts1.reshape((-1,1,2))\n",
    "line_image1 = cv2.polylines(line_image1,[pts1],True,(255,0,0), thickness)\n",
    "\n",
    "line_image2 = np.zeros(undistorted.shape, np.uint8)\n",
    "pts2 = np.array([[369, 0], [929, 0], [929, 720], [369, 720]], np.int32)\n",
    "pts2 = pts2.reshape((-1,1,2))\n",
    "line_image2 = cv2.polylines(line_image2,[pts2],True,(255,0,0), thickness)\n",
    "# ax1.imshow(undistorted)\n",
    "# ax1.set_title('Undistorted Image', fontsize=50) \n",
    "weighted_undistorted = weighted_img(line_image1, undistorted)\n",
    "weighted_warped      = weighted_img(line_image2, warped_undistorted)\n",
    "\n",
    "ax1.imshow(weighted_undistorted)\n",
    "ax1.set_title('Undistorted Image', fontsize=50)\n",
    "ax2.imshow(weighted_warped, cmap='gray')\n",
    "ax2.set_title('Warped Image', fontsize=50)\n",
    "plt.subplots_adjust(left=0., right=1, top=0.9, bottom=0.)"
   ]
  },
  {
   "cell_type": "markdown",
   "metadata": {},
   "source": [
    "## Find the lanes by using sliding windows\n"
   ]
  },
  {
   "cell_type": "code",
   "execution_count": null,
   "metadata": {},
   "outputs": [],
   "source": [
    "# Assuming you have created a warped binary image called \"binary_warped\"\n",
    "# Take a histogram of the bottom half of the image\n",
    "\n",
    "histogram = np.sum(binary_warped[binary_warped.shape[0]//2:,:], axis=0)\n",
    "# Create an output image to draw on and  visualize the result\n",
    "out_img = np.dstack((binary_warped, binary_warped, binary_warped))*255\n",
    "# Find the peak of the left and right halves of the histogram\n",
    "# These will be the starting point for the left and right lines\n",
    "midpoint = np.int(histogram.shape[0]/2)\n",
    "leftx_base = np.argmax(histogram[:midpoint])\n",
    "rightx_base = np.argmax(histogram[midpoint:]) + midpoint\n",
    "\n",
    "# Choose the number of sliding windows\n",
    "nwindows = 9\n",
    "# Set height of windows\n",
    "window_height = np.int(binary_warped.shape[0]/nwindows)\n",
    "# Identify the x and y positions of all nonzero pixels in the image\n",
    "nonzero = binary_warped.nonzero()\n",
    "nonzeroy = np.array(nonzero[0])\n",
    "nonzerox = np.array(nonzero[1])\n",
    "# Current positions to be updated for each window\n",
    "leftx_current = leftx_base\n",
    "rightx_current = rightx_base\n",
    "# Set the width of the windows +/- margin\n",
    "margin = 80\n",
    "# Set minimum number of pixels found to recenter window\n",
    "minpix = 40\n",
    "# Create empty lists to receive left and right lane pixel indices\n",
    "left_lane_inds = []\n",
    "right_lane_inds = []\n",
    "\n",
    "# Step through the windows one by one\n",
    "for window in range(nwindows):\n",
    "    # Identify window boundaries in x and y (and right and left)\n",
    "    win_y_low = binary_warped.shape[0] - (window+1)* window_height\n",
    "    win_y_high = binary_warped.shape[0] - window * window_height\n",
    "    win_xleft_low = leftx_current - margin\n",
    "    win_xleft_high = leftx_current + margin\n",
    "    win_xright_low = rightx_current - margin\n",
    "    win_xright_high = rightx_current + margin\n",
    "    # Draw the windows on the visualization image\n",
    "    cv2.rectangle(out_img,(win_xleft_low, win_y_low),(win_xleft_high, win_y_high),(0,255,0), 3) \n",
    "    cv2.rectangle(out_img,(win_xright_low, win_y_low),(win_xright_high, win_y_high), (0,255,0), 3) \n",
    "    # Identify the nonzero pixels in x and y within the window\n",
    "    good_left_inds = ((nonzeroy >= win_y_low) & (nonzeroy < win_y_high) & \n",
    "    (nonzerox >= win_xleft_low) &  (nonzerox < win_xleft_high)).nonzero()[0]\n",
    "    good_right_inds = ((nonzeroy >= win_y_low) & (nonzeroy < win_y_high) & \n",
    "    (nonzerox >= win_xright_low) &  (nonzerox < win_xright_high)).nonzero()[0]\n",
    "    # Append these indices to the lists\n",
    "    left_lane_inds.append(good_left_inds)\n",
    "    right_lane_inds.append(good_right_inds)\n",
    "    # If you found > minpix pixels, recenter next window on their mean position\n",
    "    if len(good_left_inds) > minpix:\n",
    "        leftx_current = np.int(np.mean(nonzerox[good_left_inds]))\n",
    "    if len(good_right_inds) > minpix:        \n",
    "        rightx_current = np.int(np.mean(nonzerox[good_right_inds]))\n",
    "\n",
    "# Concatenate the arrays of indices\n",
    "left_lane_inds = np.concatenate(left_lane_inds)\n",
    "right_lane_inds = np.concatenate(right_lane_inds)\n",
    "\n",
    "# Extract left and right line pixel positions\n",
    "leftx = nonzerox[left_lane_inds]\n",
    "lefty = nonzeroy[left_lane_inds] \n",
    "rightx = nonzerox[right_lane_inds]\n",
    "righty = nonzeroy[right_lane_inds] \n",
    "\n",
    "# Fit a second order polynomial to each\n",
    "left_fit = np.polyfit(lefty, leftx, 2)\n",
    "right_fit = np.polyfit(righty, rightx, 2)"
   ]
  },
  {
   "cell_type": "markdown",
   "metadata": {},
   "source": [
    "## Visualize the fitting polynomials"
   ]
  },
  {
   "cell_type": "code",
   "execution_count": null,
   "metadata": {
    "scrolled": true
   },
   "outputs": [],
   "source": [
    "# Generate x and y values for plotting\n",
    "ploty = np.linspace(0, binary_warped.shape[0]-1, binary_warped.shape[0] )\n",
    "left_fitx = left_fit[0]*ploty**2 + left_fit[1]*ploty + left_fit[2]\n",
    "right_fitx = right_fit[0]*ploty**2 + right_fit[1]*ploty + right_fit[2]\n",
    "\n",
    "# set color\n",
    "out_img[nonzeroy[left_lane_inds], nonzerox[left_lane_inds]] = [255, 0, 0]\n",
    "out_img[nonzeroy[right_lane_inds], nonzerox[right_lane_inds]] = [0, 0, 255]\n",
    "plt.imshow(out_img)\n",
    "\n",
    "#plot the fit polynomianls for both lane lines.\n",
    "plt.plot(left_fitx, ploty, color='yellow')\n",
    "plt.plot(right_fitx, ploty, color='yellow')\n",
    "plt.xlim(0, 1280)\n",
    "plt.ylim(720, 0)\n",
    "# plt.savefig('example_fit_lines.jpg')"
   ]
  },
  {
   "cell_type": "markdown",
   "metadata": {},
   "source": [
    "## Compute curvature and position"
   ]
  },
  {
   "cell_type": "code",
   "execution_count": null,
   "metadata": {},
   "outputs": [],
   "source": [
    "ym_per_pix = 30/720 # meters per pixel in y dimension\n",
    "xm_per_pix = 3.7/700 # meters per pixel in x dimension\n",
    "y_eval = np.max(ploty)\n",
    "# Fit new polynomials to x,y in world space\n",
    "left_fit_cr = np.polyfit(ploty*ym_per_pix, left_fitx*xm_per_pix, 2)\n",
    "right_fit_cr = np.polyfit(ploty*ym_per_pix, right_fitx*xm_per_pix, 2)\n",
    "# Calculate the new radii of curvature\n",
    "left_curverad = ((1 + (2*left_fit_cr[0]*y_eval*ym_per_pix + left_fit_cr[1])**2)**1.5) / np.absolute(2*left_fit_cr[0])\n",
    "right_curverad = ((1 + (2*right_fit_cr[0]*y_eval*ym_per_pix + right_fit_cr[1])**2)**1.5) / np.absolute(2*right_fit_cr[0])\n",
    "# Now our radius of curvature is in meters\n",
    "mean_curverad = 2.0*left_curverad*right_curverad/(left_curverad + right_curverad)\n",
    "mean_curverad = \"%.1f\" % (mean_curverad *10 /10)\n",
    "print(left_curverad, 'm', right_curverad, 'm', mean_curverad, 'm')\n",
    "offset = ((left_fitx[-1] + right_fitx[-1])/2.0 - 640 ) * xm_per_pix\n",
    "offset = \"%.2f\" % (offset *100 /100)\n",
    "print(offset, 'm')\n"
   ]
  },
  {
   "cell_type": "code",
   "execution_count": null,
   "metadata": {},
   "outputs": [],
   "source": [
    "# Create an image to draw the lines on\n",
    "warp_zero = np.zeros_like(binary_warped).astype(np.uint8)\n",
    "color_warp = np.dstack((warp_zero, warp_zero, warp_zero))\n",
    "\n",
    "# Recast the x and y points into usable format for cv2.fillPoly()\n",
    "pts_left = np.array([np.transpose(np.vstack([left_fitx, ploty]))])\n",
    "pts_right = np.array([np.flipud(np.transpose(np.vstack([right_fitx, ploty])))])\n",
    "pts = np.hstack((pts_left, pts_right))\n",
    "\n",
    "# Draw the lane onto the warped blank image\n",
    "cv2.fillPoly(color_warp, np.int_([pts]), (0,255, 0))\n",
    "Minv = cv2.getPerspectiveTransform(dst, src)\n",
    "# Warp the blank back to original image space using inverse perspective matrix (Minv)\n",
    "newwarp = cv2.warpPerspective(color_warp, Minv, (img.shape[1], img.shape[0])) \n",
    "# Combine the result with the original image\n",
    "result = cv2.addWeighted(undistorted, 1, newwarp, 0.3, 0)\n",
    "text_string1 = 'Radius of Curvature = ' + str(mean_curverad) +'m'\n",
    "text_string2 = 'Vehicle is ' + str(offset) + 'm left of center'\n",
    "cv2.putText(result, text_string1, (50, 70), cv2.FONT_HERSHEY_SIMPLEX, fontScale=1.5, color=(255,255,255), thickness=3)\n",
    "cv2.putText(result, text_string2, (50, 150), cv2.FONT_HERSHEY_SIMPLEX, fontScale=1.5, color=(255,255,255), thickness=3)\n",
    "plt.imshow(result)\n",
    "# cv2.imwrite(os.path.join('./output_images/', 'example_output.jpg'), cv2.cvtColor(result, cv2.COLOR_RGB2BGR))"
   ]
  },
  {
   "cell_type": "markdown",
   "metadata": {},
   "source": [
    "## Test on Videos"
   ]
  },
  {
   "cell_type": "code",
   "execution_count": 4,
   "metadata": {},
   "outputs": [],
   "source": [
    "# Import everything needed to edit/save/watch video clips\n",
    "from moviepy.editor import VideoFileClip\n",
    "from IPython.display import HTML"
   ]
  },
  {
   "cell_type": "markdown",
   "metadata": {},
   "source": [
    "## Pipeline\n",
    "summarize the pipeline which includes:\n",
    "* calibration\n",
    "* thresholded by color transform and gradient\n",
    "* perspective transform\n",
    "* sliding search windows for finding lane lines\n",
    "* polynomial fitting and compute position\n",
    "* drawing the region"
   ]
  },
  {
   "cell_type": "code",
   "execution_count": 16,
   "metadata": {},
   "outputs": [],
   "source": [
    "global_counter = 1\n",
    "\n",
    "def process_image(image):\n",
    "    global global_counter\n",
    "    global left_fit, right_fit\n",
    "    global mtx, dist\n",
    "    # NOTE: The output you return should be a color image (3 channel) for processing video below\n",
    "\n",
    "    if (global_counter == 1) : \n",
    "        gray = cv2.cvtColor(image,cv2.COLOR_RGB2GRAY)\n",
    "        # only image shape needed\n",
    "        ret, mtx, dist, rvecs, tvecs = cv2.calibrateCamera(objpoints, imgpoints, gray.shape[::-1], None, None)\n",
    "        \n",
    "    undistorted = cv2.undistort(image, mtx, dist, None, mtx)\n",
    "    sx_thresh = (40, 100)\n",
    "    s_thresh = (160, 200)\n",
    "    binary = binarizer(undistorted, s_thresh, sx_thresh)\n",
    "    binary_warped = warper(binary, src, dst)\n",
    "\n",
    "\n",
    "    if (global_counter == 1) :  # first frame\n",
    "        # Assuming you have created a warped binary image called \"binary_warped\"\n",
    "        # Take a histogram of the bottom half of the image\n",
    "        histogram = np.sum(binary_warped[binary_warped.shape[0]//2:,:], axis=0)\n",
    "        # Create an output image to draw on and  visualize the result\n",
    "        out_img = np.dstack((binary_warped, binary_warped, binary_warped))*255\n",
    "        # Find the peak of the left and right halves of the histogram\n",
    "        # These will be the starting point for the left and right lines\n",
    "        midpoint = np.int(histogram.shape[0]/2)\n",
    "        leftx_base = np.argmax(histogram[:midpoint])\n",
    "        rightx_base = np.argmax(histogram[midpoint:]) + midpoint\n",
    "\n",
    "        # Choose the number of sliding windows\n",
    "        nwindows = 9\n",
    "        # Set height of windows\n",
    "        window_height = np.int(binary_warped.shape[0]/nwindows)\n",
    "        # Identify the x and y positions of all nonzero pixels in the image\n",
    "        nonzero = binary_warped.nonzero()\n",
    "        nonzeroy = np.array(nonzero[0])\n",
    "        nonzerox = np.array(nonzero[1])\n",
    "        # Current positions to be updated for each window\n",
    "        leftx_current = leftx_base\n",
    "        rightx_current = rightx_base\n",
    "        # Set the width of the windows +/- margin\n",
    "        margin = 80\n",
    "        # Set minimum number of pixels found to recenter window\n",
    "        minpix = 40\n",
    "        # Create empty lists to receive left and right lane pixel indices\n",
    "        left_lane_inds = []\n",
    "        right_lane_inds = []\n",
    "\n",
    "        # Step through the windows one by one\n",
    "        for window in range(nwindows):\n",
    "            # Identify window boundaries in x and y (and right and left)\n",
    "            win_y_low = binary_warped.shape[0] - (window+1)* window_height\n",
    "            win_y_high = binary_warped.shape[0] - window * window_height\n",
    "            win_xleft_low = leftx_current - margin\n",
    "            win_xleft_high = leftx_current + margin\n",
    "            win_xright_low = rightx_current - margin\n",
    "            win_xright_high = rightx_current + margin\n",
    "            # Draw the windows on the visualization image\n",
    "            cv2.rectangle(out_img,(win_xleft_low, win_y_low),(win_xleft_high, win_y_high),(0,255,0), 3) \n",
    "            cv2.rectangle(out_img,(win_xright_low, win_y_low),(win_xright_high, win_y_high), (0,255,0), 3) \n",
    "            # Identify the nonzero pixels in x and y within the window\n",
    "            good_left_inds = ((nonzeroy >= win_y_low) & (nonzeroy < win_y_high) & \n",
    "            (nonzerox >= win_xleft_low) &  (nonzerox < win_xleft_high)).nonzero()[0]\n",
    "            good_right_inds = ((nonzeroy >= win_y_low) & (nonzeroy < win_y_high) & \n",
    "            (nonzerox >= win_xright_low) &  (nonzerox < win_xright_high)).nonzero()[0]\n",
    "            # Append these indices to the lists\n",
    "            left_lane_inds.append(good_left_inds)\n",
    "            right_lane_inds.append(good_right_inds)\n",
    "            # If you found > minpix pixels, recenter next window on their mean position\n",
    "            if len(good_left_inds) > minpix:\n",
    "                leftx_current = np.int(np.mean(nonzerox[good_left_inds]))\n",
    "            if len(good_right_inds) > minpix:        \n",
    "                rightx_current = np.int(np.mean(nonzerox[good_right_inds]))\n",
    "        # Concatenate the arrays of indices\n",
    "        left_lane_inds = np.concatenate(left_lane_inds)\n",
    "        right_lane_inds = np.concatenate(right_lane_inds)\n",
    "\n",
    "        # Extract left and right line pixel positions\n",
    "        leftx = nonzerox[left_lane_inds]\n",
    "        lefty = nonzeroy[left_lane_inds] \n",
    "        rightx = nonzerox[right_lane_inds]\n",
    "        righty = nonzeroy[right_lane_inds] \n",
    "\n",
    "        # Fit a second order polynomial to each\n",
    "        left_fit = np.polyfit(lefty, leftx, 2)\n",
    "        right_fit = np.polyfit(righty, rightx, 2)\n",
    "        \n",
    "    else:  #known the lane line from previous frame\n",
    "        # Assume you now have a new warped binary image \n",
    "        # from the next frame of video (also called \"binary_warped\")\n",
    "        # It's now much easier to find line pixels!\n",
    "        nonzero = binary_warped.nonzero()\n",
    "        nonzeroy = np.array(nonzero[0])\n",
    "        nonzerox = np.array(nonzero[1])\n",
    "        margin = 100\n",
    "        left_lane_inds = ((nonzerox > (left_fit[0]*(nonzeroy**2) + left_fit[1]*nonzeroy + \n",
    "        left_fit[2] - margin)) & (nonzerox < (left_fit[0]*(nonzeroy**2) + \n",
    "        left_fit[1]*nonzeroy + left_fit[2] + margin))) \n",
    "\n",
    "        right_lane_inds = ((nonzerox > (right_fit[0]*(nonzeroy**2) + right_fit[1]*nonzeroy + \n",
    "        right_fit[2] - margin)) & (nonzerox < (right_fit[0]*(nonzeroy**2) + \n",
    "        right_fit[1]*nonzeroy + right_fit[2] + margin)))  \n",
    "\n",
    "        # Again, extract left and right line pixel positions\n",
    "        leftx = nonzerox[left_lane_inds]\n",
    "        lefty = nonzeroy[left_lane_inds] \n",
    "        rightx = nonzerox[right_lane_inds]\n",
    "        righty = nonzeroy[right_lane_inds]\n",
    "        # Fit a second order polynomial to each\n",
    "        left_fit = np.polyfit(lefty, leftx, 2)\n",
    "        right_fit = np.polyfit(righty, rightx, 2)\n",
    "        # Generate x and y values for plotting\n",
    "        # ploty = np.linspace(0, binary_warped.shape[0]-1, binary_warped.shape[0] )\n",
    "        # left_fitx = left_fit[0]*ploty**2 + left_fit[1]*ploty + left_fit[2]\n",
    "        # right_fitx = right_fit[0]*ploty**2 + right_fit[1]*ploty + right_fit[2]\n",
    "        \n",
    "    # Generate x and y values for plotting\n",
    "    ploty = np.linspace(0, binary_warped.shape[0]-1, binary_warped.shape[0] )\n",
    "    left_fitx = left_fit[0]*ploty**2 + left_fit[1]*ploty + left_fit[2]\n",
    "    right_fitx = right_fit[0]*ploty**2 + right_fit[1]*ploty + right_fit[2]    \n",
    "    \n",
    "    ym_per_pix = 30/720 # meters per pixel in y dimension\n",
    "    xm_per_pix = 3.7/700 # meters per pixel in x dimension\n",
    "    y_eval = np.max(ploty)\n",
    "    # Fit new polynomials to x,y in world space\n",
    "    left_fit_cr = np.polyfit(ploty*ym_per_pix, left_fitx*xm_per_pix, 2)\n",
    "    right_fit_cr = np.polyfit(ploty*ym_per_pix, right_fitx*xm_per_pix, 2)\n",
    "    # Calculate the new radii of curvature\n",
    "    left_curverad = ((1 + (2*left_fit_cr[0]*y_eval*ym_per_pix + left_fit_cr[1])**2)**1.5) / np.absolute(2*left_fit_cr[0])\n",
    "    right_curverad = ((1 + (2*right_fit_cr[0]*y_eval*ym_per_pix + right_fit_cr[1])**2)**1.5) / np.absolute(2*right_fit_cr[0])\n",
    "    # Now our radius of curvature is in meters\n",
    "    mean_curverad = 2.0*left_curverad*right_curverad/(left_curverad + right_curverad)\n",
    "    mean_curverad = \"%.1f\" % (mean_curverad *10 /10)\n",
    "    offset = ((left_fitx[-1] + right_fitx[-1])/2.0 - 640 ) * xm_per_pix\n",
    "    offset = \"%.2f\" % (offset *100 /100)\n",
    "    \n",
    "    # Generate x and y values for plotting\n",
    "    ploty = np.linspace(0, binary_warped.shape[0]-1, binary_warped.shape[0] )\n",
    "    left_fitx = left_fit[0]*ploty**2 + left_fit[1]*ploty + left_fit[2]\n",
    "    right_fitx = right_fit[0]*ploty**2 + right_fit[1]*ploty + right_fit[2]\n",
    "    \n",
    "    \n",
    "    # Create an image to draw the lines on\n",
    "    warp_zero = np.zeros_like(binary_warped).astype(np.uint8)\n",
    "    color_warp = np.dstack((warp_zero, warp_zero, warp_zero))\n",
    "\n",
    "    # Recast the x and y points into usable format for cv2.fillPoly()\n",
    "    pts_left = np.array([np.transpose(np.vstack([left_fitx, ploty]))])\n",
    "    pts_right = np.array([np.flipud(np.transpose(np.vstack([right_fitx, ploty])))])\n",
    "    pts = np.hstack((pts_left, pts_right))\n",
    "\n",
    "    # Draw the lane onto the warped blank image\n",
    "    cv2.fillPoly(color_warp, np.int_([pts]), (0,255, 0))\n",
    "    Minv = cv2.getPerspectiveTransform(dst, src)\n",
    "    # Warp the blank back to original image space using inverse perspective matrix (Minv)\n",
    "    newwarp = cv2.warpPerspective(color_warp, Minv, (img.shape[1], img.shape[0])) \n",
    "    # Combine the result with the original image\n",
    "    result = cv2.addWeighted(undistorted, 1, newwarp, 0.3, 0)\n",
    "    text_string1 = 'Radius of Curvature = ' + str(mean_curverad) +'m'\n",
    "    text_string2 = 'Vehicle is ' + str(offset) + 'm left of center'\n",
    "    cv2.putText(result, text_string1, (50, 70), cv2.FONT_HERSHEY_SIMPLEX, fontScale=1.5, color=(255,255,255), thickness=3)\n",
    "    cv2.putText(result, text_string2, (50, 150), cv2.FONT_HERSHEY_SIMPLEX, fontScale=1.5, color=(255,255,255), thickness=3)\n",
    "    \n",
    "    global_counter +=1 \n",
    "    print(\"Frame number: \", global_counter-1)\n",
    "    return result"
   ]
  },
  {
   "cell_type": "code",
   "execution_count": 20,
   "metadata": {},
   "outputs": [
    {
     "name": "stdout",
     "output_type": "stream",
     "text": [
      "Frame number:  1\n",
      "[MoviePy] >>>> Building video output_videos/project_video.mp4\n",
      "[MoviePy] Writing video output_videos/project_video.mp4\n"
     ]
    },
    {
     "name": "stderr",
     "output_type": "stream",
     "text": [
      "\n",
      "\r",
      "  0%|          | 0/1261 [00:00<?, ?it/s]"
     ]
    },
    {
     "name": "stdout",
     "output_type": "stream",
     "text": [
      "Frame number:  2\n"
     ]
    },
    {
     "name": "stderr",
     "output_type": "stream",
     "text": [
      "\u001b[A\n",
      "  0%|          | 2/1261 [00:00<02:38,  7.92it/s]"
     ]
    },
    {
     "name": "stdout",
     "output_type": "stream",
     "text": [
      "Frame number:  3\n"
     ]
    },
    {
     "name": "stderr",
     "output_type": "stream",
     "text": [
      "\u001b[A\n",
      "\r",
      "  0%|          | 4/1261 [00:00<02:20,  8.96it/s]"
     ]
    },
    {
     "name": "stdout",
     "output_type": "stream",
     "text": [
      "Frame number:  4\n",
      "Frame number:  5\n"
     ]
    },
    {
     "name": "stderr",
     "output_type": "stream",
     "text": [
      "\u001b[A\n",
      "  0%|          | 5/1261 [00:00<02:17,  9.10it/s]"
     ]
    },
    {
     "name": "stdout",
     "output_type": "stream",
     "text": [
      "Frame number:  6\n"
     ]
    },
    {
     "name": "stderr",
     "output_type": "stream",
     "text": [
      "\u001b[A\n",
      "  1%|          | 7/1261 [00:00<02:08,  9.78it/s]"
     ]
    },
    {
     "name": "stdout",
     "output_type": "stream",
     "text": [
      "Frame number:  7\n",
      "Frame number:  8\n"
     ]
    },
    {
     "name": "stderr",
     "output_type": "stream",
     "text": [
      "\u001b[A"
     ]
    },
    {
     "name": "stdout",
     "output_type": "stream",
     "text": [
      "Frame number:  9\n"
     ]
    },
    {
     "name": "stderr",
     "output_type": "stream",
     "text": [
      "\n",
      "  1%|          | 9/1261 [00:00<02:03, 10.12it/s]\u001b[A"
     ]
    },
    {
     "name": "stdout",
     "output_type": "stream",
     "text": [
      "Frame number:  10\n",
      "Frame number:  11\n"
     ]
    },
    {
     "name": "stderr",
     "output_type": "stream",
     "text": [
      "\n",
      "\r",
      "  1%|          | 11/1261 [00:01<01:57, 10.67it/s]"
     ]
    },
    {
     "name": "stdout",
     "output_type": "stream",
     "text": [
      "Frame number:  12\n"
     ]
    },
    {
     "name": "stderr",
     "output_type": "stream",
     "text": [
      "\u001b[A\n",
      "  1%|          | 13/1261 [00:01<01:51, 11.21it/s]"
     ]
    },
    {
     "name": "stdout",
     "output_type": "stream",
     "text": [
      "Frame number:  13\n",
      "Frame number:  14\n"
     ]
    },
    {
     "name": "stderr",
     "output_type": "stream",
     "text": [
      "\u001b[A"
     ]
    },
    {
     "name": "stdout",
     "output_type": "stream",
     "text": [
      "Frame number:  15\n"
     ]
    },
    {
     "name": "stderr",
     "output_type": "stream",
     "text": [
      "\n",
      "  1%|          | 15/1261 [00:01<01:49, 11.36it/s]\u001b[A"
     ]
    },
    {
     "name": "stdout",
     "output_type": "stream",
     "text": [
      "Frame number:  16\n",
      "Frame number:  17\n"
     ]
    },
    {
     "name": "stderr",
     "output_type": "stream",
     "text": [
      "\n",
      "\r",
      "  1%|▏         | 17/1261 [00:01<01:47, 11.52it/s]"
     ]
    },
    {
     "name": "stdout",
     "output_type": "stream",
     "text": [
      "Frame number:  18\n"
     ]
    },
    {
     "name": "stderr",
     "output_type": "stream",
     "text": [
      "\u001b[A\n",
      "  2%|▏         | 19/1261 [00:01<01:45, 11.80it/s]"
     ]
    },
    {
     "name": "stdout",
     "output_type": "stream",
     "text": [
      "Frame number:  19\n",
      "Frame number:  20\n"
     ]
    },
    {
     "name": "stderr",
     "output_type": "stream",
     "text": [
      "\u001b[A"
     ]
    },
    {
     "name": "stdout",
     "output_type": "stream",
     "text": [
      "Frame number:  21\n"
     ]
    },
    {
     "name": "stderr",
     "output_type": "stream",
     "text": [
      "\n",
      "  2%|▏         | 21/1261 [00:01<01:49, 11.34it/s]\u001b[A"
     ]
    },
    {
     "name": "stdout",
     "output_type": "stream",
     "text": [
      "Frame number:  22\n",
      "Frame number:  23\n"
     ]
    },
    {
     "name": "stderr",
     "output_type": "stream",
     "text": [
      "\n",
      "\r",
      "  2%|▏         | 23/1261 [00:02<01:45, 11.73it/s]"
     ]
    },
    {
     "name": "stdout",
     "output_type": "stream",
     "text": [
      "Frame number:  24\n"
     ]
    },
    {
     "name": "stderr",
     "output_type": "stream",
     "text": [
      "\u001b[A\n",
      "  2%|▏         | 25/1261 [00:02<01:43, 11.95it/s]"
     ]
    },
    {
     "name": "stdout",
     "output_type": "stream",
     "text": [
      "Frame number:  25\n",
      "Frame number:  26\n"
     ]
    },
    {
     "name": "stderr",
     "output_type": "stream",
     "text": [
      "\u001b[A"
     ]
    },
    {
     "name": "stdout",
     "output_type": "stream",
     "text": [
      "Frame number:  27\n"
     ]
    },
    {
     "name": "stderr",
     "output_type": "stream",
     "text": [
      "\n",
      "  2%|▏         | 27/1261 [00:02<01:44, 11.77it/s]\u001b[A"
     ]
    },
    {
     "name": "stdout",
     "output_type": "stream",
     "text": [
      "Frame number:  28\n",
      "Frame number:  29\n"
     ]
    },
    {
     "name": "stderr",
     "output_type": "stream",
     "text": [
      "\n",
      "\r",
      "  2%|▏         | 29/1261 [00:02<01:44, 11.82it/s]"
     ]
    },
    {
     "name": "stdout",
     "output_type": "stream",
     "text": [
      "Frame number:  30\n"
     ]
    },
    {
     "name": "stderr",
     "output_type": "stream",
     "text": [
      "\u001b[A\n",
      "  2%|▏         | 31/1261 [00:02<01:43, 11.89it/s]"
     ]
    },
    {
     "name": "stdout",
     "output_type": "stream",
     "text": [
      "Frame number:  31\n",
      "Frame number:  32\n"
     ]
    },
    {
     "name": "stderr",
     "output_type": "stream",
     "text": [
      "\u001b[A"
     ]
    },
    {
     "name": "stdout",
     "output_type": "stream",
     "text": [
      "Frame number:  33\n"
     ]
    },
    {
     "name": "stderr",
     "output_type": "stream",
     "text": [
      "\n",
      "  3%|▎         | 33/1261 [00:02<01:46, 11.49it/s]\u001b[A"
     ]
    },
    {
     "name": "stdout",
     "output_type": "stream",
     "text": [
      "Frame number:  34\n",
      "Frame number:  35\n"
     ]
    },
    {
     "name": "stderr",
     "output_type": "stream",
     "text": [
      "\n",
      "\r",
      "  3%|▎         | 35/1261 [00:03<01:43, 11.83it/s]"
     ]
    },
    {
     "name": "stdout",
     "output_type": "stream",
     "text": [
      "Frame number:  36\n"
     ]
    },
    {
     "name": "stderr",
     "output_type": "stream",
     "text": [
      "\u001b[A"
     ]
    },
    {
     "name": "stdout",
     "output_type": "stream",
     "text": [
      "Frame number:  37\n",
      "Frame number:  38\n"
     ]
    },
    {
     "name": "stderr",
     "output_type": "stream",
     "text": [
      "\n",
      "  3%|▎         | 37/1261 [00:03<01:49, 11.21it/s]"
     ]
    },
    {
     "name": "stdout",
     "output_type": "stream",
     "text": [
      "Frame number:  39\n"
     ]
    },
    {
     "name": "stderr",
     "output_type": "stream",
     "text": [
      "\u001b[A\n",
      "  3%|▎         | 39/1261 [00:03<01:46, 11.45it/s]\u001b[A"
     ]
    },
    {
     "name": "stdout",
     "output_type": "stream",
     "text": [
      "Frame number:  40\n",
      "Frame number:  41\n"
     ]
    },
    {
     "name": "stderr",
     "output_type": "stream",
     "text": [
      "\n",
      "\r",
      "  3%|▎         | 41/1261 [00:03<01:44, 11.64it/s]"
     ]
    },
    {
     "name": "stdout",
     "output_type": "stream",
     "text": [
      "Frame number:  42\n"
     ]
    },
    {
     "name": "stderr",
     "output_type": "stream",
     "text": [
      "\u001b[A"
     ]
    },
    {
     "name": "stdout",
     "output_type": "stream",
     "text": [
      "Frame number:  43\n"
     ]
    },
    {
     "name": "stderr",
     "output_type": "stream",
     "text": [
      "\n",
      "\r",
      "  3%|▎         | 43/1261 [00:03<01:54, 10.67it/s]"
     ]
    },
    {
     "name": "stdout",
     "output_type": "stream",
     "text": [
      "Frame number:  44\n",
      "Frame number:  45\n"
     ]
    },
    {
     "name": "stderr",
     "output_type": "stream",
     "text": [
      "\u001b[A\n",
      "  4%|▎         | 45/1261 [00:04<02:05,  9.70it/s]"
     ]
    },
    {
     "name": "stdout",
     "output_type": "stream",
     "text": [
      "Frame number:  46\n",
      "Frame number:  47\n"
     ]
    },
    {
     "name": "stderr",
     "output_type": "stream",
     "text": [
      "\u001b[A\n",
      "  4%|▎         | 47/1261 [00:04<02:08,  9.45it/s]"
     ]
    },
    {
     "name": "stdout",
     "output_type": "stream",
     "text": [
      "Frame number:  48\n",
      "Frame number:  49\n"
     ]
    },
    {
     "name": "stderr",
     "output_type": "stream",
     "text": [
      "\u001b[A\n",
      "  4%|▍         | 48/1261 [00:04<02:07,  9.50it/s]\u001b[A\n",
      "  4%|▍         | 49/1261 [00:04<02:11,  9.21it/s]\u001b[A\n",
      "  4%|▍         | 50/1261 [00:04<02:10,  9.28it/s]"
     ]
    },
    {
     "name": "stdout",
     "output_type": "stream",
     "text": [
      "Frame number:  50\n",
      "Frame number:  51\n"
     ]
    },
    {
     "name": "stderr",
     "output_type": "stream",
     "text": [
      "\u001b[A\n",
      "  4%|▍         | 51/1261 [00:04<02:15,  8.94it/s]\u001b[A\n",
      "  4%|▍         | 52/1261 [00:04<02:21,  8.56it/s]"
     ]
    },
    {
     "name": "stdout",
     "output_type": "stream",
     "text": [
      "Frame number:  52\n",
      "Frame number:  53\n"
     ]
    },
    {
     "name": "stderr",
     "output_type": "stream",
     "text": [
      "\u001b[A\n",
      "  4%|▍         | 53/1261 [00:04<02:18,  8.69it/s]\u001b[A\n",
      "  4%|▍         | 55/1261 [00:05<02:09,  9.34it/s]"
     ]
    },
    {
     "name": "stdout",
     "output_type": "stream",
     "text": [
      "Frame number:  54\n",
      "Frame number:  55\n",
      "Frame number:  56\n"
     ]
    },
    {
     "name": "stderr",
     "output_type": "stream",
     "text": [
      "\u001b[A\n",
      "  4%|▍         | 56/1261 [00:05<02:12,  9.11it/s]\u001b[A\n",
      "  5%|▍         | 57/1261 [00:05<02:10,  9.25it/s]"
     ]
    },
    {
     "name": "stdout",
     "output_type": "stream",
     "text": [
      "Frame number:  57\n",
      "Frame number:  58\n",
      "Frame number: "
     ]
    },
    {
     "name": "stderr",
     "output_type": "stream",
     "text": [
      "\u001b[A\n",
      "  5%|▍         | 59/1261 [00:05<02:03,  9.77it/s]\u001b[A"
     ]
    },
    {
     "name": "stdout",
     "output_type": "stream",
     "text": [
      " 59\n",
      "Frame number:  60\n"
     ]
    },
    {
     "name": "stderr",
     "output_type": "stream",
     "text": [
      "\n",
      "  5%|▍         | 60/1261 [00:05<02:09,  9.28it/s]\u001b[A\n",
      "  5%|▍         | 62/1261 [00:05<02:03,  9.69it/s]"
     ]
    },
    {
     "name": "stdout",
     "output_type": "stream",
     "text": [
      "Frame number:  61\n",
      "Frame number:  62\n",
      "Frame number:  63\n"
     ]
    },
    {
     "name": "stderr",
     "output_type": "stream",
     "text": [
      "\u001b[A\n",
      "  5%|▌         | 64/1261 [00:06<02:03,  9.72it/s]"
     ]
    },
    {
     "name": "stdout",
     "output_type": "stream",
     "text": [
      "Frame number:  64\n",
      "Frame number:  65\n"
     ]
    },
    {
     "name": "stderr",
     "output_type": "stream",
     "text": [
      "\u001b[A\n",
      "  5%|▌         | 65/1261 [00:06<02:03,  9.68it/s]\u001b[A\n",
      "  5%|▌         | 67/1261 [00:06<01:57, 10.14it/s]"
     ]
    },
    {
     "name": "stdout",
     "output_type": "stream",
     "text": [
      "Frame number:  66\n",
      "Frame number:  67\n",
      "Frame number:  68\n"
     ]
    },
    {
     "name": "stderr",
     "output_type": "stream",
     "text": [
      "\u001b[A\n",
      "  5%|▌         | 69/1261 [00:06<02:00,  9.90it/s]"
     ]
    },
    {
     "name": "stdout",
     "output_type": "stream",
     "text": [
      "Frame number:  69\n",
      "Frame number:  70\n",
      "Frame number:  71\n"
     ]
    },
    {
     "name": "stderr",
     "output_type": "stream",
     "text": [
      "\u001b[A\n",
      "  6%|▌         | 71/1261 [00:06<01:56, 10.25it/s]\u001b[A"
     ]
    },
    {
     "name": "stdout",
     "output_type": "stream",
     "text": [
      "Frame number:  72\n",
      "Frame number:  73\n",
      "Frame number:  74\n"
     ]
    },
    {
     "name": "stderr",
     "output_type": "stream",
     "text": [
      "\n",
      "  6%|▌         | 73/1261 [00:06<01:56, 10.23it/s]\u001b[A\n",
      "  6%|▌         | 75/1261 [00:07<01:53, 10.48it/s]\u001b[A"
     ]
    },
    {
     "name": "stdout",
     "output_type": "stream",
     "text": [
      "Frame number:  75\n",
      "Frame number:  76\n",
      "Frame number:  77\n"
     ]
    },
    {
     "name": "stderr",
     "output_type": "stream",
     "text": [
      "\n",
      "  6%|▌         | 77/1261 [00:07<01:52, 10.49it/s]\u001b[A\n",
      "  6%|▋         | 79/1261 [00:07<01:49, 10.79it/s]"
     ]
    },
    {
     "name": "stdout",
     "output_type": "stream",
     "text": [
      "Frame number:  78\n",
      "Frame number:  79\n",
      "Frame number:  80\n"
     ]
    },
    {
     "name": "stderr",
     "output_type": "stream",
     "text": [
      "\u001b[A\n",
      "  6%|▋         | 81/1261 [00:07<01:53, 10.41it/s]"
     ]
    },
    {
     "name": "stdout",
     "output_type": "stream",
     "text": [
      "Frame number:  81\n",
      "Frame number:  82\n"
     ]
    },
    {
     "name": "stderr",
     "output_type": "stream",
     "text": [
      "\u001b[A\n",
      "  7%|▋         | 83/1261 [00:07<01:56, 10.12it/s]"
     ]
    },
    {
     "name": "stdout",
     "output_type": "stream",
     "text": [
      "Frame number:  83\n",
      "Frame number:  84\n"
     ]
    },
    {
     "name": "stderr",
     "output_type": "stream",
     "text": [
      "\u001b[A\n",
      "  7%|▋         | 85/1261 [00:08<02:05,  9.36it/s]"
     ]
    },
    {
     "name": "stdout",
     "output_type": "stream",
     "text": [
      "Frame number:  85\n",
      "Frame number:  86\n"
     ]
    },
    {
     "name": "stderr",
     "output_type": "stream",
     "text": [
      "\u001b[A\n",
      "  7%|▋         | 86/1261 [00:08<02:07,  9.23it/s]\u001b[A\n",
      "  7%|▋         | 87/1261 [00:08<02:12,  8.86it/s]"
     ]
    },
    {
     "name": "stdout",
     "output_type": "stream",
     "text": [
      "Frame number:  87\n",
      "Frame number:  88\n"
     ]
    },
    {
     "name": "stderr",
     "output_type": "stream",
     "text": [
      "\u001b[A\n",
      "  7%|▋         | 88/1261 [00:08<02:13,  8.78it/s]\u001b[A\n",
      "  7%|▋         | 89/1261 [00:08<02:11,  8.92it/s]"
     ]
    },
    {
     "name": "stdout",
     "output_type": "stream",
     "text": [
      "Frame number:  89\n",
      "Frame number:  90\n",
      "Frame number:  91\n"
     ]
    },
    {
     "name": "stderr",
     "output_type": "stream",
     "text": [
      "\u001b[A\n",
      "  7%|▋         | 91/1261 [00:08<02:04,  9.42it/s]\u001b[A"
     ]
    },
    {
     "name": "stdout",
     "output_type": "stream",
     "text": [
      "Frame number:  92\n",
      "Frame number:  93\n",
      "Frame number:  94\n"
     ]
    },
    {
     "name": "stderr",
     "output_type": "stream",
     "text": [
      "\n",
      "  7%|▋         | 93/1261 [00:08<02:01,  9.59it/s]\u001b[A\n",
      "  8%|▊         | 95/1261 [00:09<01:55, 10.12it/s]\u001b[A"
     ]
    },
    {
     "name": "stdout",
     "output_type": "stream",
     "text": [
      "Frame number:  95\n",
      "Frame number:  96\n",
      "Frame number:  97\n"
     ]
    },
    {
     "name": "stderr",
     "output_type": "stream",
     "text": [
      "\n",
      "  8%|▊         | 97/1261 [00:09<01:56, 10.02it/s]\u001b[A\n",
      "  8%|▊         | 99/1261 [00:09<01:51, 10.39it/s]"
     ]
    },
    {
     "name": "stdout",
     "output_type": "stream",
     "text": [
      "Frame number:  98\n",
      "Frame number:  99\n",
      "Frame number:  100\n"
     ]
    },
    {
     "name": "stderr",
     "output_type": "stream",
     "text": [
      "\u001b[A\n",
      "  8%|▊         | 101/1261 [00:09<01:53, 10.24it/s]\u001b[A"
     ]
    },
    {
     "name": "stdout",
     "output_type": "stream",
     "text": [
      "Frame number:  101\n",
      "Frame number:  102\n",
      "Frame number:  103\n"
     ]
    },
    {
     "name": "stderr",
     "output_type": "stream",
     "text": [
      "\n",
      "  8%|▊         | 103/1261 [00:09<01:48, 10.68it/s]\u001b[A"
     ]
    },
    {
     "name": "stdout",
     "output_type": "stream",
     "text": [
      "Frame number:  104\n",
      "Frame number:  105\n"
     ]
    },
    {
     "name": "stderr",
     "output_type": "stream",
     "text": [
      "\n",
      "  8%|▊         | 105/1261 [00:10<01:53, 10.23it/s]\u001b[A\n",
      "  8%|▊         | 107/1261 [00:10<01:48, 10.59it/s]"
     ]
    },
    {
     "name": "stdout",
     "output_type": "stream",
     "text": [
      "Frame number:  106\n",
      "Frame number:  107\n",
      "Frame number:  108\n"
     ]
    },
    {
     "name": "stderr",
     "output_type": "stream",
     "text": [
      "\u001b[A\n",
      "  9%|▊         | 109/1261 [00:10<01:51, 10.33it/s]"
     ]
    },
    {
     "name": "stdout",
     "output_type": "stream",
     "text": [
      "Frame number:  109\n",
      "Frame number:  110\n",
      "Frame number:  111\n"
     ]
    },
    {
     "name": "stderr",
     "output_type": "stream",
     "text": [
      "\u001b[A\n",
      "  9%|▉         | 111/1261 [00:10<01:47, 10.74it/s]\u001b[A"
     ]
    },
    {
     "name": "stdout",
     "output_type": "stream",
     "text": [
      "Frame number:  112\n",
      "Frame number:  113\n"
     ]
    },
    {
     "name": "stderr",
     "output_type": "stream",
     "text": [
      "\n",
      "  9%|▉         | 113/1261 [00:10<01:51, 10.27it/s]\u001b[A\n",
      "  9%|▉         | 115/1261 [00:11<01:49, 10.50it/s]"
     ]
    },
    {
     "name": "stdout",
     "output_type": "stream",
     "text": [
      "Frame number:  114\n",
      "Frame number:  115\n",
      "Frame number:  116\n"
     ]
    },
    {
     "name": "stderr",
     "output_type": "stream",
     "text": [
      "\u001b[A\n",
      "  9%|▉         | 117/1261 [00:11<01:50, 10.35it/s]\u001b[A"
     ]
    },
    {
     "name": "stdout",
     "output_type": "stream",
     "text": [
      "Frame number:  117\n",
      "Frame number:  118\n",
      "Frame number:  119\n"
     ]
    },
    {
     "name": "stderr",
     "output_type": "stream",
     "text": [
      "\n",
      "  9%|▉         | 119/1261 [00:11<01:48, 10.49it/s]\u001b[A"
     ]
    },
    {
     "name": "stdout",
     "output_type": "stream",
     "text": [
      "Frame number:  120\n",
      "Frame number:  121\n"
     ]
    },
    {
     "name": "stderr",
     "output_type": "stream",
     "text": [
      "\n",
      " 10%|▉         | 121/1261 [00:11<01:53, 10.08it/s]\u001b[A\n",
      " 10%|▉         | 123/1261 [00:11<01:48, 10.48it/s]"
     ]
    },
    {
     "name": "stdout",
     "output_type": "stream",
     "text": [
      "Frame number:  122\n",
      "Frame number:  123\n",
      "Frame number:  124\n"
     ]
    },
    {
     "name": "stderr",
     "output_type": "stream",
     "text": [
      "\u001b[A\n",
      " 10%|▉         | 125/1261 [00:12<01:50, 10.32it/s]\u001b[A"
     ]
    },
    {
     "name": "stdout",
     "output_type": "stream",
     "text": [
      "Frame number:  125\n",
      "Frame number:  126\n",
      "Frame number:  127\n"
     ]
    },
    {
     "name": "stderr",
     "output_type": "stream",
     "text": [
      "\n",
      " 10%|█         | 127/1261 [00:12<01:47, 10.52it/s]\u001b[A"
     ]
    },
    {
     "name": "stdout",
     "output_type": "stream",
     "text": [
      "Frame number:  128\n",
      "Frame number:  129\n"
     ]
    },
    {
     "name": "stderr",
     "output_type": "stream",
     "text": [
      "\n",
      "\r",
      " 10%|█         | 129/1261 [00:12<01:54,  9.92it/s]"
     ]
    },
    {
     "name": "stdout",
     "output_type": "stream",
     "text": [
      "Frame number:  130\n",
      "Frame number:  131\n"
     ]
    },
    {
     "name": "stderr",
     "output_type": "stream",
     "text": [
      "\u001b[A\n",
      " 10%|█         | 131/1261 [00:12<01:55,  9.82it/s]\u001b[A\n",
      " 10%|█         | 132/1261 [00:12<02:03,  9.13it/s]"
     ]
    },
    {
     "name": "stdout",
     "output_type": "stream",
     "text": [
      "Frame number:  132\n",
      "Frame number:  133\n"
     ]
    },
    {
     "name": "stderr",
     "output_type": "stream",
     "text": [
      "\u001b[A\n",
      " 11%|█         | 134/1261 [00:12<01:58,  9.48it/s]\u001b[A"
     ]
    },
    {
     "name": "stdout",
     "output_type": "stream",
     "text": [
      "Frame number:  134\n",
      "Frame number:  135\n",
      "Frame number:  136\n"
     ]
    },
    {
     "name": "stderr",
     "output_type": "stream",
     "text": [
      "\n",
      " 11%|█         | 136/1261 [00:13<01:53,  9.93it/s]\u001b[A\n",
      " 11%|█         | 138/1261 [00:13<01:50, 10.14it/s]"
     ]
    },
    {
     "name": "stdout",
     "output_type": "stream",
     "text": [
      "Frame number:  137\n",
      "Frame number:  138\n",
      "Frame number:  139\n"
     ]
    },
    {
     "name": "stderr",
     "output_type": "stream",
     "text": [
      "\u001b[A\n",
      " 11%|█         | 140/1261 [00:13<01:48, 10.29it/s]\u001b[A"
     ]
    },
    {
     "name": "stdout",
     "output_type": "stream",
     "text": [
      "Frame number:  140\n",
      "Frame number:  141\n",
      "Frame number:  142\n"
     ]
    },
    {
     "name": "stderr",
     "output_type": "stream",
     "text": [
      "\n",
      " 11%|█▏        | 142/1261 [00:13<01:46, 10.54it/s]\u001b[A\n",
      " 11%|█▏        | 144/1261 [00:13<01:46, 10.53it/s]"
     ]
    },
    {
     "name": "stdout",
     "output_type": "stream",
     "text": [
      "Frame number:  143\n",
      "Frame number:  144\n",
      "Frame number:  145\n"
     ]
    },
    {
     "name": "stderr",
     "output_type": "stream",
     "text": [
      "\u001b[A\n",
      " 12%|█▏        | 146/1261 [00:14<01:45, 10.59it/s]\u001b[A"
     ]
    },
    {
     "name": "stdout",
     "output_type": "stream",
     "text": [
      "Frame number:  146\n",
      "Frame number:  147\n",
      "Frame number:  148\n"
     ]
    },
    {
     "name": "stderr",
     "output_type": "stream",
     "text": [
      "\n",
      " 12%|█▏        | 148/1261 [00:14<01:47, 10.39it/s]\u001b[A\n",
      " 12%|█▏        | 150/1261 [00:14<01:44, 10.61it/s]"
     ]
    },
    {
     "name": "stdout",
     "output_type": "stream",
     "text": [
      "Frame number:  149\n",
      "Frame number:  150\n",
      "Frame number:  151\n"
     ]
    },
    {
     "name": "stderr",
     "output_type": "stream",
     "text": [
      "\u001b[A\n",
      " 12%|█▏        | 152/1261 [00:14<01:47, 10.35it/s]"
     ]
    },
    {
     "name": "stdout",
     "output_type": "stream",
     "text": [
      "Frame number:  152\n",
      "Frame number:  153\n"
     ]
    },
    {
     "name": "stderr",
     "output_type": "stream",
     "text": [
      "\u001b[A\n",
      " 12%|█▏        | 154/1261 [00:14<01:45, 10.45it/s]\u001b[A"
     ]
    },
    {
     "name": "stdout",
     "output_type": "stream",
     "text": [
      "Frame number:  154\n",
      "Frame number:  155\n",
      "Frame number:  156\n"
     ]
    },
    {
     "name": "stderr",
     "output_type": "stream",
     "text": [
      "\n",
      " 12%|█▏        | 156/1261 [00:15<01:44, 10.60it/s]\u001b[A\n",
      " 13%|█▎        | 158/1261 [00:15<01:43, 10.70it/s]"
     ]
    },
    {
     "name": "stdout",
     "output_type": "stream",
     "text": [
      "Frame number:  157\n",
      "Frame number:  158\n",
      "Frame number:  159\n"
     ]
    },
    {
     "name": "stderr",
     "output_type": "stream",
     "text": [
      "\u001b[A\n",
      " 13%|█▎        | 160/1261 [00:15<01:43, 10.63it/s]\u001b[A"
     ]
    },
    {
     "name": "stdout",
     "output_type": "stream",
     "text": [
      "Frame number:  160\n",
      "Frame number:  161\n",
      "Frame number:  162\n"
     ]
    },
    {
     "name": "stderr",
     "output_type": "stream",
     "text": [
      "\n",
      " 13%|█▎        | 162/1261 [00:15<01:44, 10.54it/s]\u001b[A\n",
      " 13%|█▎        | 164/1261 [00:15<01:44, 10.52it/s]"
     ]
    },
    {
     "name": "stdout",
     "output_type": "stream",
     "text": [
      "Frame number:  163\n",
      "Frame number:  164\n",
      "Frame number:  165\n"
     ]
    },
    {
     "name": "stderr",
     "output_type": "stream",
     "text": [
      "\u001b[A\n",
      " 13%|█▎        | 166/1261 [00:15<01:41, 10.74it/s]\u001b[A"
     ]
    },
    {
     "name": "stdout",
     "output_type": "stream",
     "text": [
      "Frame number:  166\n",
      "Frame number:  167\n",
      "Frame number:  168\n"
     ]
    },
    {
     "name": "stderr",
     "output_type": "stream",
     "text": [
      "\n",
      " 13%|█▎        | 168/1261 [00:16<01:41, 10.72it/s]\u001b[A\n",
      " 13%|█▎        | 170/1261 [00:16<01:40, 10.83it/s]"
     ]
    },
    {
     "name": "stdout",
     "output_type": "stream",
     "text": [
      "Frame number:  169\n",
      "Frame number:  170\n",
      "Frame number:  171\n"
     ]
    },
    {
     "name": "stderr",
     "output_type": "stream",
     "text": [
      "\u001b[A\n",
      " 14%|█▎        | 172/1261 [00:16<01:45, 10.37it/s]"
     ]
    },
    {
     "name": "stdout",
     "output_type": "stream",
     "text": [
      "Frame number:  172\n",
      "Frame number:  173\n",
      "Frame number:  174\n"
     ]
    },
    {
     "name": "stderr",
     "output_type": "stream",
     "text": [
      "\u001b[A\n",
      " 14%|█▍        | 174/1261 [00:16<01:41, 10.74it/s]\u001b[A"
     ]
    },
    {
     "name": "stdout",
     "output_type": "stream",
     "text": [
      "Frame number:  175\n",
      "Frame number:  176\n"
     ]
    },
    {
     "name": "stderr",
     "output_type": "stream",
     "text": [
      "\n",
      "\r",
      " 14%|█▍        | 176/1261 [00:16<01:43, 10.47it/s]"
     ]
    },
    {
     "name": "stdout",
     "output_type": "stream",
     "text": [
      "Frame number:  177\n",
      "Frame number:  178\n"
     ]
    },
    {
     "name": "stderr",
     "output_type": "stream",
     "text": [
      "\u001b[A\n",
      " 14%|█▍        | 178/1261 [00:17<01:45, 10.27it/s]\u001b[A\n",
      " 14%|█▍        | 180/1261 [00:17<01:43, 10.48it/s]"
     ]
    },
    {
     "name": "stdout",
     "output_type": "stream",
     "text": [
      "Frame number:  179\n",
      "Frame number:  180\n",
      "Frame number:  181\n"
     ]
    },
    {
     "name": "stderr",
     "output_type": "stream",
     "text": [
      "\u001b[A\n",
      " 14%|█▍        | 182/1261 [00:17<01:41, 10.68it/s]\u001b[A"
     ]
    },
    {
     "name": "stdout",
     "output_type": "stream",
     "text": [
      "Frame number:  182\n",
      "Frame number:  183\n",
      "Frame number:  184\n"
     ]
    },
    {
     "name": "stderr",
     "output_type": "stream",
     "text": [
      "\n",
      " 15%|█▍        | 184/1261 [00:17<01:44, 10.34it/s]\u001b[A\n",
      " 15%|█▍        | 186/1261 [00:17<01:43, 10.43it/s]"
     ]
    },
    {
     "name": "stdout",
     "output_type": "stream",
     "text": [
      "Frame number:  185\n",
      "Frame number:  186\n",
      "Frame number:  187\n"
     ]
    },
    {
     "name": "stderr",
     "output_type": "stream",
     "text": [
      "\u001b[A\n",
      " 15%|█▍        | 188/1261 [00:18<01:41, 10.56it/s]\u001b[A"
     ]
    },
    {
     "name": "stdout",
     "output_type": "stream",
     "text": [
      "Frame number:  188\n",
      "Frame number:  189\n"
     ]
    },
    {
     "name": "stderr",
     "output_type": "stream",
     "text": [
      "\n",
      "\r",
      " 15%|█▌        | 190/1261 [00:18<01:43, 10.32it/s]"
     ]
    },
    {
     "name": "stdout",
     "output_type": "stream",
     "text": [
      "Frame number:  190\n",
      "Frame number:  191\n",
      "Frame number:  192\n"
     ]
    },
    {
     "name": "stderr",
     "output_type": "stream",
     "text": [
      "\u001b[A\n",
      " 15%|█▌        | 192/1261 [00:18<01:47,  9.91it/s]\u001b[A\n",
      " 15%|█▌        | 193/1261 [00:18<01:48,  9.85it/s]"
     ]
    },
    {
     "name": "stdout",
     "output_type": "stream",
     "text": [
      "Frame number:  193\n",
      "Frame number:  194\n",
      "Frame number:  195\n"
     ]
    },
    {
     "name": "stderr",
     "output_type": "stream",
     "text": [
      "\u001b[A\n",
      " 15%|█▌        | 195/1261 [00:18<01:42, 10.37it/s]\u001b[A"
     ]
    },
    {
     "name": "stdout",
     "output_type": "stream",
     "text": [
      "Frame number:  196\n",
      "Frame number:  197\n",
      "Frame number:  198\n"
     ]
    },
    {
     "name": "stderr",
     "output_type": "stream",
     "text": [
      "\n",
      " 16%|█▌        | 197/1261 [00:18<01:42, 10.33it/s]\u001b[A\n",
      " 16%|█▌        | 199/1261 [00:19<01:40, 10.57it/s]\u001b[A"
     ]
    },
    {
     "name": "stdout",
     "output_type": "stream",
     "text": [
      "Frame number:  199\n",
      "Frame number:  200\n",
      "Frame number:  201\n"
     ]
    },
    {
     "name": "stderr",
     "output_type": "stream",
     "text": [
      "\n",
      " 16%|█▌        | 201/1261 [00:19<01:40, 10.53it/s]\u001b[A\n",
      " 16%|█▌        | 203/1261 [00:19<01:39, 10.63it/s]"
     ]
    },
    {
     "name": "stdout",
     "output_type": "stream",
     "text": [
      "Frame number:  202\n",
      "Frame number:  203\n",
      "Frame number:  204\n"
     ]
    },
    {
     "name": "stderr",
     "output_type": "stream",
     "text": [
      "\u001b[A\n",
      " 16%|█▋        | 205/1261 [00:19<01:39, 10.58it/s]\u001b[A"
     ]
    },
    {
     "name": "stdout",
     "output_type": "stream",
     "text": [
      "Frame number:  205\n",
      "Frame number:  206\n",
      "Frame number:  207\n"
     ]
    },
    {
     "name": "stderr",
     "output_type": "stream",
     "text": [
      "\n",
      " 16%|█▋        | 207/1261 [00:19<01:35, 11.06it/s]\u001b[A"
     ]
    },
    {
     "name": "stdout",
     "output_type": "stream",
     "text": [
      "Frame number:  208\n",
      "Frame number:  209\n",
      "Frame number: "
     ]
    },
    {
     "name": "stderr",
     "output_type": "stream",
     "text": [
      "\n",
      " 17%|█▋        | 209/1261 [00:20<01:38, 10.70it/s]\u001b[A\n",
      " 17%|█▋        | 211/1261 [00:20<01:33, 11.23it/s]"
     ]
    },
    {
     "name": "stdout",
     "output_type": "stream",
     "text": [
      " 210\n",
      "Frame number:  211\n",
      "Frame number:  212\n"
     ]
    },
    {
     "name": "stderr",
     "output_type": "stream",
     "text": [
      "\u001b[A\n",
      " 17%|█▋        | 213/1261 [00:20<01:34, 11.09it/s]\u001b[A"
     ]
    },
    {
     "name": "stdout",
     "output_type": "stream",
     "text": [
      "Frame number:  213\n",
      "Frame number:  214\n",
      "Frame number:  215\n"
     ]
    },
    {
     "name": "stderr",
     "output_type": "stream",
     "text": [
      "\n",
      " 17%|█▋        | 215/1261 [00:20<01:32, 11.27it/s]\u001b[A"
     ]
    },
    {
     "name": "stdout",
     "output_type": "stream",
     "text": [
      "Frame number:  216\n",
      "Frame number:  217\n"
     ]
    },
    {
     "name": "stderr",
     "output_type": "stream",
     "text": [
      "\n",
      " 17%|█▋        | 217/1261 [00:20<01:38, 10.62it/s]\u001b[A\n",
      " 17%|█▋        | 219/1261 [00:20<01:34, 11.07it/s]"
     ]
    },
    {
     "name": "stdout",
     "output_type": "stream",
     "text": [
      "Frame number:  218\n",
      "Frame number:  219\n",
      "Frame number:  220\n"
     ]
    },
    {
     "name": "stderr",
     "output_type": "stream",
     "text": [
      "\u001b[A\n",
      " 18%|█▊        | 221/1261 [00:21<01:35, 10.85it/s]\u001b[A"
     ]
    },
    {
     "name": "stdout",
     "output_type": "stream",
     "text": [
      "Frame number:  221\n",
      "Frame number:  222\n",
      "Frame number:  223\n"
     ]
    },
    {
     "name": "stderr",
     "output_type": "stream",
     "text": [
      "\n",
      " 18%|█▊        | 223/1261 [00:21<01:33, 11.14it/s]\u001b[A"
     ]
    },
    {
     "name": "stdout",
     "output_type": "stream",
     "text": [
      "Frame number:  224\n",
      "Frame number:  225\n"
     ]
    },
    {
     "name": "stderr",
     "output_type": "stream",
     "text": [
      "\n",
      " 18%|█▊        | 225/1261 [00:21<01:35, 10.80it/s]\u001b[A\n",
      " 18%|█▊        | 227/1261 [00:21<01:33, 11.02it/s]"
     ]
    },
    {
     "name": "stdout",
     "output_type": "stream",
     "text": [
      "Frame number:  226\n",
      "Frame number:  227\n",
      "Frame number:  228\n"
     ]
    },
    {
     "name": "stderr",
     "output_type": "stream",
     "text": [
      "\u001b[A\n",
      " 18%|█▊        | 229/1261 [00:21<01:36, 10.68it/s]"
     ]
    },
    {
     "name": "stdout",
     "output_type": "stream",
     "text": [
      "Frame number:  229\n",
      "Frame number:  230\n",
      "Frame number:  231\n"
     ]
    },
    {
     "name": "stderr",
     "output_type": "stream",
     "text": [
      "\u001b[A\n",
      " 18%|█▊        | 231/1261 [00:22<01:33, 11.02it/s]\u001b[A"
     ]
    },
    {
     "name": "stdout",
     "output_type": "stream",
     "text": [
      "Frame number:  232\n",
      "Frame number:  233\n",
      "Frame number:  234\n"
     ]
    },
    {
     "name": "stderr",
     "output_type": "stream",
     "text": [
      "\n",
      " 18%|█▊        | 233/1261 [00:22<01:35, 10.76it/s]\u001b[A\n",
      " 19%|█▊        | 235/1261 [00:22<01:34, 10.86it/s]\u001b[A"
     ]
    },
    {
     "name": "stdout",
     "output_type": "stream",
     "text": [
      "Frame number:  235\n",
      "Frame number:  236\n",
      "Frame number:  237\n"
     ]
    },
    {
     "name": "stderr",
     "output_type": "stream",
     "text": [
      "\n",
      " 19%|█▉        | 237/1261 [00:22<01:37, 10.51it/s]\u001b[A\n",
      " 19%|█▉        | 239/1261 [00:22<01:36, 10.63it/s]"
     ]
    },
    {
     "name": "stdout",
     "output_type": "stream",
     "text": [
      "Frame number:  238\n",
      "Frame number:  239\n",
      "Frame number:  240\n"
     ]
    },
    {
     "name": "stderr",
     "output_type": "stream",
     "text": [
      "\u001b[A\n",
      " 19%|█▉        | 241/1261 [00:23<01:42,  9.99it/s]"
     ]
    },
    {
     "name": "stdout",
     "output_type": "stream",
     "text": [
      "Frame number:  241\n",
      "Frame number:  242\n"
     ]
    },
    {
     "name": "stderr",
     "output_type": "stream",
     "text": [
      "\u001b[A\n",
      " 19%|█▉        | 243/1261 [00:23<01:38, 10.31it/s]\u001b[A"
     ]
    },
    {
     "name": "stdout",
     "output_type": "stream",
     "text": [
      "Frame number:  243\n",
      "Frame number:  244\n",
      "Frame number:  245\n"
     ]
    },
    {
     "name": "stderr",
     "output_type": "stream",
     "text": [
      "\n",
      " 19%|█▉        | 245/1261 [00:23<01:38, 10.34it/s]\u001b[A\n",
      " 20%|█▉        | 247/1261 [00:23<01:38, 10.34it/s]"
     ]
    },
    {
     "name": "stdout",
     "output_type": "stream",
     "text": [
      "Frame number:  246\n",
      "Frame number:  247\n",
      "Frame number:  248\n"
     ]
    },
    {
     "name": "stderr",
     "output_type": "stream",
     "text": [
      "\u001b[A\n",
      " 20%|█▉        | 249/1261 [00:23<01:43,  9.78it/s]"
     ]
    },
    {
     "name": "stdout",
     "output_type": "stream",
     "text": [
      "Frame number:  249\n",
      "Frame number:  250\n"
     ]
    },
    {
     "name": "stderr",
     "output_type": "stream",
     "text": [
      "\u001b[A\n",
      " 20%|█▉        | 250/1261 [00:23<01:44,  9.72it/s]\u001b[A\n",
      " 20%|█▉        | 252/1261 [00:24<01:39, 10.16it/s]"
     ]
    },
    {
     "name": "stdout",
     "output_type": "stream",
     "text": [
      "Frame number:  251\n",
      "Frame number:  252\n",
      "Frame number:  253\n"
     ]
    },
    {
     "name": "stderr",
     "output_type": "stream",
     "text": [
      "\u001b[A\n",
      " 20%|██        | 254/1261 [00:24<01:40, 10.06it/s]"
     ]
    },
    {
     "name": "stdout",
     "output_type": "stream",
     "text": [
      "Frame number:  254\n",
      "Frame number:  255\n",
      "Frame number:  256\n"
     ]
    },
    {
     "name": "stderr",
     "output_type": "stream",
     "text": [
      "\u001b[A\n",
      " 20%|██        | 256/1261 [00:24<01:43,  9.74it/s]\u001b[A\n",
      " 20%|██        | 257/1261 [00:24<01:42,  9.75it/s]"
     ]
    },
    {
     "name": "stdout",
     "output_type": "stream",
     "text": [
      "Frame number:  257\n",
      "Frame number:  258\n",
      "Frame number:  259\n"
     ]
    },
    {
     "name": "stderr",
     "output_type": "stream",
     "text": [
      "\u001b[A\n",
      " 21%|██        | 259/1261 [00:24<01:38, 10.16it/s]\u001b[A"
     ]
    },
    {
     "name": "stdout",
     "output_type": "stream",
     "text": [
      "Frame number:  260\n",
      "Frame number:  261\n"
     ]
    },
    {
     "name": "stderr",
     "output_type": "stream",
     "text": [
      "\n",
      " 21%|██        | 261/1261 [00:25<01:43,  9.68it/s]\u001b[A\n",
      " 21%|██        | 263/1261 [00:25<01:38, 10.15it/s]"
     ]
    },
    {
     "name": "stdout",
     "output_type": "stream",
     "text": [
      "Frame number:  262\n",
      "Frame number:  263\n",
      "Frame number:  264\n"
     ]
    },
    {
     "name": "stderr",
     "output_type": "stream",
     "text": [
      "\u001b[A\n",
      " 21%|██        | 265/1261 [00:25<01:39, 10.04it/s]"
     ]
    },
    {
     "name": "stdout",
     "output_type": "stream",
     "text": [
      "Frame number:  265\n",
      "Frame number:  266\n",
      "Frame number:  267\n"
     ]
    },
    {
     "name": "stderr",
     "output_type": "stream",
     "text": [
      "\u001b[A\n",
      " 21%|██        | 267/1261 [00:25<01:35, 10.40it/s]\u001b[A"
     ]
    },
    {
     "name": "stdout",
     "output_type": "stream",
     "text": [
      "Frame number:  268\n",
      "Frame number:  269\n"
     ]
    },
    {
     "name": "stderr",
     "output_type": "stream",
     "text": [
      "\n",
      " 21%|██▏       | 269/1261 [00:25<01:40,  9.92it/s]\u001b[A\n",
      " 21%|██▏       | 271/1261 [00:26<01:37, 10.17it/s]"
     ]
    },
    {
     "name": "stdout",
     "output_type": "stream",
     "text": [
      "Frame number:  270\n",
      "Frame number:  271\n",
      "Frame number:  272\n"
     ]
    },
    {
     "name": "stderr",
     "output_type": "stream",
     "text": [
      "\u001b[A\n",
      " 22%|██▏       | 273/1261 [00:26<01:38, 10.08it/s]"
     ]
    },
    {
     "name": "stdout",
     "output_type": "stream",
     "text": [
      "Frame number:  273\n",
      "Frame number:  274\n",
      "Frame number:  275\n"
     ]
    },
    {
     "name": "stderr",
     "output_type": "stream",
     "text": [
      "\u001b[A\n",
      " 22%|██▏       | 275/1261 [00:26<01:34, 10.43it/s]\u001b[A"
     ]
    },
    {
     "name": "stdout",
     "output_type": "stream",
     "text": [
      "Frame number:  276\n",
      "Frame number:  277\n"
     ]
    },
    {
     "name": "stderr",
     "output_type": "stream",
     "text": [
      "\n",
      "\r",
      " 22%|██▏       | 277/1261 [00:26<01:37, 10.11it/s]"
     ]
    },
    {
     "name": "stdout",
     "output_type": "stream",
     "text": [
      "Frame number:  278\n",
      "Frame number:  279\n",
      "Frame number:  280\n"
     ]
    },
    {
     "name": "stderr",
     "output_type": "stream",
     "text": [
      "\u001b[A\n",
      " 22%|██▏       | 279/1261 [00:26<01:36, 10.19it/s]\u001b[A\n",
      " 22%|██▏       | 281/1261 [00:26<01:32, 10.61it/s]\u001b[A"
     ]
    },
    {
     "name": "stdout",
     "output_type": "stream",
     "text": [
      "Frame number:  281\n",
      "Frame number:  282\n",
      "Frame number:  283\n"
     ]
    },
    {
     "name": "stderr",
     "output_type": "stream",
     "text": [
      "\n",
      " 22%|██▏       | 283/1261 [00:27<01:29, 10.87it/s]\u001b[A"
     ]
    },
    {
     "name": "stdout",
     "output_type": "stream",
     "text": [
      "Frame number:  284\n",
      "Frame number:  285\n"
     ]
    },
    {
     "name": "stderr",
     "output_type": "stream",
     "text": [
      "\n",
      " 23%|██▎       | 285/1261 [00:27<01:33, 10.46it/s]\u001b[A\n",
      " 23%|██▎       | 287/1261 [00:27<01:29, 10.94it/s]"
     ]
    },
    {
     "name": "stdout",
     "output_type": "stream",
     "text": [
      "Frame number:  286\n",
      "Frame number:  287\n",
      "Frame number:  288\n"
     ]
    },
    {
     "name": "stderr",
     "output_type": "stream",
     "text": [
      "\u001b[A\n",
      " 23%|██▎       | 289/1261 [00:27<01:32, 10.54it/s]"
     ]
    },
    {
     "name": "stdout",
     "output_type": "stream",
     "text": [
      "Frame number:  289\n",
      "Frame number:  290\n",
      "Frame number:  291\n"
     ]
    },
    {
     "name": "stderr",
     "output_type": "stream",
     "text": [
      "\u001b[A\n",
      " 23%|██▎       | 291/1261 [00:27<01:30, 10.66it/s]\u001b[A"
     ]
    },
    {
     "name": "stdout",
     "output_type": "stream",
     "text": [
      "Frame number:  292\n",
      "Frame number:  293\n"
     ]
    },
    {
     "name": "stderr",
     "output_type": "stream",
     "text": [
      "\n",
      " 23%|██▎       | 293/1261 [00:28<01:36, 10.07it/s]\u001b[A\n",
      " 23%|██▎       | 295/1261 [00:28<01:31, 10.56it/s]"
     ]
    },
    {
     "name": "stdout",
     "output_type": "stream",
     "text": [
      "Frame number:  294\n",
      "Frame number:  295\n",
      "Frame number:  296\n"
     ]
    },
    {
     "name": "stderr",
     "output_type": "stream",
     "text": [
      "\u001b[A\n",
      " 24%|██▎       | 297/1261 [00:28<01:28, 10.85it/s]\u001b[A"
     ]
    },
    {
     "name": "stdout",
     "output_type": "stream",
     "text": [
      "Frame number:  297\n",
      "Frame number:  298\n",
      "Frame number:  299\n"
     ]
    },
    {
     "name": "stderr",
     "output_type": "stream",
     "text": [
      "\n",
      " 24%|██▎       | 299/1261 [00:28<01:28, 10.86it/s]\u001b[A\n",
      " 24%|██▍       | 301/1261 [00:28<01:26, 11.14it/s]"
     ]
    },
    {
     "name": "stdout",
     "output_type": "stream",
     "text": [
      "Frame number:  300\n",
      "Frame number:  301\n",
      "Frame number:  302\n"
     ]
    },
    {
     "name": "stderr",
     "output_type": "stream",
     "text": [
      "\u001b[A\n",
      " 24%|██▍       | 303/1261 [00:29<01:30, 10.56it/s]"
     ]
    },
    {
     "name": "stdout",
     "output_type": "stream",
     "text": [
      "Frame number:  303\n",
      "Frame number:  304\n",
      "Frame number:  305\n"
     ]
    },
    {
     "name": "stderr",
     "output_type": "stream",
     "text": [
      "\u001b[A\n",
      " 24%|██▍       | 305/1261 [00:29<01:29, 10.68it/s]\u001b[A"
     ]
    },
    {
     "name": "stdout",
     "output_type": "stream",
     "text": [
      "Frame number:  306\n",
      "Frame number:  307\n"
     ]
    },
    {
     "name": "stderr",
     "output_type": "stream",
     "text": [
      "\n",
      " 24%|██▍       | 307/1261 [00:29<01:32, 10.27it/s]\u001b[A\n",
      " 25%|██▍       | 309/1261 [00:29<01:30, 10.51it/s]"
     ]
    },
    {
     "name": "stdout",
     "output_type": "stream",
     "text": [
      "Frame number:  308\n",
      "Frame number:  309\n",
      "Frame number:  310\n"
     ]
    },
    {
     "name": "stderr",
     "output_type": "stream",
     "text": [
      "\u001b[A\n",
      " 25%|██▍       | 311/1261 [00:29<01:36,  9.88it/s]"
     ]
    },
    {
     "name": "stdout",
     "output_type": "stream",
     "text": [
      "Frame number:  311\n",
      "Frame number:  312\n"
     ]
    },
    {
     "name": "stderr",
     "output_type": "stream",
     "text": [
      "\u001b[A\n",
      " 25%|██▍       | 313/1261 [00:30<01:32, 10.30it/s]\u001b[A"
     ]
    },
    {
     "name": "stdout",
     "output_type": "stream",
     "text": [
      "Frame number:  313\n",
      "Frame number:  314\n"
     ]
    },
    {
     "name": "stderr",
     "output_type": "stream",
     "text": [
      "\n",
      "\r",
      " 25%|██▍       | 315/1261 [00:30<01:34,  9.99it/s]"
     ]
    },
    {
     "name": "stdout",
     "output_type": "stream",
     "text": [
      "Frame number:  315\n",
      "Frame number:  316\n",
      "Frame number:  317\n"
     ]
    },
    {
     "name": "stderr",
     "output_type": "stream",
     "text": [
      "\u001b[A\n",
      " 25%|██▌       | 317/1261 [00:30<01:31, 10.36it/s]\u001b[A"
     ]
    },
    {
     "name": "stdout",
     "output_type": "stream",
     "text": [
      "Frame number:  318\n",
      "Frame number:  319\n"
     ]
    },
    {
     "name": "stderr",
     "output_type": "stream",
     "text": [
      "\n",
      " 25%|██▌       | 319/1261 [00:30<01:33, 10.11it/s]\u001b[A\n",
      " 25%|██▌       | 321/1261 [00:30<01:27, 10.75it/s]"
     ]
    },
    {
     "name": "stdout",
     "output_type": "stream",
     "text": [
      "Frame number:  320\n",
      "Frame number:  321\n",
      "Frame number:  322\n"
     ]
    },
    {
     "name": "stderr",
     "output_type": "stream",
     "text": [
      "\u001b[A\n",
      " 26%|██▌       | 323/1261 [00:30<01:28, 10.65it/s]\u001b[A"
     ]
    },
    {
     "name": "stdout",
     "output_type": "stream",
     "text": [
      "Frame number:  323\n",
      "Frame number:  324\n",
      "Frame number:  325\n"
     ]
    },
    {
     "name": "stderr",
     "output_type": "stream",
     "text": [
      "\n",
      " 26%|██▌       | 325/1261 [00:31<01:26, 10.85it/s]\u001b[A"
     ]
    },
    {
     "name": "stdout",
     "output_type": "stream",
     "text": [
      "Frame number:  326\n",
      "Frame number:  327\n"
     ]
    },
    {
     "name": "stderr",
     "output_type": "stream",
     "text": [
      "\n",
      " 26%|██▌       | 327/1261 [00:31<01:30, 10.36it/s]\u001b[A\n",
      " 26%|██▌       | 329/1261 [00:31<01:25, 10.91it/s]"
     ]
    },
    {
     "name": "stdout",
     "output_type": "stream",
     "text": [
      "Frame number:  328\n",
      "Frame number:  329\n",
      "Frame number:  330\n"
     ]
    },
    {
     "name": "stderr",
     "output_type": "stream",
     "text": [
      "\u001b[A\n",
      " 26%|██▌       | 331/1261 [00:31<01:30, 10.25it/s]"
     ]
    },
    {
     "name": "stdout",
     "output_type": "stream",
     "text": [
      "Frame number:  331\n",
      "Frame number:  332\n",
      "Frame number:  333\n"
     ]
    },
    {
     "name": "stderr",
     "output_type": "stream",
     "text": [
      "\u001b[A\n",
      " 26%|██▋       | 333/1261 [00:31<01:28, 10.51it/s]\u001b[A"
     ]
    },
    {
     "name": "stdout",
     "output_type": "stream",
     "text": [
      "Frame number:  334\n",
      "Frame number:  335\n"
     ]
    },
    {
     "name": "stderr",
     "output_type": "stream",
     "text": [
      "\n",
      " 27%|██▋       | 335/1261 [00:32<01:34,  9.80it/s]\u001b[A\n",
      " 27%|██▋       | 337/1261 [00:32<01:32, 10.04it/s]"
     ]
    },
    {
     "name": "stdout",
     "output_type": "stream",
     "text": [
      "Frame number:  336\n",
      "Frame number:  337\n",
      "Frame number:  338\n"
     ]
    },
    {
     "name": "stderr",
     "output_type": "stream",
     "text": [
      "\u001b[A\n",
      " 27%|██▋       | 339/1261 [00:32<01:35,  9.68it/s]"
     ]
    },
    {
     "name": "stdout",
     "output_type": "stream",
     "text": [
      "Frame number:  339\n",
      "Frame number:  340\n"
     ]
    },
    {
     "name": "stderr",
     "output_type": "stream",
     "text": [
      "\u001b[A\n",
      " 27%|██▋       | 341/1261 [00:32<01:31, 10.08it/s]\u001b[A"
     ]
    },
    {
     "name": "stdout",
     "output_type": "stream",
     "text": [
      "Frame number:  341\n",
      "Frame number:  342\n",
      "Frame number:  343\n"
     ]
    },
    {
     "name": "stderr",
     "output_type": "stream",
     "text": [
      "\n",
      " 27%|██▋       | 343/1261 [00:32<01:31, 10.06it/s]\u001b[A\n",
      " 27%|██▋       | 345/1261 [00:33<01:26, 10.59it/s]"
     ]
    },
    {
     "name": "stdout",
     "output_type": "stream",
     "text": [
      "Frame number:  344\n",
      "Frame number:  345\n",
      "Frame number:  346\n"
     ]
    },
    {
     "name": "stderr",
     "output_type": "stream",
     "text": [
      "\u001b[A\n",
      " 28%|██▊       | 347/1261 [00:33<01:26, 10.62it/s]\u001b[A"
     ]
    },
    {
     "name": "stdout",
     "output_type": "stream",
     "text": [
      "Frame number:  347\n",
      "Frame number:  348\n",
      "Frame number:  349\n"
     ]
    },
    {
     "name": "stderr",
     "output_type": "stream",
     "text": [
      "\n",
      " 28%|██▊       | 349/1261 [00:33<01:25, 10.64it/s]\u001b[A"
     ]
    },
    {
     "name": "stdout",
     "output_type": "stream",
     "text": [
      "Frame number:  350\n",
      "Frame number:  351\n"
     ]
    },
    {
     "name": "stderr",
     "output_type": "stream",
     "text": [
      "\n",
      " 28%|██▊       | 351/1261 [00:33<01:31,  9.92it/s]\u001b[A\n",
      " 28%|██▊       | 353/1261 [00:33<01:26, 10.44it/s]"
     ]
    },
    {
     "name": "stdout",
     "output_type": "stream",
     "text": [
      "Frame number:  352\n",
      "Frame number:  353\n",
      "Frame number:  354\n"
     ]
    },
    {
     "name": "stderr",
     "output_type": "stream",
     "text": [
      "\u001b[A\n",
      " 28%|██▊       | 355/1261 [00:34<01:26, 10.44it/s]\u001b[A"
     ]
    },
    {
     "name": "stdout",
     "output_type": "stream",
     "text": [
      "Frame number:  355\n",
      "Frame number:  356\n"
     ]
    },
    {
     "name": "stderr",
     "output_type": "stream",
     "text": [
      "\n",
      "\r",
      " 28%|██▊       | 357/1261 [00:34<01:29, 10.05it/s]"
     ]
    },
    {
     "name": "stdout",
     "output_type": "stream",
     "text": [
      "Frame number:  357\n",
      "Frame number:  358\n"
     ]
    },
    {
     "name": "stderr",
     "output_type": "stream",
     "text": [
      "\u001b[A\n",
      " 28%|██▊       | 359/1261 [00:34<01:35,  9.49it/s]"
     ]
    },
    {
     "name": "stdout",
     "output_type": "stream",
     "text": [
      "Frame number:  359\n",
      "Frame number:  360\n"
     ]
    },
    {
     "name": "stderr",
     "output_type": "stream",
     "text": [
      "\u001b[A\n",
      " 29%|██▊       | 361/1261 [00:34<01:29, 10.08it/s]\u001b[A"
     ]
    },
    {
     "name": "stdout",
     "output_type": "stream",
     "text": [
      "Frame number:  361\n",
      "Frame number:  362\n",
      "Frame number:  363\n"
     ]
    },
    {
     "name": "stderr",
     "output_type": "stream",
     "text": [
      "\n",
      " 29%|██▉       | 363/1261 [00:34<01:27, 10.30it/s]\u001b[A\n",
      " 29%|██▉       | 365/1261 [00:35<01:25, 10.44it/s]"
     ]
    },
    {
     "name": "stdout",
     "output_type": "stream",
     "text": [
      "Frame number:  364\n",
      "Frame number:  365\n",
      "Frame number:  366\n"
     ]
    },
    {
     "name": "stderr",
     "output_type": "stream",
     "text": [
      "\u001b[A\n",
      " 29%|██▉       | 367/1261 [00:35<01:31,  9.78it/s]"
     ]
    },
    {
     "name": "stdout",
     "output_type": "stream",
     "text": [
      "Frame number:  367\n",
      "Frame number:  368\n"
     ]
    },
    {
     "name": "stderr",
     "output_type": "stream",
     "text": [
      "\u001b[A\n",
      " 29%|██▉       | 368/1261 [00:35<01:32,  9.62it/s]\u001b[A"
     ]
    },
    {
     "name": "stdout",
     "output_type": "stream",
     "text": [
      "Frame number:  369\n",
      "Frame number:  370\n"
     ]
    },
    {
     "name": "stderr",
     "output_type": "stream",
     "text": [
      "\n",
      " 29%|██▉       | 370/1261 [00:35<01:34,  9.45it/s]\u001b[A\n",
      " 30%|██▉       | 372/1261 [00:35<01:29,  9.97it/s]"
     ]
    },
    {
     "name": "stdout",
     "output_type": "stream",
     "text": [
      "Frame number:  371\n",
      "Frame number:  372\n",
      "Frame number:  373\n"
     ]
    },
    {
     "name": "stderr",
     "output_type": "stream",
     "text": [
      "\u001b[A\n",
      " 30%|██▉       | 374/1261 [00:36<01:28, 10.02it/s]\u001b[A"
     ]
    },
    {
     "name": "stdout",
     "output_type": "stream",
     "text": [
      "Frame number:  374\n",
      "Frame number:  375\n"
     ]
    },
    {
     "name": "stderr",
     "output_type": "stream",
     "text": [
      "\n",
      "\r",
      " 30%|██▉       | 376/1261 [00:36<01:28, 10.01it/s]"
     ]
    },
    {
     "name": "stdout",
     "output_type": "stream",
     "text": [
      "Frame number:  376\n",
      "Frame number:  377\n",
      "Frame number:  378\n"
     ]
    },
    {
     "name": "stderr",
     "output_type": "stream",
     "text": [
      "\u001b[A\n",
      " 30%|██▉       | 378/1261 [00:36<01:27, 10.08it/s]\u001b[A\n",
      " 30%|███       | 380/1261 [00:36<01:24, 10.37it/s]"
     ]
    },
    {
     "name": "stdout",
     "output_type": "stream",
     "text": [
      "Frame number:  379\n",
      "Frame number:  380\n",
      "Frame number:  381\n"
     ]
    },
    {
     "name": "stderr",
     "output_type": "stream",
     "text": [
      "\u001b[A\n",
      " 30%|███       | 382/1261 [00:36<01:24, 10.46it/s]\u001b[A"
     ]
    },
    {
     "name": "stdout",
     "output_type": "stream",
     "text": [
      "Frame number:  382\n",
      "Frame number:  383\n",
      "Frame number:  384\n"
     ]
    },
    {
     "name": "stderr",
     "output_type": "stream",
     "text": [
      "\n",
      " 30%|███       | 384/1261 [00:36<01:24, 10.43it/s]\u001b[A\n",
      " 31%|███       | 386/1261 [00:37<01:23, 10.42it/s]"
     ]
    },
    {
     "name": "stdout",
     "output_type": "stream",
     "text": [
      "Frame number:  385\n",
      "Frame number:  386\n",
      "Frame number:  387\n"
     ]
    },
    {
     "name": "stderr",
     "output_type": "stream",
     "text": [
      "\u001b[A\n",
      " 31%|███       | 388/1261 [00:37<01:24, 10.36it/s]\u001b[A"
     ]
    },
    {
     "name": "stdout",
     "output_type": "stream",
     "text": [
      "Frame number:  388\n",
      "Frame number:  389\n",
      "Frame number:  390\n"
     ]
    },
    {
     "name": "stderr",
     "output_type": "stream",
     "text": [
      "\n",
      " 31%|███       | 390/1261 [00:37<01:24, 10.29it/s]\u001b[A\n",
      " 31%|███       | 392/1261 [00:37<01:22, 10.59it/s]"
     ]
    },
    {
     "name": "stdout",
     "output_type": "stream",
     "text": [
      "Frame number:  391\n",
      "Frame number:  392\n",
      "Frame number:  393\n"
     ]
    },
    {
     "name": "stderr",
     "output_type": "stream",
     "text": [
      "\u001b[A\n",
      " 31%|███       | 394/1261 [00:37<01:21, 10.63it/s]\u001b[A"
     ]
    },
    {
     "name": "stdout",
     "output_type": "stream",
     "text": [
      "Frame number:  394\n",
      "Frame number:  395\n",
      "Frame number:  396\n"
     ]
    },
    {
     "name": "stderr",
     "output_type": "stream",
     "text": [
      "\n",
      " 31%|███▏      | 396/1261 [00:38<01:22, 10.43it/s]\u001b[A\n",
      " 32%|███▏      | 398/1261 [00:38<01:22, 10.51it/s]"
     ]
    },
    {
     "name": "stdout",
     "output_type": "stream",
     "text": [
      "Frame number:  397\n",
      "Frame number:  398\n",
      "Frame number:  399\n"
     ]
    },
    {
     "name": "stderr",
     "output_type": "stream",
     "text": [
      "\u001b[A\n",
      " 32%|███▏      | 400/1261 [00:38<01:23, 10.25it/s]"
     ]
    },
    {
     "name": "stdout",
     "output_type": "stream",
     "text": [
      "Frame number:  400\n",
      "Frame number:  401\n",
      "Frame number:  402\n"
     ]
    },
    {
     "name": "stderr",
     "output_type": "stream",
     "text": [
      "\u001b[A\n",
      " 32%|███▏      | 402/1261 [00:38<01:24, 10.20it/s]\u001b[A"
     ]
    },
    {
     "name": "stdout",
     "output_type": "stream",
     "text": [
      "Frame number:  403\n",
      "Frame number:  404\n",
      "Frame number:  405\n"
     ]
    },
    {
     "name": "stderr",
     "output_type": "stream",
     "text": [
      "\n",
      " 32%|███▏      | 404/1261 [00:38<01:23, 10.25it/s]\u001b[A\n",
      " 32%|███▏      | 406/1261 [00:39<01:22, 10.33it/s]\u001b[A"
     ]
    },
    {
     "name": "stdout",
     "output_type": "stream",
     "text": [
      "Frame number:  406\n",
      "Frame number:  407\n",
      "Frame number:  408\n"
     ]
    },
    {
     "name": "stderr",
     "output_type": "stream",
     "text": [
      "\n",
      " 32%|███▏      | 408/1261 [00:39<01:21, 10.45it/s]\u001b[A"
     ]
    },
    {
     "name": "stdout",
     "output_type": "stream",
     "text": [
      "Frame number:  409\n",
      "Frame number:  410\n"
     ]
    },
    {
     "name": "stderr",
     "output_type": "stream",
     "text": [
      "\n",
      "\r",
      " 33%|███▎      | 410/1261 [00:39<01:23, 10.14it/s]"
     ]
    },
    {
     "name": "stdout",
     "output_type": "stream",
     "text": [
      "Frame number:  411\n",
      "Frame number:  412\n"
     ]
    },
    {
     "name": "stderr",
     "output_type": "stream",
     "text": [
      "\u001b[A\n",
      " 33%|███▎      | 412/1261 [00:39<01:25,  9.88it/s]\u001b[A\n",
      " 33%|███▎      | 414/1261 [00:39<01:24, 10.04it/s]"
     ]
    },
    {
     "name": "stdout",
     "output_type": "stream",
     "text": [
      "Frame number:  413\n",
      "Frame number:  414\n",
      "Frame number:  415\n"
     ]
    },
    {
     "name": "stderr",
     "output_type": "stream",
     "text": [
      "\u001b[A\n",
      " 33%|███▎      | 416/1261 [00:40<01:21, 10.36it/s]\u001b[A"
     ]
    },
    {
     "name": "stdout",
     "output_type": "stream",
     "text": [
      "Frame number:  416\n",
      "Frame number:  417\n",
      "Frame number:  418\n"
     ]
    },
    {
     "name": "stderr",
     "output_type": "stream",
     "text": [
      "\n",
      " 33%|███▎      | 418/1261 [00:40<01:21, 10.39it/s]\u001b[A"
     ]
    },
    {
     "name": "stdout",
     "output_type": "stream",
     "text": [
      "Frame number:  419\n",
      "Frame number:  420\n"
     ]
    },
    {
     "name": "stderr",
     "output_type": "stream",
     "text": [
      "\n",
      "\r",
      " 33%|███▎      | 420/1261 [00:40<01:24, 10.00it/s]"
     ]
    },
    {
     "name": "stdout",
     "output_type": "stream",
     "text": [
      "Frame number:  421\n",
      "Frame number:  422\n"
     ]
    },
    {
     "name": "stderr",
     "output_type": "stream",
     "text": [
      "\u001b[A\n",
      " 33%|███▎      | 422/1261 [00:40<01:26,  9.68it/s]\u001b[A\n",
      " 34%|███▎      | 423/1261 [00:40<01:26,  9.66it/s]"
     ]
    },
    {
     "name": "stdout",
     "output_type": "stream",
     "text": [
      "Frame number:  423\n",
      "Frame number:  424\n",
      "Frame number:  425\n"
     ]
    },
    {
     "name": "stderr",
     "output_type": "stream",
     "text": [
      "\u001b[A\n",
      " 34%|███▎      | 425/1261 [00:40<01:22, 10.18it/s]\u001b[A"
     ]
    },
    {
     "name": "stdout",
     "output_type": "stream",
     "text": [
      "Frame number:  426\n",
      "Frame number:  427\n"
     ]
    },
    {
     "name": "stderr",
     "output_type": "stream",
     "text": [
      "\n",
      " 34%|███▍      | 427/1261 [00:41<01:28,  9.43it/s]\u001b[A\n",
      " 34%|███▍      | 428/1261 [00:41<01:26,  9.60it/s]"
     ]
    },
    {
     "name": "stdout",
     "output_type": "stream",
     "text": [
      "Frame number:  428\n",
      "Frame number:  429\n",
      "Frame number:  430\n"
     ]
    },
    {
     "name": "stderr",
     "output_type": "stream",
     "text": [
      "\u001b[A\n",
      " 34%|███▍      | 430/1261 [00:41<01:28,  9.44it/s]\u001b[A\n",
      " 34%|███▍      | 431/1261 [00:41<01:29,  9.28it/s]"
     ]
    },
    {
     "name": "stdout",
     "output_type": "stream",
     "text": [
      "Frame number:  431\n",
      "Frame number:  432\n",
      "Frame number:  433\n"
     ]
    },
    {
     "name": "stderr",
     "output_type": "stream",
     "text": [
      "\u001b[A\n",
      " 34%|███▍      | 433/1261 [00:41<01:24,  9.82it/s]\u001b[A\n",
      " 34%|███▍      | 434/1261 [00:41<01:25,  9.64it/s]"
     ]
    },
    {
     "name": "stdout",
     "output_type": "stream",
     "text": [
      "Frame number:  434\n",
      "Frame number:  435\n"
     ]
    },
    {
     "name": "stderr",
     "output_type": "stream",
     "text": [
      "\u001b[A\n",
      " 34%|███▍      | 435/1261 [00:42<01:27,  9.41it/s]\u001b[A\n",
      " 35%|███▍      | 436/1261 [00:42<01:29,  9.26it/s]"
     ]
    },
    {
     "name": "stdout",
     "output_type": "stream",
     "text": [
      "Frame number:  436\n",
      "Frame number:  437\n"
     ]
    },
    {
     "name": "stderr",
     "output_type": "stream",
     "text": [
      "\u001b[A\n",
      " 35%|███▍      | 438/1261 [00:42<01:27,  9.36it/s]"
     ]
    },
    {
     "name": "stdout",
     "output_type": "stream",
     "text": [
      "Frame number:  438\n",
      "Frame number:  439\n"
     ]
    },
    {
     "name": "stderr",
     "output_type": "stream",
     "text": [
      "\u001b[A\n",
      " 35%|███▍      | 439/1261 [00:42<01:30,  9.13it/s]\u001b[A"
     ]
    },
    {
     "name": "stdout",
     "output_type": "stream",
     "text": [
      "Frame number:  440\n",
      "Frame number:  441\n",
      "Frame number:  442\n"
     ]
    },
    {
     "name": "stderr",
     "output_type": "stream",
     "text": [
      "\n",
      " 35%|███▍      | 441/1261 [00:42<01:25,  9.54it/s]\u001b[A\n",
      " 35%|███▌      | 442/1261 [00:42<01:29,  9.14it/s]\u001b[A\n",
      " 35%|███▌      | 443/1261 [00:42<01:30,  9.07it/s]"
     ]
    },
    {
     "name": "stdout",
     "output_type": "stream",
     "text": [
      "Frame number:  443\n",
      "Frame number:  444\n",
      "Frame number:  445\n"
     ]
    },
    {
     "name": "stderr",
     "output_type": "stream",
     "text": [
      "\u001b[A\n",
      " 35%|███▌      | 445/1261 [00:43<01:24,  9.60it/s]\u001b[A\n",
      " 35%|███▌      | 446/1261 [00:43<01:32,  8.79it/s]"
     ]
    },
    {
     "name": "stdout",
     "output_type": "stream",
     "text": [
      "Frame number:  446\n",
      "Frame number:  447\n"
     ]
    },
    {
     "name": "stderr",
     "output_type": "stream",
     "text": [
      "\u001b[A\n",
      " 36%|███▌      | 448/1261 [00:43<01:25,  9.55it/s]\u001b[A"
     ]
    },
    {
     "name": "stdout",
     "output_type": "stream",
     "text": [
      "Frame number:  448\n",
      "Frame number:  449\n",
      "Frame number:  450\n"
     ]
    },
    {
     "name": "stderr",
     "output_type": "stream",
     "text": [
      "\n",
      " 36%|███▌      | 450/1261 [00:43<01:22,  9.85it/s]\u001b[A\n",
      " 36%|███▌      | 452/1261 [00:43<01:19, 10.14it/s]"
     ]
    },
    {
     "name": "stdout",
     "output_type": "stream",
     "text": [
      "Frame number:  451\n",
      "Frame number:  452\n",
      "Frame number:  453\n"
     ]
    },
    {
     "name": "stderr",
     "output_type": "stream",
     "text": [
      "\u001b[A\n",
      " 36%|███▌      | 454/1261 [00:43<01:20, 10.01it/s]\u001b[A"
     ]
    },
    {
     "name": "stdout",
     "output_type": "stream",
     "text": [
      "Frame number:  454\n",
      "Frame number:  455\n"
     ]
    },
    {
     "name": "stderr",
     "output_type": "stream",
     "text": [
      "\n",
      " 36%|███▌      | 456/1261 [00:44<01:18, 10.24it/s]\u001b[A"
     ]
    },
    {
     "name": "stdout",
     "output_type": "stream",
     "text": [
      "Frame number:  456\n",
      "Frame number:  457\n",
      "Frame number:  458\n"
     ]
    },
    {
     "name": "stderr",
     "output_type": "stream",
     "text": [
      "\n",
      " 36%|███▋      | 458/1261 [00:44<01:18, 10.27it/s]\u001b[A\n",
      " 36%|███▋      | 460/1261 [00:44<01:16, 10.48it/s]"
     ]
    },
    {
     "name": "stdout",
     "output_type": "stream",
     "text": [
      "Frame number:  459\n",
      "Frame number:  460\n",
      "Frame number:  461\n"
     ]
    },
    {
     "name": "stderr",
     "output_type": "stream",
     "text": [
      "\u001b[A\n",
      " 37%|███▋      | 462/1261 [00:44<01:16, 10.40it/s]\u001b[A"
     ]
    },
    {
     "name": "stdout",
     "output_type": "stream",
     "text": [
      "Frame number:  462\n",
      "Frame number:  463\n"
     ]
    },
    {
     "name": "stderr",
     "output_type": "stream",
     "text": [
      "\n",
      " 37%|███▋      | 464/1261 [00:44<01:16, 10.43it/s]\u001b[A"
     ]
    },
    {
     "name": "stdout",
     "output_type": "stream",
     "text": [
      "Frame number:  464\n",
      "Frame number:  465\n",
      "Frame number:  466\n"
     ]
    },
    {
     "name": "stderr",
     "output_type": "stream",
     "text": [
      "\n",
      " 37%|███▋      | 466/1261 [00:45<01:14, 10.62it/s]\u001b[A\n",
      " 37%|███▋      | 468/1261 [00:45<01:14, 10.64it/s]"
     ]
    },
    {
     "name": "stdout",
     "output_type": "stream",
     "text": [
      "Frame number:  467\n",
      "Frame number:  468\n",
      "Frame number:  469\n"
     ]
    },
    {
     "name": "stderr",
     "output_type": "stream",
     "text": [
      "\u001b[A\n",
      " 37%|███▋      | 470/1261 [00:45<01:16, 10.29it/s]"
     ]
    },
    {
     "name": "stdout",
     "output_type": "stream",
     "text": [
      "Frame number:  470\n",
      "Frame number:  471\n"
     ]
    },
    {
     "name": "stderr",
     "output_type": "stream",
     "text": [
      "\u001b[A\n",
      " 37%|███▋      | 472/1261 [00:45<01:17, 10.20it/s]\u001b[A"
     ]
    },
    {
     "name": "stdout",
     "output_type": "stream",
     "text": [
      "Frame number:  472\n",
      "Frame number:  473\n",
      "Frame number:  474\n"
     ]
    },
    {
     "name": "stderr",
     "output_type": "stream",
     "text": [
      "\n",
      " 38%|███▊      | 474/1261 [00:45<01:17, 10.15it/s]\u001b[A\n",
      " 38%|███▊      | 476/1261 [00:46<01:15, 10.33it/s]"
     ]
    },
    {
     "name": "stdout",
     "output_type": "stream",
     "text": [
      "Frame number:  475\n",
      "Frame number:  476\n",
      "Frame number:  477\n"
     ]
    },
    {
     "name": "stderr",
     "output_type": "stream",
     "text": [
      "\u001b[A\n",
      " 38%|███▊      | 478/1261 [00:46<01:14, 10.48it/s]\u001b[A"
     ]
    },
    {
     "name": "stdout",
     "output_type": "stream",
     "text": [
      "Frame number:  478\n",
      "Frame number:  479\n"
     ]
    },
    {
     "name": "stderr",
     "output_type": "stream",
     "text": [
      "\n",
      " 38%|███▊      | 480/1261 [00:46<01:13, 10.56it/s]\u001b[A"
     ]
    },
    {
     "name": "stdout",
     "output_type": "stream",
     "text": [
      "Frame number:  480\n",
      "Frame number:  481\n",
      "Frame number:  482\n"
     ]
    },
    {
     "name": "stderr",
     "output_type": "stream",
     "text": [
      "\n",
      " 38%|███▊      | 482/1261 [00:46<01:16, 10.23it/s]\u001b[A\n",
      " 38%|███▊      | 484/1261 [00:46<01:15, 10.34it/s]"
     ]
    },
    {
     "name": "stdout",
     "output_type": "stream",
     "text": [
      "Frame number:  483\n",
      "Frame number:  484\n",
      "Frame number:  485\n"
     ]
    },
    {
     "name": "stderr",
     "output_type": "stream",
     "text": [
      "\u001b[A\n",
      " 39%|███▊      | 486/1261 [00:47<01:15, 10.27it/s]\u001b[A"
     ]
    },
    {
     "name": "stdout",
     "output_type": "stream",
     "text": [
      "Frame number:  486\n",
      "Frame number:  487\n"
     ]
    },
    {
     "name": "stderr",
     "output_type": "stream",
     "text": [
      "\n",
      " 39%|███▊      | 488/1261 [00:47<01:14, 10.42it/s]\u001b[A"
     ]
    },
    {
     "name": "stdout",
     "output_type": "stream",
     "text": [
      "Frame number:  488\n",
      "Frame number:  489\n",
      "Frame number:  490\n"
     ]
    },
    {
     "name": "stderr",
     "output_type": "stream",
     "text": [
      "\n",
      " 39%|███▉      | 490/1261 [00:47<01:15, 10.15it/s]\u001b[A\n",
      " 39%|███▉      | 492/1261 [00:47<01:14, 10.32it/s]"
     ]
    },
    {
     "name": "stdout",
     "output_type": "stream",
     "text": [
      "Frame number:  491\n",
      "Frame number:  492\n",
      "Frame number:  493\n"
     ]
    },
    {
     "name": "stderr",
     "output_type": "stream",
     "text": [
      "\u001b[A\n",
      " 39%|███▉      | 494/1261 [00:47<01:13, 10.43it/s]\u001b[A"
     ]
    },
    {
     "name": "stdout",
     "output_type": "stream",
     "text": [
      "Frame number:  494\n",
      "Frame number:  495\n"
     ]
    },
    {
     "name": "stderr",
     "output_type": "stream",
     "text": [
      "\n",
      "\r",
      " 39%|███▉      | 496/1261 [00:48<01:15, 10.15it/s]"
     ]
    },
    {
     "name": "stdout",
     "output_type": "stream",
     "text": [
      "Frame number:  496\n",
      "Frame number:  497\n",
      "Frame number:  498\n"
     ]
    },
    {
     "name": "stderr",
     "output_type": "stream",
     "text": [
      "\u001b[A\n",
      " 39%|███▉      | 498/1261 [00:48<01:12, 10.49it/s]\u001b[A"
     ]
    },
    {
     "name": "stdout",
     "output_type": "stream",
     "text": [
      "Frame number:  499\n",
      "Frame number:  500\n"
     ]
    },
    {
     "name": "stderr",
     "output_type": "stream",
     "text": [
      "\n",
      "\r",
      " 40%|███▉      | 500/1261 [00:48<01:15, 10.03it/s]"
     ]
    },
    {
     "name": "stdout",
     "output_type": "stream",
     "text": [
      "Frame number:  501\n",
      "Frame number:  502\n"
     ]
    },
    {
     "name": "stderr",
     "output_type": "stream",
     "text": [
      "\u001b[A\n",
      " 40%|███▉      | 502/1261 [00:48<01:15, 10.04it/s]\u001b[A\n",
      " 40%|███▉      | 504/1261 [00:48<01:14, 10.22it/s]"
     ]
    },
    {
     "name": "stdout",
     "output_type": "stream",
     "text": [
      "Frame number:  503\n",
      "Frame number:  504\n",
      "Frame number:  505\n"
     ]
    },
    {
     "name": "stderr",
     "output_type": "stream",
     "text": [
      "\u001b[A\n",
      " 40%|████      | 506/1261 [00:48<01:13, 10.23it/s]\u001b[A"
     ]
    },
    {
     "name": "stdout",
     "output_type": "stream",
     "text": [
      "Frame number:  506\n",
      "Frame number:  507\n",
      "Frame number:  508\n"
     ]
    },
    {
     "name": "stderr",
     "output_type": "stream",
     "text": [
      "\n",
      " 40%|████      | 508/1261 [00:49<01:11, 10.48it/s]\u001b[A\n",
      " 40%|████      | 510/1261 [00:49<01:11, 10.47it/s]"
     ]
    },
    {
     "name": "stdout",
     "output_type": "stream",
     "text": [
      "Frame number:  509\n",
      "Frame number:  510\n",
      "Frame number:  511\n"
     ]
    },
    {
     "name": "stderr",
     "output_type": "stream",
     "text": [
      "\u001b[A\n",
      " 41%|████      | 512/1261 [00:49<01:10, 10.59it/s]\u001b[A"
     ]
    },
    {
     "name": "stdout",
     "output_type": "stream",
     "text": [
      "Frame number:  512\n",
      "Frame number:  513\n",
      "Frame number:  514\n"
     ]
    },
    {
     "name": "stderr",
     "output_type": "stream",
     "text": [
      "\n",
      " 41%|████      | 514/1261 [00:49<01:13, 10.20it/s]\u001b[A\n",
      " 41%|████      | 516/1261 [00:49<01:10, 10.60it/s]"
     ]
    },
    {
     "name": "stdout",
     "output_type": "stream",
     "text": [
      "Frame number:  515\n",
      "Frame number:  516\n",
      "Frame number:  517\n"
     ]
    },
    {
     "name": "stderr",
     "output_type": "stream",
     "text": [
      "\u001b[A\n",
      " 41%|████      | 518/1261 [00:50<01:10, 10.57it/s]\u001b[A"
     ]
    },
    {
     "name": "stdout",
     "output_type": "stream",
     "text": [
      "Frame number:  518\n",
      "Frame number:  519\n"
     ]
    },
    {
     "name": "stderr",
     "output_type": "stream",
     "text": [
      "\n",
      " 41%|████      | 520/1261 [00:50<01:09, 10.61it/s]\u001b[A"
     ]
    },
    {
     "name": "stdout",
     "output_type": "stream",
     "text": [
      "Frame number:  520\n",
      "Frame number:  521\n",
      "Frame number:  522\n"
     ]
    },
    {
     "name": "stderr",
     "output_type": "stream",
     "text": [
      "\n",
      " 41%|████▏     | 522/1261 [00:50<01:11, 10.40it/s]\u001b[A\n",
      " 42%|████▏     | 524/1261 [00:50<01:10, 10.53it/s]"
     ]
    },
    {
     "name": "stdout",
     "output_type": "stream",
     "text": [
      "Frame number:  523\n",
      "Frame number:  524\n",
      "Frame number:  525\n"
     ]
    },
    {
     "name": "stderr",
     "output_type": "stream",
     "text": [
      "\u001b[A\n",
      " 42%|████▏     | 526/1261 [00:50<01:13, 10.07it/s]"
     ]
    },
    {
     "name": "stdout",
     "output_type": "stream",
     "text": [
      "Frame number:  526\n",
      "Frame number:  527\n"
     ]
    },
    {
     "name": "stderr",
     "output_type": "stream",
     "text": [
      "\u001b[A\n",
      " 42%|████▏     | 528/1261 [00:51<01:11, 10.27it/s]\u001b[A"
     ]
    },
    {
     "name": "stdout",
     "output_type": "stream",
     "text": [
      "Frame number:  528\n",
      "Frame number:  529\n",
      "Frame number:  530\n"
     ]
    },
    {
     "name": "stderr",
     "output_type": "stream",
     "text": [
      "\n",
      " 42%|████▏     | 530/1261 [00:51<01:13, 10.01it/s]\u001b[A\n",
      " 42%|████▏     | 532/1261 [00:51<01:09, 10.53it/s]"
     ]
    },
    {
     "name": "stdout",
     "output_type": "stream",
     "text": [
      "Frame number:  531\n",
      "Frame number:  532\n",
      "Frame number:  533\n"
     ]
    },
    {
     "name": "stderr",
     "output_type": "stream",
     "text": [
      "\u001b[A\n",
      " 42%|████▏     | 534/1261 [00:51<01:11, 10.10it/s]"
     ]
    },
    {
     "name": "stdout",
     "output_type": "stream",
     "text": [
      "Frame number:  534\n",
      "Frame number:  535\n"
     ]
    },
    {
     "name": "stderr",
     "output_type": "stream",
     "text": [
      "\u001b[A\n",
      " 43%|████▎     | 536/1261 [00:51<01:09, 10.41it/s]\u001b[A"
     ]
    },
    {
     "name": "stdout",
     "output_type": "stream",
     "text": [
      "Frame number:  536\n",
      "Frame number:  537\n",
      "Frame number:  538\n"
     ]
    },
    {
     "name": "stderr",
     "output_type": "stream",
     "text": [
      "\n",
      " 43%|████▎     | 538/1261 [00:52<01:08, 10.60it/s]\u001b[A\n",
      " 43%|████▎     | 540/1261 [00:52<01:07, 10.66it/s]"
     ]
    },
    {
     "name": "stdout",
     "output_type": "stream",
     "text": [
      "Frame number:  539\n",
      "Frame number:  540\n",
      "Frame number:  541\n"
     ]
    },
    {
     "name": "stderr",
     "output_type": "stream",
     "text": [
      "\u001b[A\n",
      " 43%|████▎     | 542/1261 [00:52<01:09, 10.39it/s]"
     ]
    },
    {
     "name": "stdout",
     "output_type": "stream",
     "text": [
      "Frame number:  542\n",
      "Frame number:  543\n"
     ]
    },
    {
     "name": "stderr",
     "output_type": "stream",
     "text": [
      "\u001b[A\n",
      " 43%|████▎     | 544/1261 [00:52<01:09, 10.27it/s]\u001b[A"
     ]
    },
    {
     "name": "stdout",
     "output_type": "stream",
     "text": [
      "Frame number:  544\n",
      "Frame number:  545\n",
      "Frame number:  546\n"
     ]
    },
    {
     "name": "stderr",
     "output_type": "stream",
     "text": [
      "\n",
      " 43%|████▎     | 546/1261 [00:52<01:06, 10.83it/s]\u001b[A\n",
      " 43%|████▎     | 548/1261 [00:52<01:05, 10.85it/s]"
     ]
    },
    {
     "name": "stdout",
     "output_type": "stream",
     "text": [
      "Frame number:  547\n",
      "Frame number:  548\n",
      "Frame number:  549\n"
     ]
    },
    {
     "name": "stderr",
     "output_type": "stream",
     "text": [
      "\u001b[A\n",
      " 44%|████▎     | 550/1261 [00:53<01:03, 11.13it/s]\u001b[A"
     ]
    },
    {
     "name": "stdout",
     "output_type": "stream",
     "text": [
      "Frame number:  550\n",
      "Frame number:  551\n",
      "Frame number:  552\n"
     ]
    },
    {
     "name": "stderr",
     "output_type": "stream",
     "text": [
      "\n",
      " 44%|████▍     | 552/1261 [00:53<01:07, 10.57it/s]\u001b[A\n",
      " 44%|████▍     | 554/1261 [00:53<01:07, 10.52it/s]"
     ]
    },
    {
     "name": "stdout",
     "output_type": "stream",
     "text": [
      "Frame number:  553\n",
      "Frame number:  554\n",
      "Frame number:  555\n"
     ]
    },
    {
     "name": "stderr",
     "output_type": "stream",
     "text": [
      "\u001b[A\n",
      " 44%|████▍     | 556/1261 [00:53<01:06, 10.56it/s]\u001b[A"
     ]
    },
    {
     "name": "stdout",
     "output_type": "stream",
     "text": [
      "Frame number:  556\n",
      "Frame number:  557\n"
     ]
    },
    {
     "name": "stderr",
     "output_type": "stream",
     "text": [
      "\n",
      " 44%|████▍     | 558/1261 [00:53<01:07, 10.47it/s]\u001b[A"
     ]
    },
    {
     "name": "stdout",
     "output_type": "stream",
     "text": [
      "Frame number:  558\n",
      "Frame number:  559\n",
      "Frame number:  560\n"
     ]
    },
    {
     "name": "stderr",
     "output_type": "stream",
     "text": [
      "\n",
      " 44%|████▍     | 560/1261 [00:54<01:07, 10.43it/s]\u001b[A"
     ]
    },
    {
     "name": "stdout",
     "output_type": "stream",
     "text": [
      "Frame number:  561\n",
      "Frame number:  562\n",
      "Frame number:  563\n"
     ]
    },
    {
     "name": "stderr",
     "output_type": "stream",
     "text": [
      "\n",
      " 45%|████▍     | 562/1261 [00:54<01:07, 10.36it/s]\u001b[A\n",
      " 45%|████▍     | 564/1261 [00:54<01:06, 10.46it/s]\u001b[A"
     ]
    },
    {
     "name": "stdout",
     "output_type": "stream",
     "text": [
      "Frame number:  564\n",
      "Frame number:  565\n",
      "Frame number:  566\n"
     ]
    },
    {
     "name": "stderr",
     "output_type": "stream",
     "text": [
      "\n",
      " 45%|████▍     | 566/1261 [00:54<01:07, 10.31it/s]\u001b[A\n",
      " 45%|████▌     | 568/1261 [00:54<01:06, 10.36it/s]"
     ]
    },
    {
     "name": "stdout",
     "output_type": "stream",
     "text": [
      "Frame number:  567\n",
      "Frame number:  568\n",
      "Frame number:  569\n"
     ]
    },
    {
     "name": "stderr",
     "output_type": "stream",
     "text": [
      "\u001b[A\n",
      " 45%|████▌     | 570/1261 [00:55<01:08, 10.11it/s]"
     ]
    },
    {
     "name": "stdout",
     "output_type": "stream",
     "text": [
      "Frame number:  570\n",
      "Frame number:  571\n",
      "Frame number:  572\n"
     ]
    },
    {
     "name": "stderr",
     "output_type": "stream",
     "text": [
      "\u001b[A\n",
      " 45%|████▌     | 572/1261 [00:55<01:10,  9.73it/s]\u001b[A\n",
      " 46%|████▌     | 574/1261 [00:55<01:08, 10.03it/s]"
     ]
    },
    {
     "name": "stdout",
     "output_type": "stream",
     "text": [
      "Frame number:  573\n",
      "Frame number:  574\n",
      "Frame number:  575\n"
     ]
    },
    {
     "name": "stderr",
     "output_type": "stream",
     "text": [
      "\u001b[A\n",
      " 46%|████▌     | 576/1261 [00:55<01:09,  9.81it/s]"
     ]
    },
    {
     "name": "stdout",
     "output_type": "stream",
     "text": [
      "Frame number:  576\n",
      "Frame number:  577\n"
     ]
    },
    {
     "name": "stderr",
     "output_type": "stream",
     "text": [
      "\u001b[A\n",
      " 46%|████▌     | 577/1261 [00:55<01:12,  9.41it/s]\u001b[A"
     ]
    },
    {
     "name": "stdout",
     "output_type": "stream",
     "text": [
      "Frame number:  578\n",
      "Frame number:  579\n"
     ]
    },
    {
     "name": "stderr",
     "output_type": "stream",
     "text": [
      "\n",
      " 46%|████▌     | 579/1261 [00:56<01:10,  9.63it/s]\u001b[A\n",
      " 46%|████▌     | 580/1261 [00:56<01:14,  9.19it/s]"
     ]
    },
    {
     "name": "stdout",
     "output_type": "stream",
     "text": [
      "Frame number:  580\n",
      "Frame number:  581\n"
     ]
    },
    {
     "name": "stderr",
     "output_type": "stream",
     "text": [
      "\u001b[A\n",
      " 46%|████▌     | 581/1261 [00:56<01:13,  9.21it/s]\u001b[A\n",
      " 46%|████▌     | 583/1261 [00:56<01:09,  9.71it/s]"
     ]
    },
    {
     "name": "stdout",
     "output_type": "stream",
     "text": [
      "Frame number:  582\n",
      "Frame number:  583\n",
      "Frame number:  584\n"
     ]
    },
    {
     "name": "stderr",
     "output_type": "stream",
     "text": [
      "\u001b[A\n",
      " 46%|████▋     | 584/1261 [00:56<01:14,  9.11it/s]\u001b[A\n",
      " 46%|████▋     | 585/1261 [00:56<01:14,  9.08it/s]"
     ]
    },
    {
     "name": "stdout",
     "output_type": "stream",
     "text": [
      "Frame number:  585\n",
      "Frame number:  586\n"
     ]
    },
    {
     "name": "stderr",
     "output_type": "stream",
     "text": [
      "\u001b[A\n",
      " 46%|████▋     | 586/1261 [00:56<01:13,  9.20it/s]\u001b[A\n",
      " 47%|████▋     | 587/1261 [00:56<01:12,  9.28it/s]"
     ]
    },
    {
     "name": "stdout",
     "output_type": "stream",
     "text": [
      "Frame number:  587\n",
      "Frame number:  588\n"
     ]
    },
    {
     "name": "stderr",
     "output_type": "stream",
     "text": [
      "\u001b[A\n",
      " 47%|████▋     | 588/1261 [00:57<01:12,  9.30it/s]\u001b[A\n",
      " 47%|████▋     | 589/1261 [00:57<01:11,  9.43it/s]"
     ]
    },
    {
     "name": "stdout",
     "output_type": "stream",
     "text": [
      "Frame number:  589\n",
      "Frame number:  590\n",
      "Frame number:  591\n"
     ]
    },
    {
     "name": "stderr",
     "output_type": "stream",
     "text": [
      "\u001b[A\n",
      " 47%|████▋     | 591/1261 [00:57<01:07,  9.89it/s]\u001b[A\n",
      " 47%|████▋     | 592/1261 [00:57<01:09,  9.58it/s]"
     ]
    },
    {
     "name": "stdout",
     "output_type": "stream",
     "text": [
      "Frame number:  592\n",
      "Frame number:  593\n"
     ]
    },
    {
     "name": "stderr",
     "output_type": "stream",
     "text": [
      "\u001b[A\n",
      " 47%|████▋     | 593/1261 [00:57<01:13,  9.11it/s]\u001b[A\n",
      " 47%|████▋     | 595/1261 [00:57<01:09,  9.60it/s]"
     ]
    },
    {
     "name": "stdout",
     "output_type": "stream",
     "text": [
      "Frame number:  594\n",
      "Frame number:  595\n",
      "Frame number:  596\n"
     ]
    },
    {
     "name": "stderr",
     "output_type": "stream",
     "text": [
      "\u001b[A\n",
      " 47%|████▋     | 596/1261 [00:57<01:11,  9.31it/s]\u001b[A\n",
      " 47%|████▋     | 598/1261 [00:58<01:09,  9.61it/s]"
     ]
    },
    {
     "name": "stdout",
     "output_type": "stream",
     "text": [
      "Frame number:  597\n",
      "Frame number:  598\n",
      "Frame number:  599\n"
     ]
    },
    {
     "name": "stderr",
     "output_type": "stream",
     "text": [
      "\u001b[A\n",
      " 48%|████▊     | 599/1261 [00:58<01:11,  9.26it/s]\u001b[A\n",
      " 48%|████▊     | 600/1261 [00:58<01:15,  8.70it/s]"
     ]
    },
    {
     "name": "stdout",
     "output_type": "stream",
     "text": [
      "Frame number:  600\n",
      "Frame number:  601\n"
     ]
    },
    {
     "name": "stderr",
     "output_type": "stream",
     "text": [
      "\u001b[A\n",
      " 48%|████▊     | 601/1261 [00:58<01:14,  8.86it/s]\u001b[A"
     ]
    },
    {
     "name": "stdout",
     "output_type": "stream",
     "text": [
      "Frame number:  602\n",
      "Frame number:  603\n",
      "Frame number:  604\n"
     ]
    },
    {
     "name": "stderr",
     "output_type": "stream",
     "text": [
      "\n",
      " 48%|████▊     | 603/1261 [00:58<01:11,  9.18it/s]\u001b[A\n",
      " 48%|████▊     | 604/1261 [00:58<01:14,  8.82it/s]\u001b[A\n",
      " 48%|████▊     | 605/1261 [00:58<01:11,  9.14it/s]"
     ]
    },
    {
     "name": "stdout",
     "output_type": "stream",
     "text": [
      "Frame number:  605\n",
      "Frame number:  606\n",
      "Frame number:  607\n"
     ]
    },
    {
     "name": "stderr",
     "output_type": "stream",
     "text": [
      "\u001b[A\n",
      " 48%|████▊     | 607/1261 [00:58<01:06,  9.78it/s]\u001b[A\n",
      " 48%|████▊     | 608/1261 [00:59<01:06,  9.83it/s]"
     ]
    },
    {
     "name": "stdout",
     "output_type": "stream",
     "text": [
      "Frame number:  608\n",
      "Frame number:  609\n"
     ]
    },
    {
     "name": "stderr",
     "output_type": "stream",
     "text": [
      "\u001b[A\n",
      " 48%|████▊     | 609/1261 [00:59<01:11,  9.13it/s]\u001b[A\n",
      " 48%|████▊     | 610/1261 [00:59<01:14,  8.76it/s]"
     ]
    },
    {
     "name": "stdout",
     "output_type": "stream",
     "text": [
      "Frame number:  610\n",
      "Frame number:  611\n"
     ]
    },
    {
     "name": "stderr",
     "output_type": "stream",
     "text": [
      "\u001b[A\n",
      " 48%|████▊     | 611/1261 [00:59<01:18,  8.26it/s]\u001b[A\n",
      " 49%|████▊     | 612/1261 [00:59<01:20,  8.10it/s]"
     ]
    },
    {
     "name": "stdout",
     "output_type": "stream",
     "text": [
      "Frame number:  612\n",
      "Frame number:  613\n"
     ]
    },
    {
     "name": "stderr",
     "output_type": "stream",
     "text": [
      "\u001b[A\n",
      " 49%|████▊     | 613/1261 [00:59<01:23,  7.80it/s]\u001b[A\n",
      " 49%|████▊     | 614/1261 [00:59<01:24,  7.69it/s]"
     ]
    },
    {
     "name": "stdout",
     "output_type": "stream",
     "text": [
      "Frame number:  614\n",
      "Frame number:  615\n"
     ]
    },
    {
     "name": "stderr",
     "output_type": "stream",
     "text": [
      "\u001b[A\n",
      " 49%|████▉     | 615/1261 [00:59<01:23,  7.76it/s]\u001b[A\n",
      " 49%|████▉     | 616/1261 [01:00<01:18,  8.20it/s]"
     ]
    },
    {
     "name": "stdout",
     "output_type": "stream",
     "text": [
      "Frame number:  616\n",
      "Frame number:  617\n"
     ]
    },
    {
     "name": "stderr",
     "output_type": "stream",
     "text": [
      "\u001b[A\n",
      " 49%|████▉     | 617/1261 [01:00<01:16,  8.42it/s]\u001b[A\n",
      " 49%|████▉     | 618/1261 [01:00<01:13,  8.74it/s]"
     ]
    },
    {
     "name": "stdout",
     "output_type": "stream",
     "text": [
      "Frame number:  618\n",
      "Frame number:  619\n"
     ]
    },
    {
     "name": "stderr",
     "output_type": "stream",
     "text": [
      "\u001b[A\n",
      " 49%|████▉     | 619/1261 [01:00<01:12,  8.90it/s]\u001b[A\n",
      " 49%|████▉     | 620/1261 [01:00<01:14,  8.63it/s]"
     ]
    },
    {
     "name": "stdout",
     "output_type": "stream",
     "text": [
      "Frame number:  620\n",
      "Frame number:  621\n"
     ]
    },
    {
     "name": "stderr",
     "output_type": "stream",
     "text": [
      "\u001b[A\n",
      " 49%|████▉     | 621/1261 [01:00<01:14,  8.59it/s]\u001b[A"
     ]
    },
    {
     "name": "stdout",
     "output_type": "stream",
     "text": [
      "Frame number:  622\n",
      "Frame number:  623\n",
      "Frame number:  624\n"
     ]
    },
    {
     "name": "stderr",
     "output_type": "stream",
     "text": [
      "\n",
      " 49%|████▉     | 623/1261 [01:00<01:11,  8.98it/s]\u001b[A\n",
      " 49%|████▉     | 624/1261 [01:00<01:13,  8.69it/s]\u001b[A\n",
      " 50%|████▉     | 626/1261 [01:01<01:07,  9.38it/s]"
     ]
    },
    {
     "name": "stdout",
     "output_type": "stream",
     "text": [
      "Frame number:  625\n",
      "Frame number:  626\n",
      "Frame number:  627\n"
     ]
    },
    {
     "name": "stderr",
     "output_type": "stream",
     "text": [
      "\u001b[A\n",
      " 50%|████▉     | 628/1261 [01:01<01:04,  9.84it/s]\u001b[A"
     ]
    },
    {
     "name": "stdout",
     "output_type": "stream",
     "text": [
      "Frame number:  628\n",
      "Frame number:  629\n",
      "Frame number:  630\n"
     ]
    },
    {
     "name": "stderr",
     "output_type": "stream",
     "text": [
      "\n",
      " 50%|████▉     | 630/1261 [01:01<01:02, 10.05it/s]\u001b[A"
     ]
    },
    {
     "name": "stdout",
     "output_type": "stream",
     "text": [
      "Frame number:  631\n",
      "Frame number:  632\n"
     ]
    },
    {
     "name": "stderr",
     "output_type": "stream",
     "text": [
      "\n",
      " 50%|█████     | 632/1261 [01:01<01:04,  9.73it/s]\u001b[A\n",
      " 50%|█████     | 634/1261 [01:01<01:02, 10.08it/s]"
     ]
    },
    {
     "name": "stdout",
     "output_type": "stream",
     "text": [
      "Frame number:  633\n",
      "Frame number:  634\n",
      "Frame number:  635\n"
     ]
    },
    {
     "name": "stderr",
     "output_type": "stream",
     "text": [
      "\u001b[A\n",
      " 50%|█████     | 636/1261 [01:02<01:01, 10.13it/s]\u001b[A"
     ]
    },
    {
     "name": "stdout",
     "output_type": "stream",
     "text": [
      "Frame number:  636\n",
      "Frame number:  637\n",
      "Frame number:  638\n"
     ]
    },
    {
     "name": "stderr",
     "output_type": "stream",
     "text": [
      "\n",
      " 51%|█████     | 638/1261 [01:02<01:01, 10.16it/s]\u001b[A\n",
      " 51%|█████     | 640/1261 [01:02<00:59, 10.36it/s]"
     ]
    },
    {
     "name": "stdout",
     "output_type": "stream",
     "text": [
      "Frame number:  639\n",
      "Frame number:  640\n",
      "Frame number:  641\n"
     ]
    },
    {
     "name": "stderr",
     "output_type": "stream",
     "text": [
      "\u001b[A\n",
      " 51%|█████     | 642/1261 [01:02<01:01, 10.01it/s]"
     ]
    },
    {
     "name": "stdout",
     "output_type": "stream",
     "text": [
      "Frame number:  642\n",
      "Frame number:  643\n",
      "Frame number:  644\n"
     ]
    },
    {
     "name": "stderr",
     "output_type": "stream",
     "text": [
      "\u001b[A\n",
      " 51%|█████     | 644/1261 [01:02<01:05,  9.38it/s]\u001b[A\n",
      " 51%|█████     | 645/1261 [01:03<01:05,  9.34it/s]"
     ]
    },
    {
     "name": "stdout",
     "output_type": "stream",
     "text": [
      "Frame number:  645\n",
      "Frame number:  646\n",
      "Frame number:  647\n"
     ]
    },
    {
     "name": "stderr",
     "output_type": "stream",
     "text": [
      "\u001b[A\n",
      " 51%|█████▏    | 647/1261 [01:03<01:02,  9.80it/s]\u001b[A\n",
      " 51%|█████▏    | 648/1261 [01:03<01:05,  9.33it/s]"
     ]
    },
    {
     "name": "stdout",
     "output_type": "stream",
     "text": [
      "Frame number:  648\n",
      "Frame number:  649\n",
      "Frame number:  650\n"
     ]
    },
    {
     "name": "stderr",
     "output_type": "stream",
     "text": [
      "\u001b[A\n",
      " 52%|█████▏    | 650/1261 [01:03<01:00, 10.04it/s]\u001b[A"
     ]
    },
    {
     "name": "stdout",
     "output_type": "stream",
     "text": [
      "Frame number:  651\n",
      "Frame number:  652\n"
     ]
    },
    {
     "name": "stderr",
     "output_type": "stream",
     "text": [
      "\n",
      "\r",
      " 52%|█████▏    | 652/1261 [01:03<01:00,  9.99it/s]"
     ]
    },
    {
     "name": "stdout",
     "output_type": "stream",
     "text": [
      "Frame number:  653\n",
      "Frame number:  654\n",
      "Frame number:  655\n"
     ]
    },
    {
     "name": "stderr",
     "output_type": "stream",
     "text": [
      "\u001b[A\n",
      " 52%|█████▏    | 654/1261 [01:03<01:00, 10.02it/s]\u001b[A\n",
      " 52%|█████▏    | 656/1261 [01:04<00:58, 10.27it/s]\u001b[A"
     ]
    },
    {
     "name": "stdout",
     "output_type": "stream",
     "text": [
      "Frame number:  656\n",
      "Frame number:  657\n",
      "Frame number:  658\n"
     ]
    },
    {
     "name": "stderr",
     "output_type": "stream",
     "text": [
      "\n",
      " 52%|█████▏    | 658/1261 [01:04<00:58, 10.38it/s]\u001b[A"
     ]
    },
    {
     "name": "stdout",
     "output_type": "stream",
     "text": [
      "Frame number:  659\n",
      "Frame number:  660\n"
     ]
    },
    {
     "name": "stderr",
     "output_type": "stream",
     "text": [
      "\n",
      " 52%|█████▏    | 660/1261 [01:04<00:59, 10.05it/s]\u001b[A\n",
      " 52%|█████▏    | 662/1261 [01:04<00:58, 10.24it/s]"
     ]
    },
    {
     "name": "stdout",
     "output_type": "stream",
     "text": [
      "Frame number:  661\n",
      "Frame number:  662\n",
      "Frame number:  663\n"
     ]
    },
    {
     "name": "stderr",
     "output_type": "stream",
     "text": [
      "\u001b[A\n",
      " 53%|█████▎    | 664/1261 [01:04<01:00,  9.85it/s]"
     ]
    },
    {
     "name": "stdout",
     "output_type": "stream",
     "text": [
      "Frame number:  664\n",
      "Frame number:  665\n",
      "Frame number:  666\n"
     ]
    },
    {
     "name": "stderr",
     "output_type": "stream",
     "text": [
      "\u001b[A\n",
      " 53%|█████▎    | 666/1261 [01:05<00:58, 10.15it/s]\u001b[A\n",
      " 53%|█████▎    | 668/1261 [01:05<00:57, 10.31it/s]"
     ]
    },
    {
     "name": "stdout",
     "output_type": "stream",
     "text": [
      "Frame number:  667\n",
      "Frame number:  668\n",
      "Frame number:  669\n"
     ]
    },
    {
     "name": "stderr",
     "output_type": "stream",
     "text": [
      "\u001b[A\n",
      " 53%|█████▎    | 670/1261 [01:05<00:57, 10.36it/s]\u001b[A"
     ]
    },
    {
     "name": "stdout",
     "output_type": "stream",
     "text": [
      "Frame number:  670\n",
      "Frame number:  671\n",
      "Frame number:  672\n"
     ]
    },
    {
     "name": "stderr",
     "output_type": "stream",
     "text": [
      "\n",
      " 53%|█████▎    | 672/1261 [01:05<00:54, 10.74it/s]\u001b[A\n",
      " 53%|█████▎    | 674/1261 [01:05<00:54, 10.73it/s]"
     ]
    },
    {
     "name": "stdout",
     "output_type": "stream",
     "text": [
      "Frame number:  673\n",
      "Frame number:  674\n",
      "Frame number:  675\n"
     ]
    },
    {
     "name": "stderr",
     "output_type": "stream",
     "text": [
      "\u001b[A\n",
      " 54%|█████▎    | 676/1261 [01:06<00:53, 11.01it/s]\u001b[A"
     ]
    },
    {
     "name": "stdout",
     "output_type": "stream",
     "text": [
      "Frame number:  676\n",
      "Frame number:  677\n",
      "Frame number:  678\n"
     ]
    },
    {
     "name": "stderr",
     "output_type": "stream",
     "text": [
      "\n",
      "\r",
      " 54%|█████▍    | 678/1261 [01:06<00:55, 10.50it/s]"
     ]
    },
    {
     "name": "stdout",
     "output_type": "stream",
     "text": [
      "Frame number:  679\n",
      "Frame number:  680\n"
     ]
    },
    {
     "name": "stderr",
     "output_type": "stream",
     "text": [
      "\u001b[A\n",
      " 54%|█████▍    | 680/1261 [01:06<00:58,  9.97it/s]\u001b[A\n",
      " 54%|█████▍    | 682/1261 [01:06<00:55, 10.38it/s]"
     ]
    },
    {
     "name": "stdout",
     "output_type": "stream",
     "text": [
      "Frame number:  681\n",
      "Frame number:  682\n",
      "Frame number:  683\n"
     ]
    },
    {
     "name": "stderr",
     "output_type": "stream",
     "text": [
      "\u001b[A\n",
      " 54%|█████▍    | 684/1261 [01:06<00:56, 10.14it/s]"
     ]
    },
    {
     "name": "stdout",
     "output_type": "stream",
     "text": [
      "Frame number:  684\n",
      "Frame number:  685\n"
     ]
    },
    {
     "name": "stderr",
     "output_type": "stream",
     "text": [
      "\u001b[A\n",
      " 54%|█████▍    | 686/1261 [01:07<00:57, 10.03it/s]"
     ]
    },
    {
     "name": "stdout",
     "output_type": "stream",
     "text": [
      "Frame number:  686\n",
      "Frame number:  687\n",
      "Frame number:  688\n"
     ]
    },
    {
     "name": "stderr",
     "output_type": "stream",
     "text": [
      "\u001b[A\n",
      " 55%|█████▍    | 688/1261 [01:07<00:59,  9.68it/s]\u001b[A\n",
      " 55%|█████▍    | 690/1261 [01:07<00:56, 10.09it/s]"
     ]
    },
    {
     "name": "stdout",
     "output_type": "stream",
     "text": [
      "Frame number:  689\n",
      "Frame number:  690\n",
      "Frame number:  691\n"
     ]
    },
    {
     "name": "stderr",
     "output_type": "stream",
     "text": [
      "\u001b[A\n",
      " 55%|█████▍    | 692/1261 [01:07<00:56, 10.11it/s]\u001b[A"
     ]
    },
    {
     "name": "stdout",
     "output_type": "stream",
     "text": [
      "Frame number:  692\n",
      "Frame number:  693\n"
     ]
    },
    {
     "name": "stderr",
     "output_type": "stream",
     "text": [
      "\n",
      " 55%|█████▌    | 694/1261 [01:07<00:55, 10.21it/s]\u001b[A"
     ]
    },
    {
     "name": "stdout",
     "output_type": "stream",
     "text": [
      "Frame number:  694\n",
      "Frame number:  695\n",
      "Frame number:  696\n"
     ]
    },
    {
     "name": "stderr",
     "output_type": "stream",
     "text": [
      "\n",
      " 55%|█████▌    | 696/1261 [01:08<00:55, 10.20it/s]\u001b[A\n",
      " 55%|█████▌    | 698/1261 [01:08<00:54, 10.39it/s]"
     ]
    },
    {
     "name": "stdout",
     "output_type": "stream",
     "text": [
      "Frame number:  697\n",
      "Frame number:  698\n",
      "Frame number:  699\n"
     ]
    },
    {
     "name": "stderr",
     "output_type": "stream",
     "text": [
      "\u001b[A\n",
      " 56%|█████▌    | 700/1261 [01:08<00:55, 10.08it/s]"
     ]
    },
    {
     "name": "stdout",
     "output_type": "stream",
     "text": [
      "Frame number:  700\n",
      "Frame number:  701\n"
     ]
    },
    {
     "name": "stderr",
     "output_type": "stream",
     "text": [
      "\u001b[A\n",
      " 56%|█████▌    | 702/1261 [01:08<00:53, 10.38it/s]\u001b[A"
     ]
    },
    {
     "name": "stdout",
     "output_type": "stream",
     "text": [
      "Frame number:  702\n",
      "Frame number:  703\n",
      "Frame number:  704\n"
     ]
    },
    {
     "name": "stderr",
     "output_type": "stream",
     "text": [
      "\n",
      " 56%|█████▌    | 704/1261 [01:08<00:51, 10.86it/s]\u001b[A\n",
      " 56%|█████▌    | 706/1261 [01:08<00:51, 10.77it/s]"
     ]
    },
    {
     "name": "stdout",
     "output_type": "stream",
     "text": [
      "Frame number:  705\n",
      "Frame number:  706\n",
      "Frame number:  707\n"
     ]
    },
    {
     "name": "stderr",
     "output_type": "stream",
     "text": [
      "\u001b[A\n",
      " 56%|█████▌    | 708/1261 [01:09<00:53, 10.35it/s]"
     ]
    },
    {
     "name": "stdout",
     "output_type": "stream",
     "text": [
      "Frame number:  708\n",
      "Frame number:  709\n",
      "Frame number:  710\n"
     ]
    },
    {
     "name": "stderr",
     "output_type": "stream",
     "text": [
      "\u001b[A\n",
      " 56%|█████▋    | 710/1261 [01:09<00:49, 11.03it/s]\u001b[A\n",
      " 56%|█████▋    | 712/1261 [01:09<00:47, 11.52it/s]"
     ]
    },
    {
     "name": "stdout",
     "output_type": "stream",
     "text": [
      "Frame number:  711\n",
      "Frame number:  712\n",
      "Frame number:  713\n"
     ]
    },
    {
     "name": "stderr",
     "output_type": "stream",
     "text": [
      "\u001b[A\n",
      " 57%|█████▋    | 714/1261 [01:09<00:49, 11.03it/s]\u001b[A"
     ]
    },
    {
     "name": "stdout",
     "output_type": "stream",
     "text": [
      "Frame number:  714\n",
      "Frame number:  715\n",
      "Frame number:  716\n"
     ]
    },
    {
     "name": "stderr",
     "output_type": "stream",
     "text": [
      "\n",
      " 57%|█████▋    | 716/1261 [01:09<00:48, 11.13it/s]\u001b[A\n",
      " 57%|█████▋    | 718/1261 [01:10<00:48, 11.23it/s]"
     ]
    },
    {
     "name": "stdout",
     "output_type": "stream",
     "text": [
      "Frame number:  717\n",
      "Frame number:  718\n",
      "Frame number:  719\n"
     ]
    },
    {
     "name": "stderr",
     "output_type": "stream",
     "text": [
      "\u001b[A\n",
      " 57%|█████▋    | 720/1261 [01:10<00:50, 10.65it/s]"
     ]
    },
    {
     "name": "stdout",
     "output_type": "stream",
     "text": [
      "Frame number:  720\n",
      "Frame number:  721\n"
     ]
    },
    {
     "name": "stderr",
     "output_type": "stream",
     "text": [
      "\u001b[A\n",
      " 57%|█████▋    | 722/1261 [01:10<00:49, 10.80it/s]\u001b[A"
     ]
    },
    {
     "name": "stdout",
     "output_type": "stream",
     "text": [
      "Frame number:  722\n",
      "Frame number:  723\n",
      "Frame number:  724\n"
     ]
    },
    {
     "name": "stderr",
     "output_type": "stream",
     "text": [
      "\n",
      " 57%|█████▋    | 724/1261 [01:10<00:49, 10.78it/s]\u001b[A\n",
      " 58%|█████▊    | 726/1261 [01:10<00:49, 10.78it/s]"
     ]
    },
    {
     "name": "stdout",
     "output_type": "stream",
     "text": [
      "Frame number:  725\n",
      "Frame number:  726\n",
      "Frame number:  727\n"
     ]
    },
    {
     "name": "stderr",
     "output_type": "stream",
     "text": [
      "\u001b[A\n",
      " 58%|█████▊    | 728/1261 [01:10<00:49, 10.86it/s]\u001b[A"
     ]
    },
    {
     "name": "stdout",
     "output_type": "stream",
     "text": [
      "Frame number:  728\n",
      "Frame number:  729\n",
      "Frame number:  730\n"
     ]
    },
    {
     "name": "stderr",
     "output_type": "stream",
     "text": [
      "\n",
      " 58%|█████▊    | 730/1261 [01:11<00:47, 11.09it/s]\u001b[A"
     ]
    },
    {
     "name": "stdout",
     "output_type": "stream",
     "text": [
      "Frame number:  731\n",
      "Frame number:  732\n"
     ]
    },
    {
     "name": "stderr",
     "output_type": "stream",
     "text": [
      "\n",
      " 58%|█████▊    | 732/1261 [01:11<00:50, 10.46it/s]\u001b[A\n",
      " 58%|█████▊    | 734/1261 [01:11<00:49, 10.67it/s]"
     ]
    },
    {
     "name": "stdout",
     "output_type": "stream",
     "text": [
      "Frame number:  733\n",
      "Frame number:  734\n",
      "Frame number:  735\n"
     ]
    },
    {
     "name": "stderr",
     "output_type": "stream",
     "text": [
      "\u001b[A\n",
      " 58%|█████▊    | 736/1261 [01:11<00:50, 10.36it/s]"
     ]
    },
    {
     "name": "stdout",
     "output_type": "stream",
     "text": [
      "Frame number:  736\n",
      "Frame number:  737\n",
      "Frame number: "
     ]
    },
    {
     "name": "stderr",
     "output_type": "stream",
     "text": [
      "\u001b[A\n",
      " 59%|█████▊    | 738/1261 [01:11<00:49, 10.58it/s]\u001b[A"
     ]
    },
    {
     "name": "stdout",
     "output_type": "stream",
     "text": [
      " 738\n",
      "Frame number:  739\n",
      "Frame number:  740\n"
     ]
    },
    {
     "name": "stderr",
     "output_type": "stream",
     "text": [
      "\n",
      " 59%|█████▊    | 740/1261 [01:12<00:49, 10.53it/s]\u001b[A\n",
      " 59%|█████▉    | 742/1261 [01:12<00:47, 10.98it/s]"
     ]
    },
    {
     "name": "stdout",
     "output_type": "stream",
     "text": [
      "Frame number:  741\n",
      "Frame number:  742\n",
      "Frame number:  743\n"
     ]
    },
    {
     "name": "stderr",
     "output_type": "stream",
     "text": [
      "\u001b[A\n",
      " 59%|█████▉    | 744/1261 [01:12<00:47, 10.81it/s]\u001b[A"
     ]
    },
    {
     "name": "stdout",
     "output_type": "stream",
     "text": [
      "Frame number:  744\n",
      "Frame number:  745\n",
      "Frame number:  746\n"
     ]
    },
    {
     "name": "stderr",
     "output_type": "stream",
     "text": [
      "\n",
      " 59%|█████▉    | 746/1261 [01:12<00:47, 10.76it/s]\u001b[A\n",
      " 59%|█████▉    | 748/1261 [01:12<00:45, 11.26it/s]"
     ]
    },
    {
     "name": "stdout",
     "output_type": "stream",
     "text": [
      "Frame number:  747\n",
      "Frame number:  748\n",
      "Frame number:  749\n"
     ]
    },
    {
     "name": "stderr",
     "output_type": "stream",
     "text": [
      "\u001b[A\n",
      " 59%|█████▉    | 750/1261 [01:13<00:46, 11.10it/s]\u001b[A"
     ]
    },
    {
     "name": "stdout",
     "output_type": "stream",
     "text": [
      "Frame number:  750\n",
      "Frame number:  751\n",
      "Frame number:  752\n"
     ]
    },
    {
     "name": "stderr",
     "output_type": "stream",
     "text": [
      "\n",
      " 60%|█████▉    | 752/1261 [01:13<00:47, 10.73it/s]\u001b[A\n",
      " 60%|█████▉    | 754/1261 [01:13<00:46, 10.85it/s]"
     ]
    },
    {
     "name": "stdout",
     "output_type": "stream",
     "text": [
      "Frame number:  753\n",
      "Frame number:  754\n",
      "Frame number:  755\n"
     ]
    },
    {
     "name": "stderr",
     "output_type": "stream",
     "text": [
      "\u001b[A\n",
      " 60%|█████▉    | 756/1261 [01:13<00:48, 10.49it/s]"
     ]
    },
    {
     "name": "stdout",
     "output_type": "stream",
     "text": [
      "Frame number:  756\n",
      "Frame number:  757\n"
     ]
    },
    {
     "name": "stderr",
     "output_type": "stream",
     "text": [
      "\u001b[A\n",
      " 60%|██████    | 758/1261 [01:13<00:47, 10.68it/s]\u001b[A"
     ]
    },
    {
     "name": "stdout",
     "output_type": "stream",
     "text": [
      "Frame number:  758\n",
      "Frame number:  759\n",
      "Frame number:  760\n"
     ]
    },
    {
     "name": "stderr",
     "output_type": "stream",
     "text": [
      "\n",
      " 60%|██████    | 760/1261 [01:13<00:47, 10.65it/s]\u001b[A\n",
      " 60%|██████    | 762/1261 [01:14<00:45, 10.85it/s]"
     ]
    },
    {
     "name": "stdout",
     "output_type": "stream",
     "text": [
      "Frame number:  761\n",
      "Frame number:  762\n",
      "Frame number:  763\n"
     ]
    },
    {
     "name": "stderr",
     "output_type": "stream",
     "text": [
      "\u001b[A\n",
      " 61%|██████    | 764/1261 [01:14<00:46, 10.62it/s]\u001b[A"
     ]
    },
    {
     "name": "stdout",
     "output_type": "stream",
     "text": [
      "Frame number:  764\n",
      "Frame number:  765\n"
     ]
    },
    {
     "name": "stderr",
     "output_type": "stream",
     "text": [
      "\n",
      " 61%|██████    | 766/1261 [01:14<00:46, 10.67it/s]\u001b[A"
     ]
    },
    {
     "name": "stdout",
     "output_type": "stream",
     "text": [
      "Frame number:  766\n",
      "Frame number:  767\n",
      "Frame number:  768\n"
     ]
    },
    {
     "name": "stderr",
     "output_type": "stream",
     "text": [
      "\n",
      " 61%|██████    | 768/1261 [01:14<00:46, 10.57it/s]\u001b[A\n",
      " 61%|██████    | 770/1261 [01:14<00:46, 10.60it/s]"
     ]
    },
    {
     "name": "stdout",
     "output_type": "stream",
     "text": [
      "Frame number:  769\n",
      "Frame number:  770\n",
      "Frame number:  771\n"
     ]
    },
    {
     "name": "stderr",
     "output_type": "stream",
     "text": [
      "\u001b[A\n",
      " 61%|██████    | 772/1261 [01:15<00:46, 10.62it/s]\u001b[A"
     ]
    },
    {
     "name": "stdout",
     "output_type": "stream",
     "text": [
      "Frame number:  772\n",
      "Frame number:  773\n"
     ]
    },
    {
     "name": "stderr",
     "output_type": "stream",
     "text": [
      "\n",
      "\r",
      " 61%|██████▏   | 774/1261 [01:15<00:47, 10.26it/s]"
     ]
    },
    {
     "name": "stdout",
     "output_type": "stream",
     "text": [
      "Frame number:  774\n",
      "Frame number:  775\n",
      "Frame number:  776\n"
     ]
    },
    {
     "name": "stderr",
     "output_type": "stream",
     "text": [
      "\u001b[A\n",
      " 62%|██████▏   | 776/1261 [01:15<00:45, 10.61it/s]\u001b[A\n",
      " 62%|██████▏   | 778/1261 [01:15<00:44, 10.82it/s]"
     ]
    },
    {
     "name": "stdout",
     "output_type": "stream",
     "text": [
      "Frame number:  777\n",
      "Frame number:  778\n",
      "Frame number:  779\n"
     ]
    },
    {
     "name": "stderr",
     "output_type": "stream",
     "text": [
      "\u001b[A\n",
      " 62%|██████▏   | 780/1261 [01:15<00:44, 10.82it/s]\u001b[A"
     ]
    },
    {
     "name": "stdout",
     "output_type": "stream",
     "text": [
      "Frame number:  780\n",
      "Frame number:  781\n",
      "Frame number:  782\n"
     ]
    },
    {
     "name": "stderr",
     "output_type": "stream",
     "text": [
      "\n",
      " 62%|██████▏   | 782/1261 [01:16<00:43, 10.89it/s]\u001b[A"
     ]
    },
    {
     "name": "stdout",
     "output_type": "stream",
     "text": [
      "Frame number:  783\n",
      "Frame number:  784\n",
      "Frame number:  785\n"
     ]
    },
    {
     "name": "stderr",
     "output_type": "stream",
     "text": [
      "\n",
      " 62%|██████▏   | 784/1261 [01:16<00:44, 10.62it/s]\u001b[A\n",
      " 62%|██████▏   | 786/1261 [01:16<00:45, 10.51it/s]\u001b[A"
     ]
    },
    {
     "name": "stdout",
     "output_type": "stream",
     "text": [
      "Frame number:  786\n",
      "Frame number:  787\n",
      "Frame number:  788\n"
     ]
    },
    {
     "name": "stderr",
     "output_type": "stream",
     "text": [
      "\n",
      " 62%|██████▏   | 788/1261 [01:16<00:44, 10.58it/s]\u001b[A\n",
      " 63%|██████▎   | 790/1261 [01:16<00:43, 10.83it/s]"
     ]
    },
    {
     "name": "stdout",
     "output_type": "stream",
     "text": [
      "Frame number:  789\n",
      "Frame number:  790\n",
      "Frame number:  791\n"
     ]
    },
    {
     "name": "stderr",
     "output_type": "stream",
     "text": [
      "\u001b[A\n",
      " 63%|██████▎   | 792/1261 [01:16<00:44, 10.52it/s]"
     ]
    },
    {
     "name": "stdout",
     "output_type": "stream",
     "text": [
      "Frame number:  792\n",
      "Frame number:  793\n"
     ]
    },
    {
     "name": "stderr",
     "output_type": "stream",
     "text": [
      "\u001b[A\n",
      " 63%|██████▎   | 794/1261 [01:17<00:44, 10.52it/s]\u001b[A"
     ]
    },
    {
     "name": "stdout",
     "output_type": "stream",
     "text": [
      "Frame number:  794\n",
      "Frame number:  795\n",
      "Frame number:  796\n"
     ]
    },
    {
     "name": "stderr",
     "output_type": "stream",
     "text": [
      "\n",
      " 63%|██████▎   | 796/1261 [01:17<00:43, 10.71it/s]\u001b[A\n",
      " 63%|██████▎   | 798/1261 [01:17<00:42, 10.84it/s]"
     ]
    },
    {
     "name": "stdout",
     "output_type": "stream",
     "text": [
      "Frame number:  797\n",
      "Frame number:  798\n",
      "Frame number:  799\n"
     ]
    },
    {
     "name": "stderr",
     "output_type": "stream",
     "text": [
      "\u001b[A\n",
      " 63%|██████▎   | 800/1261 [01:17<00:41, 11.19it/s]\u001b[A"
     ]
    },
    {
     "name": "stdout",
     "output_type": "stream",
     "text": [
      "Frame number:  800\n",
      "Frame number:  801\n",
      "Frame number:  802\n"
     ]
    },
    {
     "name": "stderr",
     "output_type": "stream",
     "text": [
      "\n",
      " 64%|██████▎   | 802/1261 [01:17<00:42, 10.71it/s]\u001b[A\n",
      " 64%|██████▍   | 804/1261 [01:18<00:41, 10.97it/s]"
     ]
    },
    {
     "name": "stdout",
     "output_type": "stream",
     "text": [
      "Frame number:  803\n",
      "Frame number:  804\n",
      "Frame number:  805\n"
     ]
    },
    {
     "name": "stderr",
     "output_type": "stream",
     "text": [
      "\u001b[A\n",
      " 64%|██████▍   | 806/1261 [01:18<00:40, 11.11it/s]\u001b[A"
     ]
    },
    {
     "name": "stdout",
     "output_type": "stream",
     "text": [
      "Frame number:  806\n",
      "Frame number:  807\n",
      "Frame number:  808\n"
     ]
    },
    {
     "name": "stderr",
     "output_type": "stream",
     "text": [
      "\n",
      " 64%|██████▍   | 808/1261 [01:18<00:41, 10.81it/s]\u001b[A"
     ]
    },
    {
     "name": "stdout",
     "output_type": "stream",
     "text": [
      "Frame number:  809\n",
      "Frame number:  810\n"
     ]
    },
    {
     "name": "stderr",
     "output_type": "stream",
     "text": [
      "\n",
      "\r",
      " 64%|██████▍   | 810/1261 [01:18<00:43, 10.28it/s]"
     ]
    },
    {
     "name": "stdout",
     "output_type": "stream",
     "text": [
      "Frame number:  811\n",
      "Frame number:  812\n",
      "Frame number:  813\n"
     ]
    },
    {
     "name": "stderr",
     "output_type": "stream",
     "text": [
      "\u001b[A\n",
      " 64%|██████▍   | 812/1261 [01:18<00:43, 10.21it/s]\u001b[A\n",
      " 65%|██████▍   | 814/1261 [01:19<00:44, 10.01it/s]"
     ]
    },
    {
     "name": "stdout",
     "output_type": "stream",
     "text": [
      "Frame number:  814\n",
      "Frame number:  815\n"
     ]
    },
    {
     "name": "stderr",
     "output_type": "stream",
     "text": [
      "\u001b[A\n",
      " 65%|██████▍   | 816/1261 [01:19<00:44, 10.09it/s]\u001b[A"
     ]
    },
    {
     "name": "stdout",
     "output_type": "stream",
     "text": [
      "Frame number:  816\n",
      "Frame number:  817\n",
      "Frame number:  818\n"
     ]
    },
    {
     "name": "stderr",
     "output_type": "stream",
     "text": [
      "\n",
      " 65%|██████▍   | 818/1261 [01:19<00:42, 10.52it/s]\u001b[A\n",
      " 65%|██████▌   | 820/1261 [01:19<00:40, 10.80it/s]"
     ]
    },
    {
     "name": "stdout",
     "output_type": "stream",
     "text": [
      "Frame number:  819\n",
      "Frame number:  820\n",
      "Frame number:  821\n"
     ]
    },
    {
     "name": "stderr",
     "output_type": "stream",
     "text": [
      "\u001b[A\n",
      " 65%|██████▌   | 822/1261 [01:19<00:41, 10.47it/s]"
     ]
    },
    {
     "name": "stdout",
     "output_type": "stream",
     "text": [
      "Frame number:  822\n",
      "Frame number:  823\n"
     ]
    },
    {
     "name": "stderr",
     "output_type": "stream",
     "text": [
      "\u001b[A\n",
      " 65%|██████▌   | 824/1261 [01:19<00:41, 10.41it/s]\u001b[A"
     ]
    },
    {
     "name": "stdout",
     "output_type": "stream",
     "text": [
      "Frame number:  824\n",
      "Frame number:  825\n",
      "Frame number:  826\n"
     ]
    },
    {
     "name": "stderr",
     "output_type": "stream",
     "text": [
      "\n",
      " 66%|██████▌   | 826/1261 [01:20<00:42, 10.33it/s]\u001b[A\n",
      " 66%|██████▌   | 828/1261 [01:20<00:41, 10.51it/s]"
     ]
    },
    {
     "name": "stdout",
     "output_type": "stream",
     "text": [
      "Frame number:  827\n",
      "Frame number:  828\n",
      "Frame number:  829\n"
     ]
    },
    {
     "name": "stderr",
     "output_type": "stream",
     "text": [
      "\u001b[A\n",
      " 66%|██████▌   | 830/1261 [01:20<00:40, 10.54it/s]\u001b[A"
     ]
    },
    {
     "name": "stdout",
     "output_type": "stream",
     "text": [
      "Frame number:  830\n",
      "Frame number:  831\n",
      "Frame number:  832\n"
     ]
    },
    {
     "name": "stderr",
     "output_type": "stream",
     "text": [
      "\n",
      " 66%|██████▌   | 832/1261 [01:20<00:40, 10.65it/s]\u001b[A\n",
      " 66%|██████▌   | 834/1261 [01:20<00:40, 10.54it/s]"
     ]
    },
    {
     "name": "stdout",
     "output_type": "stream",
     "text": [
      "Frame number:  833\n",
      "Frame number:  834\n",
      "Frame number:  835\n"
     ]
    },
    {
     "name": "stderr",
     "output_type": "stream",
     "text": [
      "\u001b[A\n",
      " 66%|██████▋   | 836/1261 [01:21<00:39, 10.89it/s]\u001b[A"
     ]
    },
    {
     "name": "stdout",
     "output_type": "stream",
     "text": [
      "Frame number:  836\n",
      "Frame number:  837\n",
      "Frame number:  838\n"
     ]
    },
    {
     "name": "stderr",
     "output_type": "stream",
     "text": [
      "\n",
      " 66%|██████▋   | 838/1261 [01:21<00:38, 10.97it/s]\u001b[A\n",
      " 67%|██████▋   | 840/1261 [01:21<00:37, 11.36it/s]"
     ]
    },
    {
     "name": "stdout",
     "output_type": "stream",
     "text": [
      "Frame number:  839\n",
      "Frame number:  840\n",
      "Frame number:  841\n"
     ]
    },
    {
     "name": "stderr",
     "output_type": "stream",
     "text": [
      "\u001b[A\n",
      " 67%|██████▋   | 842/1261 [01:21<00:39, 10.62it/s]"
     ]
    },
    {
     "name": "stdout",
     "output_type": "stream",
     "text": [
      "Frame number:  842\n",
      "Frame number:  843\n",
      "Frame number:  844\n"
     ]
    },
    {
     "name": "stderr",
     "output_type": "stream",
     "text": [
      "\u001b[A\n",
      " 67%|██████▋   | 844/1261 [01:21<00:38, 10.85it/s]\u001b[A"
     ]
    },
    {
     "name": "stdout",
     "output_type": "stream",
     "text": [
      "Frame number:  845\n",
      "Frame number:  846\n",
      "Frame number:  847\n"
     ]
    },
    {
     "name": "stderr",
     "output_type": "stream",
     "text": [
      "\n",
      " 67%|██████▋   | 846/1261 [01:22<00:38, 10.64it/s]\u001b[A\n",
      " 67%|██████▋   | 848/1261 [01:22<00:38, 10.72it/s]\u001b[A"
     ]
    },
    {
     "name": "stdout",
     "output_type": "stream",
     "text": [
      "Frame number:  848\n",
      "Frame number:  849\n",
      "Frame number:  850\n"
     ]
    },
    {
     "name": "stderr",
     "output_type": "stream",
     "text": [
      "\n",
      " 67%|██████▋   | 850/1261 [01:22<00:38, 10.68it/s]\u001b[A\n",
      " 68%|██████▊   | 852/1261 [01:22<00:38, 10.73it/s]"
     ]
    },
    {
     "name": "stdout",
     "output_type": "stream",
     "text": [
      "Frame number:  851\n",
      "Frame number:  852\n",
      "Frame number:  853\n"
     ]
    },
    {
     "name": "stderr",
     "output_type": "stream",
     "text": [
      "\u001b[A\n",
      " 68%|██████▊   | 854/1261 [01:22<00:36, 11.16it/s]\u001b[A"
     ]
    },
    {
     "name": "stdout",
     "output_type": "stream",
     "text": [
      "Frame number:  854\n",
      "Frame number:  855\n",
      "Frame number:  856\n"
     ]
    },
    {
     "name": "stderr",
     "output_type": "stream",
     "text": [
      "\n",
      " 68%|██████▊   | 856/1261 [01:22<00:37, 10.81it/s]\u001b[A\n",
      " 68%|██████▊   | 858/1261 [01:23<00:37, 10.66it/s]"
     ]
    },
    {
     "name": "stdout",
     "output_type": "stream",
     "text": [
      "Frame number:  857\n",
      "Frame number:  858\n",
      "Frame number:  859\n"
     ]
    },
    {
     "name": "stderr",
     "output_type": "stream",
     "text": [
      "\u001b[A\n",
      " 68%|██████▊   | 860/1261 [01:23<00:36, 11.03it/s]\u001b[A"
     ]
    },
    {
     "name": "stdout",
     "output_type": "stream",
     "text": [
      "Frame number:  860\n",
      "Frame number:  861\n",
      "Frame number:  862\n"
     ]
    },
    {
     "name": "stderr",
     "output_type": "stream",
     "text": [
      "\n",
      " 68%|██████▊   | 862/1261 [01:23<00:35, 11.10it/s]\u001b[A"
     ]
    },
    {
     "name": "stdout",
     "output_type": "stream",
     "text": [
      "Frame number:  863\n",
      "Frame number:  864\n"
     ]
    },
    {
     "name": "stderr",
     "output_type": "stream",
     "text": [
      "\n",
      " 69%|██████▊   | 864/1261 [01:23<00:38, 10.43it/s]\u001b[A\n",
      " 69%|██████▊   | 866/1261 [01:23<00:36, 10.76it/s]"
     ]
    },
    {
     "name": "stdout",
     "output_type": "stream",
     "text": [
      "Frame number:  865\n",
      "Frame number:  866\n",
      "Frame number:  867\n"
     ]
    },
    {
     "name": "stderr",
     "output_type": "stream",
     "text": [
      "\u001b[A\n",
      " 69%|██████▉   | 868/1261 [01:24<00:35, 10.94it/s]\u001b[A"
     ]
    },
    {
     "name": "stdout",
     "output_type": "stream",
     "text": [
      "Frame number:  868\n",
      "Frame number:  869\n",
      "Frame number:  870\n"
     ]
    },
    {
     "name": "stderr",
     "output_type": "stream",
     "text": [
      "\n",
      " 69%|██████▉   | 870/1261 [01:24<00:37, 10.56it/s]\u001b[A\n",
      " 69%|██████▉   | 872/1261 [01:24<00:34, 11.13it/s]"
     ]
    },
    {
     "name": "stdout",
     "output_type": "stream",
     "text": [
      "Frame number:  871\n",
      "Frame number:  872\n",
      "Frame number:  873\n"
     ]
    },
    {
     "name": "stderr",
     "output_type": "stream",
     "text": [
      "\u001b[A\n",
      " 69%|██████▉   | 874/1261 [01:24<00:36, 10.62it/s]"
     ]
    },
    {
     "name": "stdout",
     "output_type": "stream",
     "text": [
      "Frame number:  874\n",
      "Frame number:  875\n"
     ]
    },
    {
     "name": "stderr",
     "output_type": "stream",
     "text": [
      "\u001b[A\n",
      " 69%|██████▉   | 876/1261 [01:24<00:36, 10.48it/s]\u001b[A"
     ]
    },
    {
     "name": "stdout",
     "output_type": "stream",
     "text": [
      "Frame number:  876\n",
      "Frame number:  877\n",
      "Frame number:  878\n"
     ]
    },
    {
     "name": "stderr",
     "output_type": "stream",
     "text": [
      "\n",
      " 70%|██████▉   | 878/1261 [01:25<00:37, 10.12it/s]\u001b[A\n",
      " 70%|██████▉   | 880/1261 [01:25<00:36, 10.57it/s]"
     ]
    },
    {
     "name": "stdout",
     "output_type": "stream",
     "text": [
      "Frame number:  879\n",
      "Frame number:  880\n",
      "Frame number:  881\n"
     ]
    },
    {
     "name": "stderr",
     "output_type": "stream",
     "text": [
      "\u001b[A\n",
      " 70%|██████▉   | 882/1261 [01:25<00:36, 10.38it/s]"
     ]
    },
    {
     "name": "stdout",
     "output_type": "stream",
     "text": [
      "Frame number:  882\n",
      "Frame number:  883\n",
      "Frame number:  884\n"
     ]
    },
    {
     "name": "stderr",
     "output_type": "stream",
     "text": [
      "\u001b[A\n",
      " 70%|███████   | 884/1261 [01:25<00:35, 10.68it/s]\u001b[A\n",
      " 70%|███████   | 886/1261 [01:25<00:34, 10.79it/s]"
     ]
    },
    {
     "name": "stdout",
     "output_type": "stream",
     "text": [
      "Frame number:  885\n",
      "Frame number:  886\n",
      "Frame number:  887\n"
     ]
    },
    {
     "name": "stderr",
     "output_type": "stream",
     "text": [
      "\u001b[A\n",
      " 70%|███████   | 888/1261 [01:25<00:33, 11.23it/s]\u001b[A"
     ]
    },
    {
     "name": "stdout",
     "output_type": "stream",
     "text": [
      "Frame number:  888\n",
      "Frame number:  889\n",
      "Frame number:  890\n"
     ]
    },
    {
     "name": "stderr",
     "output_type": "stream",
     "text": [
      "\n",
      " 71%|███████   | 890/1261 [01:26<00:34, 10.62it/s]\u001b[A\n",
      " 71%|███████   | 892/1261 [01:26<00:34, 10.77it/s]"
     ]
    },
    {
     "name": "stdout",
     "output_type": "stream",
     "text": [
      "Frame number:  891\n",
      "Frame number:  892\n",
      "Frame number:  893\n"
     ]
    },
    {
     "name": "stderr",
     "output_type": "stream",
     "text": [
      "\u001b[A\n",
      " 71%|███████   | 894/1261 [01:26<00:33, 10.98it/s]\u001b[A"
     ]
    },
    {
     "name": "stdout",
     "output_type": "stream",
     "text": [
      "Frame number:  894\n",
      "Frame number:  895\n",
      "Frame number:  896\n"
     ]
    },
    {
     "name": "stderr",
     "output_type": "stream",
     "text": [
      "\n",
      " 71%|███████   | 896/1261 [01:26<00:33, 10.98it/s]\u001b[A\n",
      " 71%|███████   | 898/1261 [01:26<00:32, 11.02it/s]"
     ]
    },
    {
     "name": "stdout",
     "output_type": "stream",
     "text": [
      "Frame number:  897\n",
      "Frame number:  898\n",
      "Frame number:  899\n"
     ]
    },
    {
     "name": "stderr",
     "output_type": "stream",
     "text": [
      "\u001b[A\n",
      " 71%|███████▏  | 900/1261 [01:27<00:32, 11.12it/s]\u001b[A"
     ]
    },
    {
     "name": "stdout",
     "output_type": "stream",
     "text": [
      "Frame number:  900\n",
      "Frame number:  901\n",
      "Frame number:  902\n"
     ]
    },
    {
     "name": "stderr",
     "output_type": "stream",
     "text": [
      "\n",
      " 72%|███████▏  | 902/1261 [01:27<00:33, 10.69it/s]\u001b[A\n",
      " 72%|███████▏  | 904/1261 [01:27<00:33, 10.77it/s]"
     ]
    },
    {
     "name": "stdout",
     "output_type": "stream",
     "text": [
      "Frame number:  903\n",
      "Frame number:  904\n",
      "Frame number:  905\n"
     ]
    },
    {
     "name": "stderr",
     "output_type": "stream",
     "text": [
      "\u001b[A\n",
      " 72%|███████▏  | 906/1261 [01:27<00:33, 10.50it/s]"
     ]
    },
    {
     "name": "stdout",
     "output_type": "stream",
     "text": [
      "Frame number:  906\n",
      "Frame number:  907\n"
     ]
    },
    {
     "name": "stderr",
     "output_type": "stream",
     "text": [
      "\u001b[A\n",
      " 72%|███████▏  | 908/1261 [01:27<00:33, 10.63it/s]\u001b[A"
     ]
    },
    {
     "name": "stdout",
     "output_type": "stream",
     "text": [
      "Frame number:  908\n",
      "Frame number:  909\n",
      "Frame number:  910\n"
     ]
    },
    {
     "name": "stderr",
     "output_type": "stream",
     "text": [
      "\n",
      " 72%|███████▏  | 910/1261 [01:27<00:31, 11.04it/s]\u001b[A\n",
      " 72%|███████▏  | 912/1261 [01:28<00:31, 10.99it/s]"
     ]
    },
    {
     "name": "stdout",
     "output_type": "stream",
     "text": [
      "Frame number:  911\n",
      "Frame number:  912\n",
      "Frame number:  913\n"
     ]
    },
    {
     "name": "stderr",
     "output_type": "stream",
     "text": [
      "\u001b[A\n",
      " 72%|███████▏  | 914/1261 [01:28<00:31, 10.97it/s]\u001b[A"
     ]
    },
    {
     "name": "stdout",
     "output_type": "stream",
     "text": [
      "Frame number:  914\n",
      "Frame number:  915\n",
      "Frame number:  916\n"
     ]
    },
    {
     "name": "stderr",
     "output_type": "stream",
     "text": [
      "\n",
      " 73%|███████▎  | 916/1261 [01:28<00:30, 11.14it/s]\u001b[A\n",
      " 73%|███████▎  | 918/1261 [01:28<00:31, 10.88it/s]"
     ]
    },
    {
     "name": "stdout",
     "output_type": "stream",
     "text": [
      "Frame number:  917\n",
      "Frame number:  918\n",
      "Frame number:  919\n"
     ]
    },
    {
     "name": "stderr",
     "output_type": "stream",
     "text": [
      "\u001b[A\n",
      " 73%|███████▎  | 920/1261 [01:28<00:31, 10.92it/s]\u001b[A"
     ]
    },
    {
     "name": "stdout",
     "output_type": "stream",
     "text": [
      "Frame number:  920\n",
      "Frame number:  921\n",
      "Frame number:  922\n"
     ]
    },
    {
     "name": "stderr",
     "output_type": "stream",
     "text": [
      "\n",
      " 73%|███████▎  | 922/1261 [01:29<00:31, 10.65it/s]\u001b[A\n",
      " 73%|███████▎  | 924/1261 [01:29<00:30, 10.98it/s]"
     ]
    },
    {
     "name": "stdout",
     "output_type": "stream",
     "text": [
      "Frame number:  923\n",
      "Frame number:  924\n",
      "Frame number:  925\n"
     ]
    },
    {
     "name": "stderr",
     "output_type": "stream",
     "text": [
      "\u001b[A\n",
      " 73%|███████▎  | 926/1261 [01:29<00:31, 10.73it/s]\u001b[A"
     ]
    },
    {
     "name": "stdout",
     "output_type": "stream",
     "text": [
      "Frame number:  926\n",
      "Frame number:  927\n"
     ]
    },
    {
     "name": "stderr",
     "output_type": "stream",
     "text": [
      "\n",
      " 74%|███████▎  | 928/1261 [01:29<00:31, 10.59it/s]\u001b[A"
     ]
    },
    {
     "name": "stdout",
     "output_type": "stream",
     "text": [
      "Frame number:  928\n",
      "Frame number:  929\n",
      "Frame number:  930\n"
     ]
    },
    {
     "name": "stderr",
     "output_type": "stream",
     "text": [
      "\n",
      " 74%|███████▍  | 930/1261 [01:29<00:31, 10.48it/s]\u001b[A\n",
      " 74%|███████▍  | 932/1261 [01:30<00:30, 10.65it/s]"
     ]
    },
    {
     "name": "stdout",
     "output_type": "stream",
     "text": [
      "Frame number:  931\n",
      "Frame number:  932\n",
      "Frame number:  933\n"
     ]
    },
    {
     "name": "stderr",
     "output_type": "stream",
     "text": [
      "\u001b[A\n",
      " 74%|███████▍  | 934/1261 [01:30<00:29, 10.96it/s]\u001b[A"
     ]
    },
    {
     "name": "stdout",
     "output_type": "stream",
     "text": [
      "Frame number:  934\n",
      "Frame number:  935\n",
      "Frame number:  936\n"
     ]
    },
    {
     "name": "stderr",
     "output_type": "stream",
     "text": [
      "\n",
      " 74%|███████▍  | 936/1261 [01:30<00:29, 11.10it/s]\u001b[A"
     ]
    },
    {
     "name": "stdout",
     "output_type": "stream",
     "text": [
      "Frame number:  937\n",
      "Frame number:  938\n"
     ]
    },
    {
     "name": "stderr",
     "output_type": "stream",
     "text": [
      "\n",
      " 74%|███████▍  | 938/1261 [01:30<00:30, 10.45it/s]\u001b[A\n",
      " 75%|███████▍  | 940/1261 [01:30<00:29, 10.74it/s]"
     ]
    },
    {
     "name": "stdout",
     "output_type": "stream",
     "text": [
      "Frame number:  939\n",
      "Frame number:  940\n",
      "Frame number:  941\n"
     ]
    },
    {
     "name": "stderr",
     "output_type": "stream",
     "text": [
      "\u001b[A\n",
      " 75%|███████▍  | 942/1261 [01:30<00:31, 10.17it/s]"
     ]
    },
    {
     "name": "stdout",
     "output_type": "stream",
     "text": [
      "Frame number:  942\n",
      "Frame number:  943\n"
     ]
    },
    {
     "name": "stderr",
     "output_type": "stream",
     "text": [
      "\u001b[A\n",
      " 75%|███████▍  | 944/1261 [01:31<00:30, 10.34it/s]\u001b[A"
     ]
    },
    {
     "name": "stdout",
     "output_type": "stream",
     "text": [
      "Frame number:  944\n",
      "Frame number:  945\n",
      "Frame number:  946\n"
     ]
    },
    {
     "name": "stderr",
     "output_type": "stream",
     "text": [
      "\n",
      " 75%|███████▌  | 946/1261 [01:31<00:30, 10.42it/s]\u001b[A\n",
      " 75%|███████▌  | 948/1261 [01:31<00:29, 10.67it/s]"
     ]
    },
    {
     "name": "stdout",
     "output_type": "stream",
     "text": [
      "Frame number:  947\n",
      "Frame number:  948\n",
      "Frame number:  949\n"
     ]
    },
    {
     "name": "stderr",
     "output_type": "stream",
     "text": [
      "\u001b[A\n",
      " 75%|███████▌  | 950/1261 [01:31<00:29, 10.58it/s]\u001b[A"
     ]
    },
    {
     "name": "stdout",
     "output_type": "stream",
     "text": [
      "Frame number:  950\n",
      "Frame number:  951\n"
     ]
    },
    {
     "name": "stderr",
     "output_type": "stream",
     "text": [
      "\n",
      " 75%|███████▌  | 952/1261 [01:31<00:29, 10.56it/s]\u001b[A"
     ]
    },
    {
     "name": "stdout",
     "output_type": "stream",
     "text": [
      "Frame number:  952\n",
      "Frame number:  953\n",
      "Frame number:  954\n"
     ]
    },
    {
     "name": "stderr",
     "output_type": "stream",
     "text": [
      "\n",
      " 76%|███████▌  | 954/1261 [01:32<00:28, 10.63it/s]\u001b[A\n",
      " 76%|███████▌  | 956/1261 [01:32<00:28, 10.87it/s]"
     ]
    },
    {
     "name": "stdout",
     "output_type": "stream",
     "text": [
      "Frame number:  955\n",
      "Frame number:  956\n",
      "Frame number:  957\n"
     ]
    },
    {
     "name": "stderr",
     "output_type": "stream",
     "text": [
      "\u001b[A\n",
      " 76%|███████▌  | 958/1261 [01:32<00:28, 10.55it/s]"
     ]
    },
    {
     "name": "stdout",
     "output_type": "stream",
     "text": [
      "Frame number:  958\n",
      "Frame number:  959\n"
     ]
    },
    {
     "name": "stderr",
     "output_type": "stream",
     "text": [
      "\u001b[A\n",
      " 76%|███████▌  | 960/1261 [01:32<00:28, 10.72it/s]\u001b[A"
     ]
    },
    {
     "name": "stdout",
     "output_type": "stream",
     "text": [
      "Frame number:  960\n",
      "Frame number:  961\n",
      "Frame number:  962\n"
     ]
    },
    {
     "name": "stderr",
     "output_type": "stream",
     "text": [
      "\n",
      " 76%|███████▋  | 962/1261 [01:32<00:29, 10.17it/s]\u001b[A\n",
      " 76%|███████▋  | 964/1261 [01:33<00:28, 10.44it/s]"
     ]
    },
    {
     "name": "stdout",
     "output_type": "stream",
     "text": [
      "Frame number:  963\n",
      "Frame number:  964\n",
      "Frame number:  965\n"
     ]
    },
    {
     "name": "stderr",
     "output_type": "stream",
     "text": [
      "\u001b[A\n",
      " 77%|███████▋  | 966/1261 [01:33<00:27, 10.63it/s]\u001b[A"
     ]
    },
    {
     "name": "stdout",
     "output_type": "stream",
     "text": [
      "Frame number:  966\n",
      "Frame number:  967\n",
      "Frame number:  968\n"
     ]
    },
    {
     "name": "stderr",
     "output_type": "stream",
     "text": [
      "\n",
      " 77%|███████▋  | 968/1261 [01:33<00:26, 11.14it/s]\u001b[A\n",
      " 77%|███████▋  | 970/1261 [01:33<00:26, 10.86it/s]"
     ]
    },
    {
     "name": "stdout",
     "output_type": "stream",
     "text": [
      "Frame number:  969\n",
      "Frame number:  970\n",
      "Frame number:  971\n"
     ]
    },
    {
     "name": "stderr",
     "output_type": "stream",
     "text": [
      "\u001b[A\n",
      " 77%|███████▋  | 972/1261 [01:33<00:26, 10.88it/s]\u001b[A"
     ]
    },
    {
     "name": "stdout",
     "output_type": "stream",
     "text": [
      "Frame number:  972\n",
      "Frame number:  973\n",
      "Frame number:  974\n"
     ]
    },
    {
     "name": "stderr",
     "output_type": "stream",
     "text": [
      "\n",
      " 77%|███████▋  | 974/1261 [01:33<00:26, 10.73it/s]\u001b[A\n",
      " 77%|███████▋  | 976/1261 [01:34<00:26, 10.71it/s]"
     ]
    },
    {
     "name": "stdout",
     "output_type": "stream",
     "text": [
      "Frame number:  975\n",
      "Frame number:  976\n",
      "Frame number:  977\n"
     ]
    },
    {
     "name": "stderr",
     "output_type": "stream",
     "text": [
      "\u001b[A\n",
      " 78%|███████▊  | 978/1261 [01:34<00:27, 10.46it/s]"
     ]
    },
    {
     "name": "stdout",
     "output_type": "stream",
     "text": [
      "Frame number:  978\n",
      "Frame number:  979\n"
     ]
    },
    {
     "name": "stderr",
     "output_type": "stream",
     "text": [
      "\u001b[A\n",
      " 78%|███████▊  | 980/1261 [01:34<00:27, 10.38it/s]\u001b[A"
     ]
    },
    {
     "name": "stdout",
     "output_type": "stream",
     "text": [
      "Frame number:  980\n",
      "Frame number:  981\n",
      "Frame number:  982\n"
     ]
    },
    {
     "name": "stderr",
     "output_type": "stream",
     "text": [
      "\n",
      " 78%|███████▊  | 982/1261 [01:34<00:26, 10.45it/s]\u001b[A\n",
      " 78%|███████▊  | 984/1261 [01:34<00:26, 10.47it/s]"
     ]
    },
    {
     "name": "stdout",
     "output_type": "stream",
     "text": [
      "Frame number:  983\n",
      "Frame number:  984\n",
      "Frame number:  985\n"
     ]
    },
    {
     "name": "stderr",
     "output_type": "stream",
     "text": [
      "\u001b[A\n",
      " 78%|███████▊  | 986/1261 [01:35<00:25, 10.72it/s]\u001b[A"
     ]
    },
    {
     "name": "stdout",
     "output_type": "stream",
     "text": [
      "Frame number:  986\n",
      "Frame number:  987\n",
      "Frame number:  988\n"
     ]
    },
    {
     "name": "stderr",
     "output_type": "stream",
     "text": [
      "\n",
      " 78%|███████▊  | 988/1261 [01:35<00:24, 10.93it/s]\u001b[A\n",
      " 79%|███████▊  | 990/1261 [01:35<00:24, 11.02it/s]"
     ]
    },
    {
     "name": "stdout",
     "output_type": "stream",
     "text": [
      "Frame number:  989\n",
      "Frame number:  990\n",
      "Frame number:  991\n"
     ]
    },
    {
     "name": "stderr",
     "output_type": "stream",
     "text": [
      "\u001b[A\n",
      " 79%|███████▊  | 992/1261 [01:35<00:24, 11.10it/s]\u001b[A"
     ]
    },
    {
     "name": "stdout",
     "output_type": "stream",
     "text": [
      "Frame number:  992\n",
      "Frame number:  993\n",
      "Frame number:  994\n"
     ]
    },
    {
     "name": "stderr",
     "output_type": "stream",
     "text": [
      "\n",
      " 79%|███████▉  | 994/1261 [01:35<00:25, 10.59it/s]\u001b[A\n",
      " 79%|███████▉  | 996/1261 [01:36<00:24, 10.61it/s]"
     ]
    },
    {
     "name": "stdout",
     "output_type": "stream",
     "text": [
      "Frame number:  995\n",
      "Frame number:  996\n",
      "Frame number:  997\n"
     ]
    },
    {
     "name": "stderr",
     "output_type": "stream",
     "text": [
      "\u001b[A\n",
      " 79%|███████▉  | 998/1261 [01:36<00:25, 10.37it/s]"
     ]
    },
    {
     "name": "stdout",
     "output_type": "stream",
     "text": [
      "Frame number:  998\n",
      "Frame number:  999\n"
     ]
    },
    {
     "name": "stderr",
     "output_type": "stream",
     "text": [
      "\u001b[A\n",
      " 79%|███████▉  | 1000/1261 [01:36<00:25, 10.30it/s]\u001b[A"
     ]
    },
    {
     "name": "stdout",
     "output_type": "stream",
     "text": [
      "Frame number:  1000\n",
      "Frame number:  1001\n",
      "Frame number:  1002\n"
     ]
    },
    {
     "name": "stderr",
     "output_type": "stream",
     "text": [
      "\n",
      " 79%|███████▉  | 1002/1261 [01:36<00:24, 10.57it/s]\u001b[A\n",
      " 80%|███████▉  | 1004/1261 [01:36<00:24, 10.60it/s]"
     ]
    },
    {
     "name": "stdout",
     "output_type": "stream",
     "text": [
      "Frame number:  1003\n",
      "Frame number:  1004\n",
      "Frame number:  1005\n"
     ]
    },
    {
     "name": "stderr",
     "output_type": "stream",
     "text": [
      "\u001b[A\n",
      " 80%|███████▉  | 1006/1261 [01:36<00:24, 10.43it/s]\u001b[A"
     ]
    },
    {
     "name": "stdout",
     "output_type": "stream",
     "text": [
      "Frame number:  1006\n",
      "Frame number:  1007\n",
      "Frame number:  1008\n"
     ]
    },
    {
     "name": "stderr",
     "output_type": "stream",
     "text": [
      "\n",
      " 80%|███████▉  | 1008/1261 [01:37<00:24, 10.41it/s]\u001b[A"
     ]
    },
    {
     "name": "stdout",
     "output_type": "stream",
     "text": [
      "Frame number:  1009\n",
      "Frame number:  1010\n",
      "Frame number:  1011\n"
     ]
    },
    {
     "name": "stderr",
     "output_type": "stream",
     "text": [
      "\n",
      " 80%|████████  | 1010/1261 [01:37<00:24, 10.31it/s]\u001b[A\n",
      " 80%|████████  | 1012/1261 [01:37<00:24, 10.35it/s]\u001b[A"
     ]
    },
    {
     "name": "stdout",
     "output_type": "stream",
     "text": [
      "Frame number:  1012\n",
      "Frame number:  1013\n",
      "Frame number:  1014\n"
     ]
    },
    {
     "name": "stderr",
     "output_type": "stream",
     "text": [
      "\n",
      " 80%|████████  | 1014/1261 [01:37<00:23, 10.35it/s]\u001b[A"
     ]
    },
    {
     "name": "stdout",
     "output_type": "stream",
     "text": [
      "Frame number:  1015\n",
      "Frame number:  1016\n"
     ]
    },
    {
     "name": "stderr",
     "output_type": "stream",
     "text": [
      "\n",
      "\r",
      " 81%|████████  | 1016/1261 [01:37<00:23, 10.23it/s]"
     ]
    },
    {
     "name": "stdout",
     "output_type": "stream",
     "text": [
      "Frame number:  1017\n",
      "Frame number:  1018\n"
     ]
    },
    {
     "name": "stderr",
     "output_type": "stream",
     "text": [
      "\u001b[A\n",
      " 81%|████████  | 1018/1261 [01:38<00:24, 10.07it/s]"
     ]
    },
    {
     "name": "stdout",
     "output_type": "stream",
     "text": [
      "Frame number:  1019\n",
      "Frame number:  1020\n"
     ]
    },
    {
     "name": "stderr",
     "output_type": "stream",
     "text": [
      "\u001b[A\n",
      " 81%|████████  | 1020/1261 [01:38<00:25,  9.44it/s]"
     ]
    },
    {
     "name": "stdout",
     "output_type": "stream",
     "text": [
      "Frame number:  1021\n",
      "Frame number:  1022\n"
     ]
    },
    {
     "name": "stderr",
     "output_type": "stream",
     "text": [
      "\u001b[A\n",
      " 81%|████████  | 1022/1261 [01:38<00:25,  9.20it/s]\u001b[A\n",
      " 81%|████████  | 1024/1261 [01:38<00:24,  9.79it/s]"
     ]
    },
    {
     "name": "stdout",
     "output_type": "stream",
     "text": [
      "Frame number:  1023\n",
      "Frame number:  1024\n",
      "Frame number:  1025\n"
     ]
    },
    {
     "name": "stderr",
     "output_type": "stream",
     "text": [
      "\u001b[A\n",
      " 81%|████████▏ | 1025/1261 [01:38<00:25,  9.34it/s]\u001b[A\n",
      " 81%|████████▏ | 1026/1261 [01:39<00:25,  9.34it/s]"
     ]
    },
    {
     "name": "stdout",
     "output_type": "stream",
     "text": [
      "Frame number:  1026\n",
      "Frame number:  1027\n"
     ]
    },
    {
     "name": "stderr",
     "output_type": "stream",
     "text": [
      "\u001b[A\n",
      " 82%|████████▏ | 1028/1261 [01:39<00:24,  9.58it/s]\u001b[A"
     ]
    },
    {
     "name": "stdout",
     "output_type": "stream",
     "text": [
      "Frame number:  1028\n",
      "Frame number:  1029\n",
      "Frame number:  1030\n"
     ]
    },
    {
     "name": "stderr",
     "output_type": "stream",
     "text": [
      "\n",
      " 82%|████████▏ | 1030/1261 [01:39<00:23,  9.64it/s]\u001b[A\n",
      " 82%|████████▏ | 1031/1261 [01:39<00:23,  9.66it/s]"
     ]
    },
    {
     "name": "stdout",
     "output_type": "stream",
     "text": [
      "Frame number:  1031\n",
      "Frame number:  1032\n",
      "Frame number:  1033\n"
     ]
    },
    {
     "name": "stderr",
     "output_type": "stream",
     "text": [
      "\u001b[A\n",
      " 82%|████████▏ | 1033/1261 [01:39<00:22, 10.06it/s]\u001b[A"
     ]
    },
    {
     "name": "stdout",
     "output_type": "stream",
     "text": [
      "Frame number:  1034\n",
      "Frame number:  1035\n"
     ]
    },
    {
     "name": "stderr",
     "output_type": "stream",
     "text": [
      "\n",
      " 82%|████████▏ | 1035/1261 [01:39<00:24,  9.25it/s]\u001b[A\n",
      " 82%|████████▏ | 1037/1261 [01:40<00:23,  9.60it/s]"
     ]
    },
    {
     "name": "stdout",
     "output_type": "stream",
     "text": [
      "Frame number:  1036\n",
      "Frame number:  1037\n",
      "Frame number:  1038\n"
     ]
    },
    {
     "name": "stderr",
     "output_type": "stream",
     "text": [
      "\u001b[A\n",
      " 82%|████████▏ | 1038/1261 [01:40<00:23,  9.30it/s]\u001b[A\n",
      " 82%|████████▏ | 1039/1261 [01:40<00:23,  9.29it/s]"
     ]
    },
    {
     "name": "stdout",
     "output_type": "stream",
     "text": [
      "Frame number:  1039\n",
      "Frame number:  1040\n",
      "Frame number:  1041\n"
     ]
    },
    {
     "name": "stderr",
     "output_type": "stream",
     "text": [
      "\u001b[A\n",
      " 83%|████████▎ | 1041/1261 [01:40<00:22,  9.66it/s]\u001b[A\n",
      " 83%|████████▎ | 1042/1261 [01:40<00:24,  9.06it/s]"
     ]
    },
    {
     "name": "stdout",
     "output_type": "stream",
     "text": [
      "Frame number:  1042\n",
      "Frame number:  1043\n"
     ]
    },
    {
     "name": "stderr",
     "output_type": "stream",
     "text": [
      "\u001b[A\n",
      " 83%|████████▎ | 1043/1261 [01:40<00:25,  8.70it/s]\u001b[A\n",
      " 83%|████████▎ | 1044/1261 [01:40<00:24,  8.84it/s]"
     ]
    },
    {
     "name": "stdout",
     "output_type": "stream",
     "text": [
      "Frame number:  1044\n",
      "Frame number:  1045\n"
     ]
    },
    {
     "name": "stderr",
     "output_type": "stream",
     "text": [
      "\u001b[A\n",
      " 83%|████████▎ | 1045/1261 [01:41<00:24,  8.81it/s]\u001b[A\n",
      " 83%|████████▎ | 1046/1261 [01:41<00:24,  8.91it/s]"
     ]
    },
    {
     "name": "stdout",
     "output_type": "stream",
     "text": [
      "Frame number:  1046\n",
      "Frame number:  1047\n"
     ]
    },
    {
     "name": "stderr",
     "output_type": "stream",
     "text": [
      "\u001b[A\n",
      " 83%|████████▎ | 1047/1261 [01:41<00:24,  8.67it/s]\u001b[A\n",
      " 83%|████████▎ | 1048/1261 [01:41<00:24,  8.57it/s]"
     ]
    },
    {
     "name": "stdout",
     "output_type": "stream",
     "text": [
      "Frame number:  1048\n",
      "Frame number:  1049\n"
     ]
    },
    {
     "name": "stderr",
     "output_type": "stream",
     "text": [
      "\u001b[A\n",
      " 83%|████████▎ | 1049/1261 [01:41<00:25,  8.37it/s]\u001b[A\n",
      " 83%|████████▎ | 1051/1261 [01:41<00:23,  8.87it/s]"
     ]
    },
    {
     "name": "stdout",
     "output_type": "stream",
     "text": [
      "Frame number:  1050\n",
      "Frame number:  1051\n",
      "Frame number:  1052\n"
     ]
    },
    {
     "name": "stderr",
     "output_type": "stream",
     "text": [
      "\u001b[A\n",
      " 83%|████████▎ | 1052/1261 [01:41<00:23,  9.01it/s]\u001b[A\n",
      " 84%|████████▎ | 1053/1261 [01:41<00:23,  8.86it/s]"
     ]
    },
    {
     "name": "stdout",
     "output_type": "stream",
     "text": [
      "Frame number:  1053\n",
      "Frame number:  1054\n"
     ]
    },
    {
     "name": "stderr",
     "output_type": "stream",
     "text": [
      "\u001b[A\n",
      " 84%|████████▎ | 1054/1261 [01:42<00:22,  9.15it/s]\u001b[A"
     ]
    },
    {
     "name": "stdout",
     "output_type": "stream",
     "text": [
      "Frame number:  1055\n",
      "Frame number:  1056\n"
     ]
    },
    {
     "name": "stderr",
     "output_type": "stream",
     "text": [
      "\n",
      " 84%|████████▎ | 1056/1261 [01:42<00:23,  8.88it/s]\u001b[A\n",
      " 84%|████████▍ | 1058/1261 [01:42<00:21,  9.32it/s]"
     ]
    },
    {
     "name": "stdout",
     "output_type": "stream",
     "text": [
      "Frame number:  1057\n",
      "Frame number:  1058\n",
      "Frame number:  1059\n"
     ]
    },
    {
     "name": "stderr",
     "output_type": "stream",
     "text": [
      "\u001b[A\n",
      " 84%|████████▍ | 1060/1261 [01:42<00:21,  9.45it/s]"
     ]
    },
    {
     "name": "stdout",
     "output_type": "stream",
     "text": [
      "Frame number:  1060\n",
      "Frame number:  1061\n"
     ]
    },
    {
     "name": "stderr",
     "output_type": "stream",
     "text": [
      "\u001b[A\n",
      " 84%|████████▍ | 1061/1261 [01:42<00:22,  9.02it/s]\u001b[A\n",
      " 84%|████████▍ | 1062/1261 [01:42<00:22,  8.92it/s]"
     ]
    },
    {
     "name": "stdout",
     "output_type": "stream",
     "text": [
      "Frame number:  1062\n",
      "Frame number:  1063\n"
     ]
    },
    {
     "name": "stderr",
     "output_type": "stream",
     "text": [
      "\u001b[A\n",
      " 84%|████████▍ | 1063/1261 [01:43<00:21,  9.04it/s]\u001b[A\n",
      " 84%|████████▍ | 1064/1261 [01:43<00:22,  8.67it/s]"
     ]
    },
    {
     "name": "stdout",
     "output_type": "stream",
     "text": [
      "Frame number:  1064\n",
      "Frame number:  1065\n"
     ]
    },
    {
     "name": "stderr",
     "output_type": "stream",
     "text": [
      "\u001b[A\n",
      " 84%|████████▍ | 1065/1261 [01:43<00:23,  8.27it/s]\u001b[A\n",
      " 85%|████████▍ | 1066/1261 [01:43<00:22,  8.58it/s]"
     ]
    },
    {
     "name": "stdout",
     "output_type": "stream",
     "text": [
      "Frame number:  1066\n",
      "Frame number:  1067\n"
     ]
    },
    {
     "name": "stderr",
     "output_type": "stream",
     "text": [
      "\u001b[A\n",
      " 85%|████████▍ | 1067/1261 [01:43<00:22,  8.65it/s]\u001b[A\n",
      " 85%|████████▍ | 1068/1261 [01:43<00:22,  8.57it/s]"
     ]
    },
    {
     "name": "stdout",
     "output_type": "stream",
     "text": [
      "Frame number:  1068\n",
      "Frame number:  1069\n"
     ]
    },
    {
     "name": "stderr",
     "output_type": "stream",
     "text": [
      "\u001b[A\n",
      " 85%|████████▍ | 1069/1261 [01:43<00:22,  8.58it/s]\u001b[A\n",
      " 85%|████████▍ | 1070/1261 [01:43<00:21,  8.77it/s]"
     ]
    },
    {
     "name": "stdout",
     "output_type": "stream",
     "text": [
      "Frame number:  1070\n",
      "Frame number:  1071\n",
      "Frame number:  1072\n"
     ]
    },
    {
     "name": "stderr",
     "output_type": "stream",
     "text": [
      "\u001b[A\n",
      " 85%|████████▌ | 1072/1261 [01:44<00:20,  9.15it/s]\u001b[A"
     ]
    },
    {
     "name": "stdout",
     "output_type": "stream",
     "text": [
      "Frame number:  1073\n",
      "Frame number:  1074\n"
     ]
    },
    {
     "name": "stderr",
     "output_type": "stream",
     "text": [
      "\n",
      " 85%|████████▌ | 1074/1261 [01:44<00:20,  9.16it/s]\u001b[A\n",
      " 85%|████████▌ | 1075/1261 [01:44<00:20,  8.95it/s]"
     ]
    },
    {
     "name": "stdout",
     "output_type": "stream",
     "text": [
      "Frame number:  1075\n",
      "Frame number:  1076\n"
     ]
    },
    {
     "name": "stderr",
     "output_type": "stream",
     "text": [
      "\u001b[A\n",
      " 85%|████████▌ | 1076/1261 [01:44<00:21,  8.69it/s]\u001b[A\n",
      " 85%|████████▌ | 1077/1261 [01:44<00:21,  8.71it/s]"
     ]
    },
    {
     "name": "stdout",
     "output_type": "stream",
     "text": [
      "Frame number:  1077\n",
      "Frame number:  1078\n"
     ]
    },
    {
     "name": "stderr",
     "output_type": "stream",
     "text": [
      "\u001b[A\n",
      " 85%|████████▌ | 1078/1261 [01:44<00:20,  8.87it/s]\u001b[A\n",
      " 86%|████████▌ | 1079/1261 [01:44<00:20,  8.78it/s]"
     ]
    },
    {
     "name": "stdout",
     "output_type": "stream",
     "text": [
      "Frame number:  1079\n",
      "Frame number:  1080\n"
     ]
    },
    {
     "name": "stderr",
     "output_type": "stream",
     "text": [
      "\u001b[A\n",
      " 86%|████████▌ | 1080/1261 [01:44<00:21,  8.40it/s]\u001b[A\n",
      " 86%|████████▌ | 1081/1261 [01:45<00:22,  8.06it/s]"
     ]
    },
    {
     "name": "stdout",
     "output_type": "stream",
     "text": [
      "Frame number:  1081\n",
      "Frame number:  1082\n"
     ]
    },
    {
     "name": "stderr",
     "output_type": "stream",
     "text": [
      "\u001b[A\n",
      " 86%|████████▌ | 1083/1261 [01:45<00:20,  8.70it/s]\u001b[A"
     ]
    },
    {
     "name": "stdout",
     "output_type": "stream",
     "text": [
      "Frame number:  1083\n",
      "Frame number:  1084\n"
     ]
    },
    {
     "name": "stderr",
     "output_type": "stream",
     "text": [
      "\n",
      " 86%|████████▌ | 1084/1261 [01:45<00:19,  8.93it/s]\u001b[A\n",
      " 86%|████████▌ | 1085/1261 [01:45<00:20,  8.65it/s]"
     ]
    },
    {
     "name": "stdout",
     "output_type": "stream",
     "text": [
      "Frame number:  1085\n",
      "Frame number:  1086\n"
     ]
    },
    {
     "name": "stderr",
     "output_type": "stream",
     "text": [
      "\u001b[A\n",
      " 86%|████████▌ | 1087/1261 [01:45<00:19,  9.04it/s]"
     ]
    },
    {
     "name": "stdout",
     "output_type": "stream",
     "text": [
      "Frame number:  1087\n",
      "Frame number:  1088\n"
     ]
    },
    {
     "name": "stderr",
     "output_type": "stream",
     "text": [
      "\u001b[A\n",
      " 86%|████████▋ | 1088/1261 [01:45<00:19,  8.95it/s]\u001b[A\n",
      " 86%|████████▋ | 1089/1261 [01:45<00:19,  8.68it/s]"
     ]
    },
    {
     "name": "stdout",
     "output_type": "stream",
     "text": [
      "Frame number:  1089\n",
      "Frame number:  1090\n"
     ]
    },
    {
     "name": "stderr",
     "output_type": "stream",
     "text": [
      "\u001b[A\n",
      " 86%|████████▋ | 1090/1261 [01:46<00:19,  8.69it/s]\u001b[A\n",
      " 87%|████████▋ | 1091/1261 [01:46<00:19,  8.82it/s]"
     ]
    },
    {
     "name": "stdout",
     "output_type": "stream",
     "text": [
      "Frame number:  1091\n",
      "Frame number:  1092\n"
     ]
    },
    {
     "name": "stderr",
     "output_type": "stream",
     "text": [
      "\u001b[A\n",
      " 87%|████████▋ | 1092/1261 [01:46<00:19,  8.81it/s]\u001b[A\n",
      " 87%|████████▋ | 1093/1261 [01:46<00:19,  8.83it/s]"
     ]
    },
    {
     "name": "stdout",
     "output_type": "stream",
     "text": [
      "Frame number:  1093\n",
      "Frame number:  1094\n"
     ]
    },
    {
     "name": "stderr",
     "output_type": "stream",
     "text": [
      "\u001b[A\n",
      " 87%|████████▋ | 1094/1261 [01:46<00:18,  9.10it/s]\u001b[A\n",
      " 87%|████████▋ | 1096/1261 [01:46<00:17,  9.47it/s]"
     ]
    },
    {
     "name": "stdout",
     "output_type": "stream",
     "text": [
      "Frame number:  1095\n",
      "Frame number:  1096\n",
      "Frame number:  1097\n"
     ]
    },
    {
     "name": "stderr",
     "output_type": "stream",
     "text": [
      "\u001b[A\n",
      " 87%|████████▋ | 1097/1261 [01:46<00:17,  9.19it/s]\u001b[A\n",
      " 87%|████████▋ | 1098/1261 [01:46<00:18,  8.92it/s]"
     ]
    },
    {
     "name": "stdout",
     "output_type": "stream",
     "text": [
      "Frame number:  1098\n",
      "Frame number:  1099\n"
     ]
    },
    {
     "name": "stderr",
     "output_type": "stream",
     "text": [
      "\u001b[A\n",
      " 87%|████████▋ | 1099/1261 [01:47<00:18,  8.62it/s]\u001b[A"
     ]
    },
    {
     "name": "stdout",
     "output_type": "stream",
     "text": [
      "Frame number:  1100\n",
      "Frame number:  1101\n"
     ]
    },
    {
     "name": "stderr",
     "output_type": "stream",
     "text": [
      "\n",
      " 87%|████████▋ | 1101/1261 [01:47<00:18,  8.77it/s]\u001b[A\n",
      " 87%|████████▋ | 1102/1261 [01:47<00:18,  8.72it/s]"
     ]
    },
    {
     "name": "stdout",
     "output_type": "stream",
     "text": [
      "Frame number:  1102\n",
      "Frame number:  1103\n"
     ]
    },
    {
     "name": "stderr",
     "output_type": "stream",
     "text": [
      "\u001b[A\n",
      " 87%|████████▋ | 1103/1261 [01:47<00:17,  9.01it/s]\u001b[A"
     ]
    },
    {
     "name": "stdout",
     "output_type": "stream",
     "text": [
      "Frame number:  1104\n",
      "Frame number:  1105\n",
      "Frame number:  1106\n"
     ]
    },
    {
     "name": "stderr",
     "output_type": "stream",
     "text": [
      "\n",
      " 88%|████████▊ | 1105/1261 [01:47<00:16,  9.31it/s]\u001b[A\n",
      " 88%|████████▊ | 1107/1261 [01:47<00:15,  9.84it/s]\u001b[A"
     ]
    },
    {
     "name": "stdout",
     "output_type": "stream",
     "text": [
      "Frame number:  1107\n",
      "Frame number:  1108\n",
      "Frame number:  1109\n"
     ]
    },
    {
     "name": "stderr",
     "output_type": "stream",
     "text": [
      "\n",
      " 88%|████████▊ | 1109/1261 [01:48<00:15,  9.53it/s]\u001b[A\n",
      " 88%|████████▊ | 1111/1261 [01:48<00:14, 10.06it/s]"
     ]
    },
    {
     "name": "stdout",
     "output_type": "stream",
     "text": [
      "Frame number:  1110\n",
      "Frame number:  1111\n",
      "Frame number:  1112\n"
     ]
    },
    {
     "name": "stderr",
     "output_type": "stream",
     "text": [
      "\u001b[A\n",
      " 88%|████████▊ | 1113/1261 [01:48<00:14, 10.05it/s]\u001b[A"
     ]
    },
    {
     "name": "stdout",
     "output_type": "stream",
     "text": [
      "Frame number:  1113\n",
      "Frame number:  1114\n",
      "Frame number:  1115\n"
     ]
    },
    {
     "name": "stderr",
     "output_type": "stream",
     "text": [
      "\n",
      " 88%|████████▊ | 1115/1261 [01:48<00:13, 10.68it/s]\u001b[A"
     ]
    },
    {
     "name": "stdout",
     "output_type": "stream",
     "text": [
      "Frame number:  1116\n",
      "Frame number:  1117\n"
     ]
    },
    {
     "name": "stderr",
     "output_type": "stream",
     "text": [
      "\n",
      " 89%|████████▊ | 1117/1261 [01:48<00:14, 10.16it/s]\u001b[A\n",
      " 89%|████████▊ | 1119/1261 [01:49<00:13, 10.81it/s]"
     ]
    },
    {
     "name": "stdout",
     "output_type": "stream",
     "text": [
      "Frame number:  1118\n",
      "Frame number:  1119\n",
      "Frame number:  1120\n"
     ]
    },
    {
     "name": "stderr",
     "output_type": "stream",
     "text": [
      "\u001b[A\n",
      " 89%|████████▉ | 1121/1261 [01:49<00:13, 10.64it/s]\u001b[A"
     ]
    },
    {
     "name": "stdout",
     "output_type": "stream",
     "text": [
      "Frame number:  1121\n",
      "Frame number:  1122\n",
      "Frame number:  1123\n"
     ]
    },
    {
     "name": "stderr",
     "output_type": "stream",
     "text": [
      "\n",
      " 89%|████████▉ | 1123/1261 [01:49<00:12, 10.66it/s]\u001b[A"
     ]
    },
    {
     "name": "stdout",
     "output_type": "stream",
     "text": [
      "Frame number:  1124\n",
      "Frame number:  1125\n"
     ]
    },
    {
     "name": "stderr",
     "output_type": "stream",
     "text": [
      "\n",
      "\r",
      " 89%|████████▉ | 1125/1261 [01:49<00:13, 10.38it/s]"
     ]
    },
    {
     "name": "stdout",
     "output_type": "stream",
     "text": [
      "Frame number:  1126\n",
      "Frame number:  1127\n",
      "Frame number:  1128\n"
     ]
    },
    {
     "name": "stderr",
     "output_type": "stream",
     "text": [
      "\u001b[A\n",
      " 89%|████████▉ | 1127/1261 [01:49<00:13, 10.09it/s]\u001b[A\n",
      " 90%|████████▉ | 1129/1261 [01:50<00:12, 10.31it/s]\u001b[A"
     ]
    },
    {
     "name": "stdout",
     "output_type": "stream",
     "text": [
      "Frame number:  1129\n",
      "Frame number:  1130\n"
     ]
    },
    {
     "name": "stderr",
     "output_type": "stream",
     "text": [
      "\n",
      " 90%|████████▉ | 1131/1261 [01:50<00:12, 10.28it/s]\u001b[A"
     ]
    },
    {
     "name": "stdout",
     "output_type": "stream",
     "text": [
      "Frame number:  1131\n",
      "Frame number:  1132\n",
      "Frame number:  1133\n"
     ]
    },
    {
     "name": "stderr",
     "output_type": "stream",
     "text": [
      "\n",
      " 90%|████████▉ | 1133/1261 [01:50<00:12,  9.95it/s]\u001b[A\n",
      " 90%|█████████ | 1135/1261 [01:50<00:12, 10.28it/s]"
     ]
    },
    {
     "name": "stdout",
     "output_type": "stream",
     "text": [
      "Frame number:  1134\n",
      "Frame number:  1135\n",
      "Frame number:  1136\n"
     ]
    },
    {
     "name": "stderr",
     "output_type": "stream",
     "text": [
      "\u001b[A\n",
      " 90%|█████████ | 1137/1261 [01:50<00:12, 10.13it/s]"
     ]
    },
    {
     "name": "stdout",
     "output_type": "stream",
     "text": [
      "Frame number:  1137\n",
      "Frame number:  1138\n"
     ]
    },
    {
     "name": "stderr",
     "output_type": "stream",
     "text": [
      "\u001b[A\n",
      " 90%|█████████ | 1139/1261 [01:51<00:12, 10.15it/s]\u001b[A"
     ]
    },
    {
     "name": "stdout",
     "output_type": "stream",
     "text": [
      "Frame number:  1139\n",
      "Frame number:  1140\n",
      "Frame number:  1141\n"
     ]
    },
    {
     "name": "stderr",
     "output_type": "stream",
     "text": [
      "\n",
      " 90%|█████████ | 1141/1261 [01:51<00:11, 10.56it/s]\u001b[A\n",
      " 91%|█████████ | 1143/1261 [01:51<00:11, 10.50it/s]"
     ]
    },
    {
     "name": "stdout",
     "output_type": "stream",
     "text": [
      "Frame number:  1142\n",
      "Frame number:  1143\n",
      "Frame number:  1144\n"
     ]
    },
    {
     "name": "stderr",
     "output_type": "stream",
     "text": [
      "\u001b[A\n",
      " 91%|█████████ | 1145/1261 [01:51<00:11, 10.42it/s]\u001b[A"
     ]
    },
    {
     "name": "stdout",
     "output_type": "stream",
     "text": [
      "Frame number:  1145\n",
      "Frame number:  1146\n"
     ]
    },
    {
     "name": "stderr",
     "output_type": "stream",
     "text": [
      "\n",
      " 91%|█████████ | 1147/1261 [01:51<00:10, 10.41it/s]\u001b[A"
     ]
    },
    {
     "name": "stdout",
     "output_type": "stream",
     "text": [
      "Frame number:  1147\n",
      "Frame number:  1148\n",
      "Frame number:  1149\n"
     ]
    },
    {
     "name": "stderr",
     "output_type": "stream",
     "text": [
      "\n",
      "\r",
      " 91%|█████████ | 1149/1261 [01:51<00:11, 10.16it/s]"
     ]
    },
    {
     "name": "stdout",
     "output_type": "stream",
     "text": [
      "Frame number:  1150\n",
      "Frame number:  1151\n",
      "Frame number:  1152\n"
     ]
    },
    {
     "name": "stderr",
     "output_type": "stream",
     "text": [
      "\u001b[A\n",
      " 91%|█████████▏| 1151/1261 [01:52<00:10, 10.11it/s]\u001b[A\n",
      " 91%|█████████▏| 1153/1261 [01:52<00:10, 10.08it/s]\u001b[A"
     ]
    },
    {
     "name": "stdout",
     "output_type": "stream",
     "text": [
      "Frame number:  1153\n",
      "Frame number:  1154\n"
     ]
    },
    {
     "name": "stderr",
     "output_type": "stream",
     "text": [
      "\n",
      " 92%|█████████▏| 1155/1261 [01:52<00:10, 10.24it/s]\u001b[A"
     ]
    },
    {
     "name": "stdout",
     "output_type": "stream",
     "text": [
      "Frame number:  1155\n",
      "Frame number:  1156\n",
      "Frame number:  1157\n"
     ]
    },
    {
     "name": "stderr",
     "output_type": "stream",
     "text": [
      "\n",
      " 92%|█████████▏| 1157/1261 [01:52<00:10, 10.24it/s]\u001b[A"
     ]
    },
    {
     "name": "stdout",
     "output_type": "stream",
     "text": [
      "Frame number:  1158\n",
      "Frame number:  1159\n"
     ]
    },
    {
     "name": "stderr",
     "output_type": "stream",
     "text": [
      "\n",
      " 92%|█████████▏| 1159/1261 [01:52<00:10,  9.80it/s]\u001b[A\n",
      " 92%|█████████▏| 1160/1261 [01:53<00:10,  9.86it/s]"
     ]
    },
    {
     "name": "stdout",
     "output_type": "stream",
     "text": [
      "Frame number:  1160\n",
      "Frame number:  1161\n"
     ]
    },
    {
     "name": "stderr",
     "output_type": "stream",
     "text": [
      "\u001b[A\n",
      " 92%|█████████▏| 1161/1261 [01:53<00:10,  9.68it/s]\u001b[A\n",
      " 92%|█████████▏| 1163/1261 [01:53<00:09, 10.43it/s]"
     ]
    },
    {
     "name": "stdout",
     "output_type": "stream",
     "text": [
      "Frame number:  1162\n",
      "Frame number:  1163\n",
      "Frame number:  1164\n"
     ]
    },
    {
     "name": "stderr",
     "output_type": "stream",
     "text": [
      "\u001b[A\n",
      " 92%|█████████▏| 1165/1261 [01:53<00:09, 10.15it/s]"
     ]
    },
    {
     "name": "stdout",
     "output_type": "stream",
     "text": [
      "Frame number:  1165\n",
      "Frame number:  1166\n"
     ]
    },
    {
     "name": "stderr",
     "output_type": "stream",
     "text": [
      "\u001b[A\n",
      " 93%|█████████▎| 1167/1261 [01:53<00:09, 10.19it/s]\u001b[A"
     ]
    },
    {
     "name": "stdout",
     "output_type": "stream",
     "text": [
      "Frame number:  1167\n",
      "Frame number:  1168\n",
      "Frame number:  1169\n"
     ]
    },
    {
     "name": "stderr",
     "output_type": "stream",
     "text": [
      "\n",
      " 93%|█████████▎| 1169/1261 [01:53<00:08, 10.24it/s]\u001b[A\n",
      " 93%|█████████▎| 1171/1261 [01:54<00:08, 10.63it/s]"
     ]
    },
    {
     "name": "stdout",
     "output_type": "stream",
     "text": [
      "Frame number:  1170\n",
      "Frame number:  1171\n",
      "Frame number:  1172\n"
     ]
    },
    {
     "name": "stderr",
     "output_type": "stream",
     "text": [
      "\u001b[A\n",
      " 93%|█████████▎| 1173/1261 [01:54<00:08,  9.90it/s]"
     ]
    },
    {
     "name": "stdout",
     "output_type": "stream",
     "text": [
      "Frame number:  1173\n",
      "Frame number:  1174\n"
     ]
    },
    {
     "name": "stderr",
     "output_type": "stream",
     "text": [
      "\u001b[A\n",
      " 93%|█████████▎| 1175/1261 [01:54<00:08, 10.17it/s]\u001b[A"
     ]
    },
    {
     "name": "stdout",
     "output_type": "stream",
     "text": [
      "Frame number:  1175\n",
      "Frame number:  1176\n",
      "Frame number:  1177\n"
     ]
    },
    {
     "name": "stderr",
     "output_type": "stream",
     "text": [
      "\n",
      " 93%|█████████▎| 1177/1261 [01:54<00:08,  9.87it/s]\u001b[A\n",
      " 93%|█████████▎| 1178/1261 [01:54<00:08,  9.76it/s]"
     ]
    },
    {
     "name": "stdout",
     "output_type": "stream",
     "text": [
      "Frame number:  1178\n",
      "Frame number:  1179\n",
      "Frame number:  1180\n"
     ]
    },
    {
     "name": "stderr",
     "output_type": "stream",
     "text": [
      "\u001b[A\n",
      " 94%|█████████▎| 1180/1261 [01:55<00:07, 10.42it/s]\u001b[A"
     ]
    },
    {
     "name": "stdout",
     "output_type": "stream",
     "text": [
      "Frame number:  1181\n",
      "Frame number:  1182\n"
     ]
    },
    {
     "name": "stderr",
     "output_type": "stream",
     "text": [
      "\n",
      " 94%|█████████▎| 1182/1261 [01:55<00:07,  9.96it/s]\u001b[A\n",
      " 94%|█████████▍| 1184/1261 [01:55<00:07, 10.48it/s]"
     ]
    },
    {
     "name": "stdout",
     "output_type": "stream",
     "text": [
      "Frame number:  1183\n",
      "Frame number:  1184\n",
      "Frame number:  1185\n"
     ]
    },
    {
     "name": "stderr",
     "output_type": "stream",
     "text": [
      "\u001b[A\n",
      " 94%|█████████▍| 1186/1261 [01:55<00:07, 10.14it/s]"
     ]
    },
    {
     "name": "stdout",
     "output_type": "stream",
     "text": [
      "Frame number:  1186\n",
      "Frame number:  1187\n",
      "Frame number:  1188\n"
     ]
    },
    {
     "name": "stderr",
     "output_type": "stream",
     "text": [
      "\u001b[A\n",
      " 94%|█████████▍| 1188/1261 [01:55<00:06, 10.54it/s]\u001b[A\n",
      " 94%|█████████▍| 1190/1261 [01:55<00:06, 10.67it/s]"
     ]
    },
    {
     "name": "stdout",
     "output_type": "stream",
     "text": [
      "Frame number:  1189\n",
      "Frame number:  1190\n",
      "Frame number:  1191\n"
     ]
    },
    {
     "name": "stderr",
     "output_type": "stream",
     "text": [
      "\u001b[A\n",
      " 95%|█████████▍| 1192/1261 [01:56<00:06, 10.63it/s]\u001b[A"
     ]
    },
    {
     "name": "stdout",
     "output_type": "stream",
     "text": [
      "Frame number:  1192\n",
      "Frame number:  1193\n",
      "Frame number: "
     ]
    },
    {
     "name": "stderr",
     "output_type": "stream",
     "text": [
      "\n",
      "\r",
      " 95%|█████████▍| 1194/1261 [01:56<00:06, 10.25it/s]"
     ]
    },
    {
     "name": "stdout",
     "output_type": "stream",
     "text": [
      " 1194\n",
      "Frame number:  1195\n",
      "Frame number:  1196\n"
     ]
    },
    {
     "name": "stderr",
     "output_type": "stream",
     "text": [
      "\u001b[A\n",
      " 95%|█████████▍| 1196/1261 [01:56<00:06, 10.71it/s]\u001b[A\n",
      " 95%|█████████▌| 1198/1261 [01:56<00:05, 10.75it/s]"
     ]
    },
    {
     "name": "stdout",
     "output_type": "stream",
     "text": [
      "Frame number:  1197\n",
      "Frame number:  1198\n",
      "Frame number:  1199\n"
     ]
    },
    {
     "name": "stderr",
     "output_type": "stream",
     "text": [
      "\u001b[A\n",
      " 95%|█████████▌| 1200/1261 [01:56<00:05, 11.07it/s]\u001b[A"
     ]
    },
    {
     "name": "stdout",
     "output_type": "stream",
     "text": [
      "Frame number:  1200\n",
      "Frame number:  1201\n",
      "Frame number:  1202\n"
     ]
    },
    {
     "name": "stderr",
     "output_type": "stream",
     "text": [
      "\n",
      " 95%|█████████▌| 1202/1261 [01:57<00:05, 10.74it/s]\u001b[A\n",
      " 95%|█████████▌| 1204/1261 [01:57<00:05, 10.96it/s]"
     ]
    },
    {
     "name": "stdout",
     "output_type": "stream",
     "text": [
      "Frame number:  1203\n",
      "Frame number:  1204\n",
      "Frame number:  1205\n"
     ]
    },
    {
     "name": "stderr",
     "output_type": "stream",
     "text": [
      "\u001b[A\n",
      " 96%|█████████▌| 1206/1261 [01:57<00:05, 10.88it/s]\u001b[A"
     ]
    },
    {
     "name": "stdout",
     "output_type": "stream",
     "text": [
      "Frame number:  1206\n",
      "Frame number:  1207\n",
      "Frame number:  1208\n"
     ]
    },
    {
     "name": "stderr",
     "output_type": "stream",
     "text": [
      "\n",
      " 96%|█████████▌| 1208/1261 [01:57<00:04, 11.24it/s]\u001b[A"
     ]
    },
    {
     "name": "stdout",
     "output_type": "stream",
     "text": [
      "Frame number:  1209\n",
      "Frame number:  1210\n",
      "Frame number:  1211\n"
     ]
    },
    {
     "name": "stderr",
     "output_type": "stream",
     "text": [
      "\n",
      " 96%|█████████▌| 1210/1261 [01:57<00:04, 10.93it/s]\u001b[A\n",
      " 96%|█████████▌| 1212/1261 [01:57<00:04, 11.10it/s]\u001b[A"
     ]
    },
    {
     "name": "stdout",
     "output_type": "stream",
     "text": [
      "Frame number:  1212\n",
      "Frame number:  1213\n",
      "Frame number:  1214\n"
     ]
    },
    {
     "name": "stderr",
     "output_type": "stream",
     "text": [
      "\n",
      " 96%|█████████▋| 1214/1261 [01:58<00:04, 11.13it/s]\u001b[A\n",
      " 96%|█████████▋| 1216/1261 [01:58<00:04, 11.08it/s]"
     ]
    },
    {
     "name": "stdout",
     "output_type": "stream",
     "text": [
      "Frame number:  1215\n",
      "Frame number:  1216\n",
      "Frame number:  1217\n"
     ]
    },
    {
     "name": "stderr",
     "output_type": "stream",
     "text": [
      "\u001b[A\n",
      " 97%|█████████▋| 1218/1261 [01:58<00:03, 10.95it/s]\u001b[A"
     ]
    },
    {
     "name": "stdout",
     "output_type": "stream",
     "text": [
      "Frame number:  1218\n",
      "Frame number:  1219\n",
      "Frame number:  1220\n"
     ]
    },
    {
     "name": "stderr",
     "output_type": "stream",
     "text": [
      "\n",
      " 97%|█████████▋| 1220/1261 [01:58<00:03, 11.07it/s]\u001b[A"
     ]
    },
    {
     "name": "stdout",
     "output_type": "stream",
     "text": [
      "Frame number:  1221\n",
      "Frame number:  1222\n",
      "Frame number:  1223\n"
     ]
    },
    {
     "name": "stderr",
     "output_type": "stream",
     "text": [
      "\n",
      " 97%|█████████▋| 1222/1261 [01:58<00:03, 10.82it/s]\u001b[A\n",
      " 97%|█████████▋| 1224/1261 [01:59<00:03, 11.03it/s]\u001b[A"
     ]
    },
    {
     "name": "stdout",
     "output_type": "stream",
     "text": [
      "Frame number:  1224\n",
      "Frame number:  1225\n",
      "Frame number:  1226\n"
     ]
    },
    {
     "name": "stderr",
     "output_type": "stream",
     "text": [
      "\n",
      " 97%|█████████▋| 1226/1261 [01:59<00:03, 10.91it/s]\u001b[A\n",
      " 97%|█████████▋| 1228/1261 [01:59<00:02, 11.01it/s]"
     ]
    },
    {
     "name": "stdout",
     "output_type": "stream",
     "text": [
      "Frame number:  1227\n",
      "Frame number:  1228\n",
      "Frame number:  1229\n"
     ]
    },
    {
     "name": "stderr",
     "output_type": "stream",
     "text": [
      "\u001b[A\n",
      " 98%|█████████▊| 1230/1261 [01:59<00:02, 10.82it/s]\u001b[A"
     ]
    },
    {
     "name": "stdout",
     "output_type": "stream",
     "text": [
      "Frame number:  1230\n",
      "Frame number:  1231\n",
      "Frame number:  1232\n"
     ]
    },
    {
     "name": "stderr",
     "output_type": "stream",
     "text": [
      "\n",
      " 98%|█████████▊| 1232/1261 [01:59<00:02, 11.07it/s]\u001b[A"
     ]
    },
    {
     "name": "stdout",
     "output_type": "stream",
     "text": [
      "Frame number:  1233\n",
      "Frame number:  1234\n"
     ]
    },
    {
     "name": "stderr",
     "output_type": "stream",
     "text": [
      "\n",
      " 98%|█████████▊| 1234/1261 [02:00<00:02, 10.41it/s]\u001b[A\n",
      " 98%|█████████▊| 1236/1261 [02:00<00:02, 10.77it/s]"
     ]
    },
    {
     "name": "stdout",
     "output_type": "stream",
     "text": [
      "Frame number:  1235\n",
      "Frame number:  1236\n",
      "Frame number:  1237\n"
     ]
    },
    {
     "name": "stderr",
     "output_type": "stream",
     "text": [
      "\u001b[A\n",
      " 98%|█████████▊| 1238/1261 [02:00<00:02, 10.26it/s]"
     ]
    },
    {
     "name": "stdout",
     "output_type": "stream",
     "text": [
      "Frame number:  1238\n",
      "Frame number:  1239\n",
      "Frame number:  1240\n"
     ]
    },
    {
     "name": "stderr",
     "output_type": "stream",
     "text": [
      "\u001b[A\n",
      " 98%|█████████▊| 1240/1261 [02:00<00:02, 10.49it/s]\u001b[A"
     ]
    },
    {
     "name": "stdout",
     "output_type": "stream",
     "text": [
      "Frame number:  1241\n",
      "Frame number:  1242\n"
     ]
    },
    {
     "name": "stderr",
     "output_type": "stream",
     "text": [
      "\n",
      " 98%|█████████▊| 1242/1261 [02:00<00:01, 10.15it/s]\u001b[A\n",
      " 99%|█████████▊| 1244/1261 [02:00<00:01, 10.66it/s]"
     ]
    },
    {
     "name": "stdout",
     "output_type": "stream",
     "text": [
      "Frame number:  1243\n",
      "Frame number:  1244\n",
      "Frame number:  1245\n"
     ]
    },
    {
     "name": "stderr",
     "output_type": "stream",
     "text": [
      "\u001b[A\n",
      " 99%|█████████▉| 1246/1261 [02:01<00:01, 10.33it/s]"
     ]
    },
    {
     "name": "stdout",
     "output_type": "stream",
     "text": [
      "Frame number:  1246\n",
      "Frame number:  1247\n",
      "Frame number:  1248\n"
     ]
    },
    {
     "name": "stderr",
     "output_type": "stream",
     "text": [
      "\u001b[A\n",
      " 99%|█████████▉| 1248/1261 [02:01<00:01, 10.68it/s]\u001b[A"
     ]
    },
    {
     "name": "stdout",
     "output_type": "stream",
     "text": [
      "Frame number:  1249\n",
      "Frame number:  1250\n"
     ]
    },
    {
     "name": "stderr",
     "output_type": "stream",
     "text": [
      "\n",
      "\r",
      " 99%|█████████▉| 1250/1261 [02:01<00:01,  9.79it/s]"
     ]
    },
    {
     "name": "stdout",
     "output_type": "stream",
     "text": [
      "Frame number:  1251\n",
      "Frame number:  1252\n"
     ]
    },
    {
     "name": "stderr",
     "output_type": "stream",
     "text": [
      "\u001b[A\n",
      " 99%|█████████▉| 1252/1261 [02:01<00:00,  9.83it/s]\u001b[A\n",
      " 99%|█████████▉| 1253/1261 [02:01<00:00,  9.00it/s]"
     ]
    },
    {
     "name": "stdout",
     "output_type": "stream",
     "text": [
      "Frame number:  1253\n",
      "Frame number:  1254\n"
     ]
    },
    {
     "name": "stderr",
     "output_type": "stream",
     "text": [
      "\u001b[A\n",
      " 99%|█████████▉| 1254/1261 [02:02<00:00,  8.95it/s]\u001b[A\n",
      "100%|█████████▉| 1256/1261 [02:02<00:00,  9.66it/s]"
     ]
    },
    {
     "name": "stdout",
     "output_type": "stream",
     "text": [
      "Frame number:  1255\n",
      "Frame number:  1256\n",
      "Frame number:  1257\n"
     ]
    },
    {
     "name": "stderr",
     "output_type": "stream",
     "text": [
      "\u001b[A\n",
      "100%|█████████▉| 1257/1261 [02:02<00:00,  9.58it/s]\u001b[A\n",
      "100%|█████████▉| 1259/1261 [02:02<00:00,  9.98it/s]"
     ]
    },
    {
     "name": "stdout",
     "output_type": "stream",
     "text": [
      "Frame number:  1258\n",
      "Frame number:  1259\n",
      "Frame number:  1260\n"
     ]
    },
    {
     "name": "stderr",
     "output_type": "stream",
     "text": [
      "\u001b[A\n",
      "100%|█████████▉| 1260/1261 [02:02<00:00, 10.28it/s]\u001b[A"
     ]
    },
    {
     "name": "stdout",
     "output_type": "stream",
     "text": [
      "Frame number:  1261\n",
      "[MoviePy] Done.\n",
      "[MoviePy] >>>> Video ready: output_videos/project_video.mp4 \n",
      "\n",
      "CPU times: user 10min 48s, sys: 3.4 s, total: 10min 52s\n",
      "Wall time: 2min 3s\n"
     ]
    }
   ],
   "source": [
    "src = np.float32([[595, 450], [685, 450], [269, 674], [1029, 674]]) # Trapzoid \n",
    "dst = np.float32([[269, 0], [1029, 0], [269, 720], [1029, 720]])  # Rectangal\n",
    "output = 'output_videos/project_video.mp4'\n",
    "#clip1 = VideoFileClip(\"project_video.mp4\").subclip(30,49)\n",
    "clip1 = VideoFileClip(\"project_video.mp4\")\n",
    "global_counter = 1\n",
    "clip = clip1.fl_image(process_image) #NOTE: this function expects color images!!\n",
    "%time clip.write_videofile(output, audio=False)"
   ]
  },
  {
   "cell_type": "markdown",
   "metadata": {},
   "source": [
    "## Play the video inline"
   ]
  },
  {
   "cell_type": "code",
   "execution_count": null,
   "metadata": {},
   "outputs": [],
   "source": [
    "HTML(\"\"\"\n",
    "<video width=\"960\" height=\"540\" controls>\n",
    "  <source src=\"{0}\">\n",
    "</video>\n",
    "\"\"\".format(output))"
   ]
  }
 ],
 "metadata": {
  "kernelspec": {
   "display_name": "Python 3",
   "language": "python",
   "name": "python3"
  },
  "language_info": {
   "codemirror_mode": {
    "name": "ipython",
    "version": 3
   },
   "file_extension": ".py",
   "mimetype": "text/x-python",
   "name": "python",
   "nbconvert_exporter": "python",
   "pygments_lexer": "ipython3",
   "version": "3.5.2"
  },
  "widgets": {
   "state": {},
   "version": "1.1.2"
  }
 },
 "nbformat": 4,
 "nbformat_minor": 2
}
